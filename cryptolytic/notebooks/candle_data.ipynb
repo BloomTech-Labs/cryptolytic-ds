{
 "cells": [
  {
   "cell_type": "code",
   "execution_count": 1,
   "metadata": {},
   "outputs": [],
   "source": [
    "# %load_ext autoreload\n",
    "# %autoreload 2\n",
    "# %cd ../..\n",
    "# # !pwd"
   ]
  },
  {
   "cell_type": "code",
   "execution_count": 2,
   "metadata": {},
   "outputs": [],
   "source": [
    "from cryptolytic.data import historical, sql\n",
    "import pandas as pd\n",
    "import json"
   ]
  },
  {
   "cell_type": "code",
   "execution_count": 3,
   "metadata": {},
   "outputs": [],
   "source": [
    "# historical.live_update()"
   ]
  },
  {
   "cell_type": "code",
   "execution_count": 4,
   "metadata": {},
   "outputs": [],
   "source": [
    "from cryptolytic import start"
   ]
  },
  {
   "cell_type": "code",
   "execution_count": 5,
   "metadata": {},
   "outputs": [],
   "source": [
    "start.init()"
   ]
  },
  {
   "cell_type": "code",
   "execution_count": 6,
   "metadata": {},
   "outputs": [
    {
     "name": "stdout",
     "output_type": "stream",
     "text": "hey\n{'dbname': 'postgres', 'user': 'postgres', 'password': 'cryptopass', 'host': 'cryptolytic-api.cdhijijveoad.us-west-1.rds.amazonaws.com', 'port': 5432}\nhey2\n[('public', 'candlesticks', 'postgres', None, True, False, False, False)]\n"
    }
   ],
   "source": [
    "sql.check_tables()"
   ]
  },
  {
   "cell_type": "code",
   "execution_count": 7,
   "metadata": {},
   "outputs": [
    {
     "data": {
      "text/plain": "'postgres'"
     },
     "execution_count": 7,
     "metadata": {},
     "output_type": "execute_result"
    }
   ],
   "source": [
    "import os\n",
    "os.getenv('POSTGRES_USERNAME')"
   ]
  },
  {
   "cell_type": "code",
   "execution_count": 8,
   "metadata": {},
   "outputs": [],
   "source": [
    "# AWS RDS database population and testing"
   ]
  },
  {
   "cell_type": "code",
   "execution_count": 17,
   "metadata": {},
   "outputs": [
    {
     "name": "stdout",
     "output_type": "stream",
     "text": "oetnsuh\nhttps://api-pub.bitfinex.com/v2/candles/trade:3h:tETHBTC/hist?limit=100&sort=-1\nbitfinex\n[1576692000000, 0.018554, 0.018539, 0.018571, 0.018535, 105.59549815]\nbitfinex\n[1576681200000, 0.01845, 0.01853, 0.018747, 0.018393, 2174.15619061]\nbitfinex\n[1576670400000, 0.018394, 0.018418, 0.018599, 0.018, 3500.90135291]\nbitfinex\n[1576659600000, 0.018372, 0.01839, 0.018605, 0.01835, 1472.35947558]\nbitfinex\n[1576648800000, 0.018481, 0.01837, 0.018507, 0.018296, 1040.40892059]\nbitfinex\n[1576638000000, 0.018625, 0.018485, 0.018647, 0.018468, 262.21190994]\nbitfinex\n[1576627200000, 0.018414, 0.01863, 0.018782, 0.0184, 985.94541963]\nbitfinex\n[1576616400000, 0.018374, 0.018413, 0.018546, 0.018192, 1134.05186867]\nbitfinex\n[1576605600000, 0.018981, 0.018377, 0.018996, 0.018299, 4526.8308880800005]\nbitfinex\n[1576594800000, 0.0191, 0.01897, 0.019102, 0.018877, 1359.61806368]\nbitfinex\n[1576584000000, 0.019071, 0.019082, 0.01933, 0.018846, 8685.20326786]\nbitfinex\n[1576573200000, 0.019087, 0.019072, 0.019171, 0.019063, 338.05186746]\nbitfinex\n[1576562400000, 0.019126, 0.01909, 0.019126, 0.019049, 564.78245868]\nbitfinex\n[1576551600000, 0.019204, 0.019126, 0.019204, 0.019069, 295.87672859]\nbitfinex\n[1576540800000, 0.01924, 0.019204, 0.01924, 0.0192, 684.02304319]\nbitfinex\n[1576530000000, 0.019168, 0.01924, 0.01925, 0.019065, 1760.52219623]\nbitfinex\n[1576519200000, 0.019873, 0.019127, 0.019873, 0.018853, 8313.12817575]\nbitfinex\n[1576508400000, 0.0199, 0.019873, 0.0199, 0.019857, 147.41866065]\nbitfinex\n[1576497600000, 0.019887, 0.019902, 0.019909, 0.019846, 902.1884423199999]\nbitfinex\n[1576486800000, 0.019946, 0.019886, 0.019946, 0.019859, 2783.52503743]\nbitfinex\n[1576476000000, 0.019993, 0.019947, 0.019999, 0.019849, 727.05708149]\nbitfinex\n[1576465200000, 0.019991, 0.019993, 0.019999, 0.019925, 304.72103588]\nbitfinex\n[1576454400000, 0.020012, 0.019989, 0.020064, 0.019989, 684.17686708]\nbitfinex\n[1576443600000, 0.020046, 0.020012, 0.020056, 0.020012, 426.8146939]\nbitfinex\n[1576432800000, 0.02008, 0.020045, 0.020096, 0.020045, 405.29804143]\nbitfinex\n[1576422000000, 0.020071, 0.02008, 0.020122, 0.020062, 520.65496255]\nbitfinex\n[1576411200000, 0.020092, 0.020071, 0.020152, 0.020051, 1485.13545091]\nbitfinex\n[1576400400000, 0.020062, 0.020092, 0.020094, 0.020048, 285.37766236]\nbitfinex\n[1576389600000, 0.019989, 0.020063, 0.020086, 0.019867, 1012.90350648]\nbitfinex\n[1576378800000, 0.019988, 0.019988, 0.019989, 0.019981, 98.0400982]\nbitfinex\n[1576368000000, 0.020068, 0.019989, 0.020096, 0.019926, 353.29135749]\nbitfinex\n[1576357200000, 0.020065, 0.020067, 0.020092, 0.020048, 150.93852284]\nbitfinex\n[1576346400000, 0.020099, 0.020072, 0.020109, 0.020066, 343.13349727]\nbitfinex\n[1576335600000, 0.019977, 0.020085, 0.020131, 0.019976, 601.1129931]\nbitfinex\n[1576324800000, 0.019931, 0.019978, 0.01999, 0.019909, 182.5333126]\nbitfinex\n[1576314000000, 0.019896, 0.019933, 0.019933, 0.019879, 163.26178939]\nbitfinex\n[1576303200000, 0.019887, 0.019895, 0.019913, 0.019781, 355.48398947]\nbitfinex\n[1576292400000, 0.019932, 0.019888, 0.019932, 0.019887, 132.79021837]\nbitfinex\n[1576281600000, 0.019976, 0.019916, 0.019982, 0.019913, 58.03385852]\nbitfinex\n[1576270800000, 0.019891, 0.01995, 0.019973, 0.019891, 62.86496802]\nbitfinex\n[1576260000000, 0.019902, 0.019891, 0.019978, 0.019855, 280.66781886]\nbitfinex\n[1576249200000, 0.019931, 0.019902, 0.019951, 0.01989, 698.00010504]\nbitfinex\n[1576238400000, 0.01998, 0.019931, 0.020007, 0.019931, 594.80542158]\nbitfinex\n[1576227600000, 0.019944, 0.01998, 0.019992, 0.019931, 874.76485694]\nbitfinex\n[1576216800000, 0.020015, 0.019946, 0.020026, 0.01983, 944.81380645]\nbitfinex\n[1576206000000, 0.020041, 0.020015, 0.020042, 0.020006, 98.31751726]\nbitfinex\n[1576195200000, 0.020125, 0.020041, 0.020132, 0.020041, 192.91407329]\nbitfinex\n[1576184400000, 0.020079, 0.020124, 0.02013, 0.020061, 299.47589217]\nbitfinex\n[1576173600000, 0.019993, 0.020078, 0.020187, 0.019993, 693.18578567]\nbitfinex\n[1576162800000, 0.019989, 0.019994, 0.020038, 0.019967, 435.49424649]\nbitfinex\n[1576152000000, 0.020032, 0.019997, 0.020076, 0.019884, 768.74672481]\nbitfinex\n[1576141200000, 0.019874, 0.020033, 0.020114, 0.019874, 2209.39457134]\nbitfinex\n[1576130400000, 0.01986, 0.019869, 0.019884, 0.019836, 139.44494198]\nbitfinex\n[1576119600000, 0.019851, 0.019859, 0.019904, 0.019835, 327.16572715]\nbitfinex\n[1576108800000, 0.019889, 0.019836, 0.019913, 0.019602, 1305.42768106]\nbitfinex\n[1576098000000, 0.019866, 0.01989, 0.0199, 0.019851, 663.09989297]\nbitfinex\n[1576087200000, 0.019914, 0.019866, 0.019914, 0.01982, 317.70587072]\nbitfinex\n[1576076400000, 0.020096, 0.019895, 0.020096, 0.01978, 2036.03065556]\nbitfinex\n[1576065600000, 0.020146, 0.020097, 0.02016, 0.020097, 417.81631774]\nbitfinex\n[1576054800000, 0.020173, 0.020146, 0.020182, 0.020137, 414.37393071]\nbitfinex\n[1576044000000, 0.020149, 0.020172, 0.020184, 0.020149, 725.19684541]\nbitfinex\n[1576033200000, 0.020149, 0.020139, 0.0202, 0.020139, 157.22362518]\nbitfinex\n[1576022400000, 0.020145, 0.020142, 0.020149, 0.020115, 21.28232961]\nbitfinex\n[1576011600000, 0.02007, 0.020135, 0.020145, 0.020039, 76.1447203]\nbitfinex\n[1576000800000, 0.020154, 0.020065, 0.020167, 0.020029, 270.26712332]\nbitfinex\n[1575990000000, 0.020017, 0.020155, 0.020156, 0.020003, 321.44076825]\nbitfinex\n[1575979200000, 0.020044, 0.020004, 0.020233, 0.020003, 909.07139537]\nbitfinex\n[1575968400000, 0.020111, 0.020042, 0.020119, 0.020028, 186.97284752]\nbitfinex\n[1575957600000, 0.020006, 0.020117, 0.020118, 0.019966, 178.41998986]\nbitfinex\n[1575946800000, 0.019965, 0.020011, 0.02003, 0.019932, 493.864508]\nbitfinex\n[1575936000000, 0.020077, 0.019962, 0.02013, 0.019932, 353.33300188]\nbitfinex\n[1575925200000, 0.020114, 0.020076, 0.020118, 0.020033, 201.75033619]\nbitfinex\n[1575914400000, 0.0199, 0.020107, 0.020121, 0.0199, 416.38716557]\nbitfinex\n[1575903600000, 0.019947, 0.0199, 0.020042, 0.019765, 2644.3640984099998]\nbitfinex\n[1575892800000, 0.019945, 0.019947, 0.020017, 0.019945, 1338.18653583]\nbitfinex\n[1575882000000, 0.01997, 0.019945, 0.019987, 0.019944, 80.49905466999999]\nbitfinex\n[1575871200000, 0.020041, 0.019976, 0.020047, 0.019969, 625.00071485]\nbitfinex\n[1575860400000, 0.02004, 0.02004, 0.020045, 0.019994, 47.94514049]\nbitfinex\n[1575849600000, 0.020021, 0.02004, 0.020076, 0.020002, 255.92070095]\nbitfinex\n[1575838800000, 0.020054, 0.020021, 0.020056, 0.020009, 195.47596862]\nbitfinex\n[1575828000000, 0.020049, 0.020054, 0.0201, 0.019986, 249.92854185000002]\nbitfinex\n[1575817200000, 0.019777, 0.020052, 0.020074, 0.019776, 1513.33239055]\nbitfinex\n[1575806400000, 0.019705, 0.019777, 0.019777, 0.019705, 350.18409389]\nbitfinex\n[1575795600000, 0.019804, 0.019705, 0.019877, 0.0197, 261.55273481]\nbitfinex\n[1575784800000, 0.019807, 0.019804, 0.01983, 0.019766, 222.72112509000002]\nbitfinex\n[1575774000000, 0.019886, 0.019808, 0.019902, 0.019768, 283.01836019]\nbitfinex\n[1575763200000, 0.019638, 0.019887, 0.019921, 0.019616, 363.90783611]\nbitfinex\n[1575752400000, 0.019627, 0.01963, 0.01966, 0.019595, 139.70336818]\nbitfinex\n[1575741600000, 0.01968, 0.019629, 0.019696, 0.019622, 95.35916029]\nbitfinex\n[1575730800000, 0.019685, 0.019676, 0.01976, 0.019669, 2086.42352344]\nbitfinex\n[1575720000000, 0.019655, 0.019685, 0.019701, 0.019633, 194.75508728]\nbitfinex\n[1575709200000, 0.019699, 0.019655, 0.019715, 0.019655, 98.93443412]\nbitfinex\n[1575698400000, 0.019682, 0.019702, 0.019767, 0.019667, 379.37762944]\nbitfinex\n[1575687600000, 0.019652, 0.019682, 0.019739, 0.019625, 357.71303666]\nbitfinex\n[1575676800000, 0.019722, 0.019652, 0.019766, 0.019652, 112.90812838000001]\nbitfinex\n[1575666000000, 0.019898, 0.019722, 0.019898, 0.019673, 181.98626244]\nbitfinex\n[1575655200000, 0.019838, 0.019898, 0.019961, 0.019796, 596.57923594]\nbitfinex\n[1575644400000, 0.01987, 0.019808, 0.019957, 0.019622, 1824.28289922]\nbitfinex\n[1575633600000, 0.019946, 0.01988, 0.019946, 0.019871, 325.83887891]\nbitfinex\n[1575622800000, 0.020057, 0.019946, 0.020086, 0.019829, 307.36687979]\n"
    }
   ],
   "source": [
    "import time\n",
    "data = historical.get_from_api(api = 'bitfinex', exchange='bitfinex', trading_pair='eth_btc', interval=[(time.time()-100000), time.time()])"
   ]
  },
  {
   "cell_type": "code",
   "execution_count": 10,
   "metadata": {},
   "outputs": [],
   "source": [
    "# print(data)"
   ]
  },
  {
   "cell_type": "code",
   "execution_count": 11,
   "metadata": {},
   "outputs": [
    {
     "name": "stdout",
     "output_type": "stream",
     "text": "Checking Table candlesticks\n[('bitfinex', 'bitfinex', 'eth_btc', 1576606818, Decimal('0.018554'), Decimal('0.018554'), Decimal('0.018554'), Decimal('0.018554'), Decimal('6.43'))]\n"
    }
   ],
   "source": [
    "sql.check_candle_table()"
   ]
  },
  {
   "cell_type": "code",
   "execution_count": 12,
   "metadata": {},
   "outputs": [],
   "source": [
    "# dfdata = pd.concat([pd.DataFrame(data['candles']), pd.DataFrame(data)], axis=1).drop(['candles', 'candles_collected', 'last_timestamp', 'start', 'end', 'period'], axis=1)\n",
    "# dfdata.head()"
   ]
  },
  {
   "cell_type": "code",
   "execution_count": 13,
   "metadata": {},
   "outputs": [],
   "source": [
    "# for index, row in dfdata.iterrows():\n",
    "#     print(str(row['close']) + ' ' + str(row['high']) + ' ' + str(row['low']) + ' ' + str(row['open']) + ' ' + str(row['timestamp']) + ' ' + str(row['volume']) + ' ' + str(row['api']) + ' ' + str(row['exchange']))"
   ]
  },
  {
   "cell_type": "code",
   "execution_count": 14,
   "metadata": {},
   "outputs": [
    {
     "ename": "NameError",
     "evalue": "name 'dfdata' is not defined",
     "output_type": "error",
     "traceback": [
      "\u001b[1;31m---------------------------------------------------------------------------\u001b[0m",
      "\u001b[1;31mNameError\u001b[0m                                 Traceback (most recent call last)",
      "\u001b[1;32m<ipython-input-14-fe9c43466014>\u001b[0m in \u001b[0;36m<module>\u001b[1;34m\u001b[0m\n\u001b[1;32m----> 1\u001b[1;33m \u001b[0mprint\u001b[0m\u001b[1;33m(\u001b[0m\u001b[0mdfdata\u001b[0m\u001b[1;33m.\u001b[0m\u001b[0miloc\u001b[0m\u001b[1;33m[\u001b[0m\u001b[1;36m0\u001b[0m\u001b[1;33m]\u001b[0m\u001b[1;33m)\u001b[0m\u001b[1;33m\u001b[0m\u001b[1;33m\u001b[0m\u001b[0m\n\u001b[0m",
      "\u001b[1;31mNameError\u001b[0m: name 'dfdata' is not defined"
     ]
    }
   ],
   "source": []
  },
  {
   "cell_type": "code",
   "execution_count": 18,
   "metadata": {},
   "outputs": [
    {
     "ename": "UniqueViolation",
     "evalue": "duplicate key value violates unique constraint \"candlesticks_pkey\"\nDETAIL:  Key (api)=(bitfinex) already exists.\n",
     "output_type": "error",
     "traceback": [
      "\u001b[1;31m---------------------------------------------------------------------------\u001b[0m",
      "\u001b[1;31mUniqueViolation\u001b[0m                           Traceback (most recent call last)",
      "\u001b[1;32m<ipython-input-18-b12f99c24fd9>\u001b[0m in \u001b[0;36m<module>\u001b[1;34m\u001b[0m\n\u001b[1;32m----> 1\u001b[1;33m \u001b[0msql\u001b[0m\u001b[1;33m.\u001b[0m\u001b[0mcandlestick_to_sql\u001b[0m\u001b[1;33m(\u001b[0m\u001b[0mdata\u001b[0m\u001b[1;33m=\u001b[0m\u001b[0mdata\u001b[0m\u001b[1;33m,\u001b[0m \u001b[0mtrading_pair\u001b[0m\u001b[1;33m=\u001b[0m\u001b[1;34m'eth_btc'\u001b[0m\u001b[1;33m)\u001b[0m\u001b[1;33m\u001b[0m\u001b[1;33m\u001b[0m\u001b[0m\n\u001b[0m",
      "\u001b[1;32mc:\\Users\\kyleh\\Desktop\\Repos\\cryptolytic-ds\\cryptolytic\\data\\sql.py\u001b[0m in \u001b[0;36mcandlestick_to_sql\u001b[1;34m(data, trading_pair)\u001b[0m\n\u001b[0;32m    129\u001b[0m     \u001b[0mdfdata\u001b[0m \u001b[1;33m=\u001b[0m \u001b[0mpd\u001b[0m\u001b[1;33m.\u001b[0m\u001b[0mconcat\u001b[0m\u001b[1;33m(\u001b[0m\u001b[1;33m[\u001b[0m\u001b[0mpd\u001b[0m\u001b[1;33m.\u001b[0m\u001b[0mDataFrame\u001b[0m\u001b[1;33m(\u001b[0m\u001b[0mdata\u001b[0m\u001b[1;33m[\u001b[0m\u001b[1;34m'candles'\u001b[0m\u001b[1;33m]\u001b[0m\u001b[1;33m)\u001b[0m\u001b[1;33m,\u001b[0m \u001b[0mpd\u001b[0m\u001b[1;33m.\u001b[0m\u001b[0mDataFrame\u001b[0m\u001b[1;33m(\u001b[0m\u001b[0mdata\u001b[0m\u001b[1;33m)\u001b[0m\u001b[1;33m]\u001b[0m\u001b[1;33m,\u001b[0m \u001b[0maxis\u001b[0m\u001b[1;33m=\u001b[0m\u001b[1;36m1\u001b[0m\u001b[1;33m)\u001b[0m\u001b[1;33m.\u001b[0m\u001b[0mdrop\u001b[0m\u001b[1;33m(\u001b[0m\u001b[1;33m[\u001b[0m\u001b[1;34m'candles'\u001b[0m\u001b[1;33m,\u001b[0m \u001b[1;34m'candles_collected'\u001b[0m\u001b[1;33m,\u001b[0m \u001b[1;34m'last_timestamp'\u001b[0m\u001b[1;33m,\u001b[0m \u001b[1;34m'start'\u001b[0m\u001b[1;33m,\u001b[0m \u001b[1;34m'end'\u001b[0m\u001b[1;33m,\u001b[0m \u001b[1;34m'period'\u001b[0m\u001b[1;33m]\u001b[0m\u001b[1;33m,\u001b[0m \u001b[0maxis\u001b[0m\u001b[1;33m=\u001b[0m\u001b[1;36m1\u001b[0m\u001b[1;33m)\u001b[0m\u001b[1;33m\u001b[0m\u001b[1;33m\u001b[0m\u001b[0m\n\u001b[0;32m    130\u001b[0m     \u001b[1;32mfor\u001b[0m \u001b[0mdata\u001b[0m \u001b[1;32min\u001b[0m \u001b[0mrange\u001b[0m\u001b[1;33m(\u001b[0m\u001b[0mlen\u001b[0m\u001b[1;33m(\u001b[0m\u001b[0mdfdata\u001b[0m\u001b[1;33m)\u001b[0m\u001b[1;33m)\u001b[0m\u001b[1;33m:\u001b[0m\u001b[1;33m\u001b[0m\u001b[1;33m\u001b[0m\u001b[0m\n\u001b[1;32m--> 131\u001b[1;33m         \u001b[0madd_candle_data_to_table\u001b[0m\u001b[1;33m(\u001b[0m\u001b[0mdfdata\u001b[0m\u001b[1;33m.\u001b[0m\u001b[0miloc\u001b[0m\u001b[1;33m[\u001b[0m\u001b[0mdata\u001b[0m\u001b[1;33m]\u001b[0m\u001b[1;33m,\u001b[0m \u001b[0mtrading_pair\u001b[0m\u001b[1;33m=\u001b[0m\u001b[0mtrading_pair\u001b[0m\u001b[1;33m)\u001b[0m\u001b[1;33m\u001b[0m\u001b[1;33m\u001b[0m\u001b[0m\n\u001b[0m",
      "\u001b[1;32mc:\\Users\\kyleh\\Desktop\\Repos\\cryptolytic-ds\\cryptolytic\\data\\sql.py\u001b[0m in \u001b[0;36madd_candle_data_to_table\u001b[1;34m(dfdata, trading_pair)\u001b[0m\n\u001b[0;32m     94\u001b[0m             \u001b[1;34m'high'\u001b[0m\u001b[1;33m:\u001b[0m \u001b[0mdfdata\u001b[0m\u001b[1;33m[\u001b[0m\u001b[1;34m'high'\u001b[0m\u001b[1;33m]\u001b[0m\u001b[1;33m,\u001b[0m\u001b[1;33m\u001b[0m\u001b[1;33m\u001b[0m\u001b[0m\n\u001b[0;32m     95\u001b[0m             \u001b[1;34m'low'\u001b[0m\u001b[1;33m:\u001b[0m \u001b[0mdfdata\u001b[0m\u001b[1;33m[\u001b[0m\u001b[1;34m'low'\u001b[0m\u001b[1;33m]\u001b[0m\u001b[1;33m,\u001b[0m\u001b[1;33m\u001b[0m\u001b[1;33m\u001b[0m\u001b[0m\n\u001b[1;32m---> 96\u001b[1;33m             \u001b[1;34m'volume'\u001b[0m\u001b[1;33m:\u001b[0m \u001b[0mdfdata\u001b[0m\u001b[1;33m[\u001b[0m\u001b[1;34m'volume'\u001b[0m\u001b[1;33m]\u001b[0m\u001b[1;33m\u001b[0m\u001b[1;33m\u001b[0m\u001b[0m\n\u001b[0m\u001b[0;32m     97\u001b[0m         }\n\u001b[0;32m     98\u001b[0m     )\n",
      "\u001b[1;31mUniqueViolation\u001b[0m: duplicate key value violates unique constraint \"candlesticks_pkey\"\nDETAIL:  Key (api)=(bitfinex) already exists.\n"
     ]
    }
   ],
   "source": [
    "sql.candlestick_to_sql(data=data, trading_pair='eth_btc')"
   ]
  },
  {
   "cell_type": "code",
   "execution_count": null,
   "metadata": {},
   "outputs": [],
   "source": []
  }
 ],
 "metadata": {
  "kernelspec": {
   "display_name": "Python 3",
   "language": "python",
   "name": "python3"
  },
  "language_info": {
   "codemirror_mode": {
    "name": "ipython",
    "version": 3
   },
   "file_extension": ".py",
   "mimetype": "text/x-python",
   "name": "python",
   "nbconvert_exporter": "python",
   "pygments_lexer": "ipython3",
   "version": "3.7.3"
  }
 },
 "nbformat": 4,
 "nbformat_minor": 4
}