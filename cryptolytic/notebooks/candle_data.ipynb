{
 "cells": [
  {
   "cell_type": "code",
   "execution_count": 1,
   "metadata": {},
   "outputs": [
    {
     "name": "stdout",
     "output_type": "stream",
     "text": [
      "/home/me/Documents/Git/Lambda-School-Labs/cryptolytic-ds\n",
      "/home/me/Documents/Git/Lambda-School-Labs/cryptolytic-ds\n"
     ]
    }
   ],
   "source": [
    "%load_ext autoreload\n",
    "%autoreload 2\n",
    "%cd ../..\n",
    "!pwd"
   ]
  },
  {
   "cell_type": "code",
   "execution_count": 6,
   "metadata": {},
   "outputs": [],
   "source": [
    "from cryptolytic.data import historical"
   ]
  },
  {
   "cell_type": "code",
   "execution_count": 13,
   "metadata": {},
   "outputs": [
    {
     "name": "stdout",
     "output_type": "stream",
     "text": [
      "poloniex\n",
      "{'poloniex': {'trading_pairs': ['btc_eth', 'eth_btc', 'btc_usd']}}\n",
      "['btc_eth', 'eth_btc', 'btc_usd']\n",
      "coincap\n",
      "{'coincap': {'trading_pairs': ['btc_eth', 'eth_btc', 'btc_usd']}}\n",
      "['btc_eth', 'eth_btc', 'btc_usd']\n",
      "hitbitc\n",
      "{'hitbtc': {'trading_pairs': ['btc_eth', 'eth_btc', 'btc_usd']}}\n",
      "['btc_eth', 'eth_btc', 'btc_usd']\n",
      "bitfinex\n",
      "{'bitfinex': {'trading_pairs': ['btc_eth', 'eth_btc', 'btc_usd']}}\n",
      "['btc_eth', 'eth_btc', 'btc_usd']\n"
     ]
    }
   ],
   "source": [
    "historical.live_update()"
   ]
  },
  {
   "cell_type": "code",
   "execution_count": 17,
   "metadata": {},
   "outputs": [
    {
     "data": {
      "text/html": [
       "<div>\n",
       "<style scoped>\n",
       "    .dataframe tbody tr th:only-of-type {\n",
       "        vertical-align: middle;\n",
       "    }\n",
       "\n",
       "    .dataframe tbody tr th {\n",
       "        vertical-align: top;\n",
       "    }\n",
       "\n",
       "    .dataframe thead th {\n",
       "        text-align: right;\n",
       "    }\n",
       "</style>\n",
       "<table border=\"1\" class=\"dataframe\">\n",
       "  <thead>\n",
       "    <tr style=\"text-align: right;\">\n",
       "      <th></th>\n",
       "      <th>id</th>\n",
       "      <th>api_call</th>\n",
       "      <th>exchanges</th>\n",
       "    </tr>\n",
       "  </thead>\n",
       "  <tbody>\n",
       "    <tr>\n",
       "      <th>0</th>\n",
       "      <td>cryptowatch</td>\n",
       "      <td>https://api.cryptowat.ch/markets/{exchange}/{t...</td>\n",
       "      <td>{}</td>\n",
       "    </tr>\n",
       "    <tr>\n",
       "      <th>1</th>\n",
       "      <td>poloniex</td>\n",
       "      <td>https://poloniex.com/public?command=returnChar...</td>\n",
       "      <td>{'poloniex': {'trading_pairs': ['btc_eth', 'et...</td>\n",
       "    </tr>\n",
       "    <tr>\n",
       "      <th>2</th>\n",
       "      <td>coincap</td>\n",
       "      <td>http://api.coincap.io/v2/candles?exchange={exc...</td>\n",
       "      <td>{'coincap': {'trading_pairs': ['btc_eth', 'eth...</td>\n",
       "    </tr>\n",
       "    <tr>\n",
       "      <th>3</th>\n",
       "      <td>hitbitc</td>\n",
       "      <td>https://api.hitbtc.com/api/2/public/candles/{t...</td>\n",
       "      <td>{'hitbtc': {'trading_pairs': ['btc_eth', 'eth_...</td>\n",
       "    </tr>\n",
       "    <tr>\n",
       "      <th>4</th>\n",
       "      <td>bitfinex</td>\n",
       "      <td>https://api-pub.bitfinex.com/v2/candles/trade:...</td>\n",
       "      <td>{'bitfinex': {'trading_pairs': ['btc_eth', 'et...</td>\n",
       "    </tr>\n",
       "  </tbody>\n",
       "</table>\n",
       "</div>"
      ],
      "text/plain": [
       "            id                                           api_call  \\\n",
       "0  cryptowatch  https://api.cryptowat.ch/markets/{exchange}/{t...   \n",
       "1     poloniex  https://poloniex.com/public?command=returnChar...   \n",
       "2      coincap  http://api.coincap.io/v2/candles?exchange={exc...   \n",
       "3      hitbitc  https://api.hitbtc.com/api/2/public/candles/{t...   \n",
       "4     bitfinex  https://api-pub.bitfinex.com/v2/candles/trade:...   \n",
       "\n",
       "                                           exchanges  \n",
       "0                                                 {}  \n",
       "1  {'poloniex': {'trading_pairs': ['btc_eth', 'et...  \n",
       "2  {'coincap': {'trading_pairs': ['btc_eth', 'eth...  \n",
       "3  {'hitbtc': {'trading_pairs': ['btc_eth', 'eth_...  \n",
       "4  {'bitfinex': {'trading_pairs': ['btc_eth', 'et...  "
      ]
     },
     "execution_count": 17,
     "metadata": {},
     "output_type": "execute_result"
    }
   ],
   "source": [
    "import pandas as pd\n",
    "df = pd.DataFrame(historical.api_info)"
   ]
  },
  {
   "cell_type": "code",
   "execution_count": null,
   "metadata": {},
   "outputs": [],
   "source": []
  }
 ],
 "metadata": {
  "kernelspec": {
   "display_name": "Python 3",
   "language": "python",
   "name": "python3"
  },
  "language_info": {
   "codemirror_mode": {
    "name": "ipython",
    "version": 3
   },
   "file_extension": ".py",
   "mimetype": "text/x-python",
   "name": "python",
   "nbconvert_exporter": "python",
   "pygments_lexer": "ipython3",
   "version": "3.7.3"
  }
 },
 "nbformat": 4,
 "nbformat_minor": 4
}
