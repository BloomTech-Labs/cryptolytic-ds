{
 "cells": [
  {
   "cell_type": "code",
   "execution_count": 1,
   "metadata": {},
   "outputs": [],
   "source": [
    "%load_ext autoreload\n",
    "%autoreload 2\n",
    "%cd ../..\n",
    "!pwd"
   ]
  },
  {
   "cell_type": "code",
   "execution_count": 2,
   "metadata": {},
   "outputs": [],
   "source": [
    "from cryptolytic.data import historical"
   ]
  },
  {
   "cell_type": "code",
   "execution_count": 3,
   "metadata": {},
   "outputs": [
    {
     "name": "stdout",
     "output_type": "stream",
     "text": [
      "poloniex\n",
      "{'poloniex': {'trading_pairs': ['btc_eth', 'eth_btc', 'btc_usd']}}\n",
      "['btc_eth', 'eth_btc', 'btc_usd']\n",
      "coincap\n",
      "{'coincap': {'trading_pairs': ['btc_eth', 'eth_btc', 'btc_usd']}}\n",
      "['btc_eth', 'eth_btc', 'btc_usd']\n",
      "hitbitc\n",
      "{'hitbtc': {'trading_pairs': ['btc_eth', 'eth_btc', 'btc_usd']}}\n",
      "['btc_eth', 'eth_btc', 'btc_usd']\n",
      "bitfinex\n",
      "{'bitfinex': {'trading_pairs': ['btc_eth', 'eth_btc', 'btc_usd']}}\n",
      "['btc_eth', 'eth_btc', 'btc_usd']\n"
     ]
    }
   ],
   "source": [
    "historical.live_update()"
   ]
  },
  {
   "cell_type": "code",
   "execution_count": null,
   "metadata": {},
   "outputs": [],
   "source": []
  }
 ],
 "metadata": {
  "kernelspec": {
   "display_name": "Python 3",
   "language": "python",
   "name": "python3"
  },
  "language_info": {
   "codemirror_mode": {
    "name": "ipython",
    "version": 3
   },
   "file_extension": ".py",
   "mimetype": "text/x-python",
   "name": "python",
   "nbconvert_exporter": "python",
   "pygments_lexer": "ipython3",
   "version": "3.7.3"
  }
 },
 "nbformat": 4,
 "nbformat_minor": 4
}
