{
 "cells": [
  {
   "cell_type": "code",
   "execution_count": 1,
   "metadata": {},
   "outputs": [],
   "source": [
    "# %load_ext autoreload\n",
    "# %autoreload 2\n",
    "# %cd ../..\n",
    "# # !pwd"
   ]
  },
  {
   "cell_type": "code",
   "execution_count": 2,
   "metadata": {},
   "outputs": [],
   "source": [
    "from cryptolytic.data import historical, sql\n",
    "import pandas as pd\n",
    "import json"
   ]
  },
  {
   "cell_type": "code",
   "execution_count": 3,
   "metadata": {},
   "outputs": [],
   "source": [
    "# historical.live_update()"
   ]
  },
  {
   "cell_type": "code",
   "execution_count": 4,
   "metadata": {},
   "outputs": [],
   "source": [
    "from cryptolytic import start"
   ]
  },
  {
   "cell_type": "code",
   "execution_count": 5,
   "metadata": {},
   "outputs": [],
   "source": [
    "start.init()"
   ]
  },
  {
   "cell_type": "code",
   "execution_count": 6,
   "metadata": {},
   "outputs": [
    {
     "name": "stdout",
     "output_type": "stream",
     "text": "[('public', 'candlesticks', 'postgres', None, False, False, False, False)]\n"
    }
   ],
   "source": [
    "sql.check_tables()"
   ]
  },
  {
   "cell_type": "code",
   "execution_count": 7,
   "metadata": {},
   "outputs": [
    {
     "data": {
      "text/plain": "'postgres'"
     },
     "execution_count": 7,
     "metadata": {},
     "output_type": "execute_result"
    }
   ],
   "source": [
    "import os\n",
    "os.getenv('POSTGRES_USERNAME')"
   ]
  },
  {
   "cell_type": "code",
   "execution_count": 8,
   "metadata": {},
   "outputs": [],
   "source": [
    "# AWS RDS database population and testing"
   ]
  },
  {
   "cell_type": "code",
   "execution_count": 9,
   "metadata": {},
   "outputs": [
    {
     "name": "stdout",
     "output_type": "stream",
     "text": "https://api-pub.bitfinex.com/v2/candles/trade:3h:tETHBTC/hist?limit=100&sort=-1\n"
    }
   ],
   "source": [
    "import time\n",
    "data = historical.get_from_api(api = 'bitfinex', exchange='bitfinex', trading_pair='eth_btc', interval=[(time.time()-100000), time.time()])"
   ]
  },
  {
   "cell_type": "code",
   "execution_count": 10,
   "metadata": {},
   "outputs": [],
   "source": [
    "# print(data)"
   ]
  },
  {
   "cell_type": "code",
   "execution_count": 11,
   "metadata": {},
   "outputs": [
    {
     "name": "stdout",
     "output_type": "stream",
     "text": "187.4040000000000000')), ('coincap', 'binance', 'eth_btc', 1546533900, Decimal('0.0388450000000000'), Decimal('0.0388530000000000'), Decimal('0.0388690000000000'), Decimal('0.0388320000000000'), Decimal('181.8310000000000000')), ('coincap', 'binance', 'eth_btc', 1546534200, Decimal('0.0388600000000000'), Decimal('0.0388430000000000'), Decimal('0.0388740000000000'), Decimal('0.0388370000000000'), Decimal('48.4320000000000000')), ('coincap', 'binance', 'eth_btc', 1546534500, Decimal('0.0388500000000000'), Decimal('0.0388600000000000'), Decimal('0.0388630000000000'), Decimal('0.0388390000000000'), Decimal('113.5210000000000000')), ('coincap', 'binance', 'eth_btc', 1546534800, Decimal('0.0388600000000000'), Decimal('0.0388420000000000'), Decimal('0.0388700000000000'), Decimal('0.0388400000000000'), Decimal('135.5970000000000000')), ('coincap', 'binance', 'eth_btc', 1546535100, Decimal('0.0388490000000000'), Decimal('0.0388420000000000'), Decimal('0.0388740000000000'), Decimal('0.0388400000000000'), Decimal('277.3110000000000000')), ('coincap', 'binance', 'eth_btc', 1546535400, Decimal('0.0388410000000000'), Decimal('0.0388550000000000'), Decimal('0.0388680000000000'), Decimal('0.0388400000000000'), Decimal('133.6820000000000000')), ('coincap', 'binance', 'eth_btc', 1546535700, Decimal('0.0388670000000000'), Decimal('0.0388790000000000'), Decimal('0.0388920000000000'), Decimal('0.0388550000000000'), Decimal('158.7720000000000000')), ('coincap', 'binance', 'eth_btc', 1546536000, Decimal('0.0388760000000000'), Decimal('0.0388840000000000'), Decimal('0.0388920000000000'), Decimal('0.0388570000000000'), Decimal('220.6280000000000000')), ('coincap', 'binance', 'eth_btc', 1546536300, Decimal('0.0388840000000000'), Decimal('0.0388990000000000'), Decimal('0.0389200000000000'), Decimal('0.0388840000000000'), Decimal('169.7970000000000000')), ('coincap', 'binance', 'eth_btc', 1546536600, Decimal('0.0388970000000000'), Decimal('0.0389200000000000'), Decimal('0.0389290000000000'), Decimal('0.0388970000000000'), Decimal('181.3550000000000000')), ('coincap', 'binance', 'eth_btc', 1546536900, Decimal('0.0386530000000000'), Decimal('0.0386680000000000'), Decimal('0.0386720000000000'), Decimal('0.0386500000000000'), Decimal('105.6150000000000000')), ('coincap', 'binance', 'eth_btc', 1546537200, Decimal('0.0386650000000000'), Decimal('0.0386390000000000'), Decimal('0.0386650000000000'), Decimal('0.0386390000000000'), Decimal('161.4500000000000000')), ('coincap', 'binance', 'eth_btc', 1546537500, Decimal('0.0386480000000000'), Decimal('0.0386270000000000'), Decimal('0.0386480000000000'), Decimal('0.0386170000000000'), Decimal('188.0240000000000000')), ('coincap', 'binance', 'eth_btc', 1546537800, Decimal('0.0386270000000000'), Decimal('0.0386220000000000'), Decimal('0.0386340000000000'), Decimal('0.0386000000000000'), Decimal('165.4280000000000000')), ('coincap', 'binance', 'eth_btc', 1546538100, Decimal('0.0386210000000000'), Decimal('0.0386260000000000'), Decimal('0.0386440000000000'), Decimal('0.0386050000000000'), Decimal('134.4250000000000000')), ('coincap', 'binance', 'eth_btc', 1546538400, Decimal('0.0386240000000000'), Decimal('0.0386290000000000'), Decimal('0.0386350000000000'), Decimal('0.0386000000000000'), Decimal('102.8640000000000000')), ('coincap', 'binance', 'eth_btc', 1546538700, Decimal('0.0386290000000000'), Decimal('0.0386170000000000'), Decimal('0.0386300000000000'), Decimal('0.0386090000000000'), Decimal('192.4040000000000000')), ('coincap', 'binance', 'eth_btc', 1546539000, Decimal('0.0386250000000000'), Decimal('0.0386380000000000'), Decimal('0.0386550000000000'), Decimal('0.0386000000000000'), Decimal('300.9780000000000000')), ('coincap', 'binance', 'eth_btc', 1546539300, Decimal('0.0386380000000000'), Decimal('0.0386360000000000'), Decimal('0.0386550000000000'), Decimal('0.0386160000000000'), Decimal('139.2250000000000000')), ('coincap', 'binance', 'eth_btc', 1546539600, Decimal('0.0386520000000000'), Decimal('0.0386440000000000'), Decimal('0.0386560000000000'), Decimal('0.0386310000000000'), Decimal('119.9170000000000000')), ('coincap', 'binance', 'eth_btc', 1546539900, Decimal('0.0386430000000000'), Decimal('0.0386600000000000'), Decimal('0.0386740000000000'), Decimal('0.0386380000000000'), Decimal('188.9070000000000000')), ('coincap', 'binance', 'eth_btc', 1546540200, Decimal('0.0386640000000000'), Decimal('0.0386420000000000'), Decimal('0.0386660000000000'), Decimal('0.0386350000000000'), Decimal('147.2760000000000000')), ('coincap', 'binance', 'eth_btc', 1546540500, Decimal('0.0386420000000000'), Decimal('0.0386230000000000'), Decimal('0.0386510000000000'), Decimal('0.0386160000000000'), Decimal('183.2920000000000000')), ('coincap', 'binance', 'eth_btc', 1546540800, Decimal('0.0386240000000000'), Decimal('0.0386190000000000'), Decimal('0.0386310000000000'), Decimal('0.0386160000000000'), Decimal('124.4040000000000000')), ('coincap', 'binance', 'eth_btc', 1546541100, Decimal('0.0386210000000000'), Decimal('0.0386150000000000'), Decimal('0.0386330000000000'), Decimal('0.0385960000000000'), Decimal('159.6020000000000000')), ('coincap', 'binance', 'eth_btc', 1546541400, Decimal('0.0386150000000000'), Decimal('0.0386030000000000'), Decimal('0.0386190000000000'), Decimal('0.0385860000000000'), Decimal('122.2340000000000000')), ('coincap', 'binance', 'eth_btc', 1546541700, Decimal('0.0385870000000000'), Decimal('0.0386030000000000'), Decimal('0.0386190000000000'), Decimal('0.0385760000000000'), Decimal('103.8340000000000000')), ('coincap', 'binance', 'eth_btc', 1546542000, Decimal('0.0386030000000000'), Decimal('0.0385800000000000'), Decimal('0.0386280000000000'), Decimal('0.0385760000000000'), Decimal('160.6250000000000000')), ('coincap', 'binance', 'eth_btc', 1546542300, Decimal('0.0385800000000000'), Decimal('0.0385690000000000'), Decimal('0.0386000000000000'), Decimal('0.0385510000000000'), Decimal('182.2200000000000000')), ('coincap', 'binance', 'eth_btc', 1546542600, Decimal('0.0385710000000000'), Decimal('0.0385600000000000'), Decimal('0.0385780000000000'), Decimal('0.0385550000000000'), Decimal('159.1040000000000000')), ('coincap', 'binance', 'eth_btc', 1546542900, Decimal('0.0385610000000000'), Decimal('0.0385600000000000'), Decimal('0.0385820000000000'), Decimal('0.0385490000000000'), Decimal('203.8640000000000000')), ('coincap', 'binance', 'eth_btc', 1546543200, Decimal('0.0385700000000000'), Decimal('0.0385630000000000'), Decimal('0.0385740000000000'), Decimal('0.0385480000000000'), Decimal('81.6490000000000000')), ('coincap', 'binance', 'eth_btc', 1546543500, Decimal('0.0385620000000000'), Decimal('0.0385870000000000'), Decimal('0.0385870000000000'), Decimal('0.0385480000000000'), Decimal('99.7100000000000000')), ('coincap', 'binance', 'eth_btc', 1546543800, Decimal('0.0385770000000000'), Decimal('0.0385880000000000'), Decimal('0.0385890000000000'), Decimal('0.0385720000000000'), Decimal('73.9100000000000000')), ('coincap', 'binance', 'eth_btc', 1546544100, Decimal('0.0385890000000000'), Decimal('0.0385750000000000'), Decimal('0.0385910000000000'), Decimal('0.0385750000000000'), Decimal('92.1160000000000000')), ('coincap', 'binance', 'eth_btc', 1546544400, Decimal('0.0385850000000000'), Decimal('0.0385850000000000'), Decimal('0.0385990000000000'), Decimal('0.0385740000000000'), Decimal('97.1440000000000000')), ('coincap', 'binance', 'eth_btc', 1546544700, Decimal('0.0385850000000000'), Decimal('0.0385800000000000'), Decimal('0.0386090000000000'), Decimal('0.0385780000000000'), Decimal('118.7770000000000000')), ('coincap', 'binance', 'eth_btc', 1546545000, Decimal('0.0385880000000000'), Decimal('0.0385930000000000'), Decimal('0.0386000000000000'), Decimal('0.0385760000000000'), Decimal('145.6230000000000000')), ('coincap', 'binance', 'eth_btc', 1546545300, Decimal('0.0385980000000000'), Decimal('0.0385700000000000'), Decimal('0.0386070000000000'), Decimal('0.0385700000000000'), Decimal('166.2820000000000000')), ('coincap', 'binance', 'eth_btc', 1546545600, Decimal('0.0385550000000000'), Decimal('0.0385890000000000'), Decimal('0.0385950000000000'), Decimal('0.0385420000000000'), Decimal('172.5620000000000000')), ('coincap', 'binance', 'eth_btc', 1546545900, Decimal('0.0385880000000000'), Decimal('0.0385630000000000'), Decimal('0.0386000000000000'), Decimal('0.0385470000000000'), Decimal('67.8080000000000000')), ('coincap', 'binance', 'eth_btc', 1546546200, Decimal('0.0385600000000000'), Decimal('0.0385570000000000'), Decimal('0.0385690000000000'), Decimal('0.0385420000000000'), Decimal('130.2030000000000000')), ('coincap', 'binance', 'eth_btc', 1546546500, Decimal('0.0385510000000000'), Decimal('0.0385230000000000'), Decimal('0.0385630000000000'), Decimal('0.0385230000000000'), Decimal('201.7800000000000000')), ('coincap', 'binance', 'eth_btc', 1546546800, Decimal('0.0385380000000000'), Decimal('0.0385350000000000'), Decimal('0.0385650000000000'), Decimal('0.0384990000000000'), Decimal('175.2280000000000000')), ('coincap', 'binance', 'eth_btc', 1546547100, Decimal('0.0385260000000000'), Decimal('0.0385220000000000'), Decimal('0.0385400000000000'), Decimal('0.0385200000000000'), Decimal('80.8010000000000000')), ('coincap', 'binance', 'eth_btc', 1546547400, Decimal('0.0385290000000000'), Decimal('0.0385180000000000'), Decimal('0.0385340000000000'), Decimal('0.0385180000000000'), Decimal('117.9310000000000000')), ('coincap', 'binance', 'eth_btc', 1546547700, Decimal('0.0385180000000000'), Decimal('0.0384780000000000'), Decimal('0.0385180000000000'), Decimal('0.0384700000000000'), Decimal('704.4020000000000000')), ('coincap', 'binance', 'eth_btc', 1546548000, Decimal('0.0384770000000000'), Decimal('0.0384430000000000'), Decimal('0.0385000000000000'), Decimal('0.0384290000000000'), Decimal('977.7210000000000000')), ('coincap', 'binance', 'eth_btc', 1546548300, Decimal('0.0384310000000000'), Decimal('0.0384470000000000'), Decimal('0.0384750000000000'), Decimal('0.0384000000000000'), Decimal('186.3030000000000000')), ('coincap', 'binance', 'eth_btc', 1546548600, Decimal('0.0384450000000000'), Decimal('0.0384700000000000'), Decimal('0.0384840000000000'), Decimal('0.0384220000000000'), Decimal('70.8210000000000000')), ('coincap', 'binance', 'eth_btc', 1546548900, Decimal('0.0384820000000000'), Decimal('0.0385300000000000'), Decimal('0.0385300000000000'), Decimal('0.0384700000000000'), Decimal('181.5370000000000000')), ('coincap', 'binance', 'eth_btc', 1546549200, Decimal('0.0385270000000000'), Decimal('0.0385400000000000'), Decimal('0.0385490000000000'), Decimal('0.0384950000000000'), Decimal('151.5370000000000000')), ('coincap', 'binance', 'eth_btc', 1546549500, Decimal('0.0385430000000000'), Decimal('0.0385230000000000'), Decimal('0.0385650000000000'), Decimal('0.0384930000000000'), Decimal('108.8870000000000000')), ('coincap', 'binance', 'eth_btc', 1546549800, Decimal('0.0385250000000000'), Decimal('0.0385200000000000'), Decimal('0.0385360000000000'), Decimal('0.0385050000000000'), Decimal('51.7100000000000000')), ('coincap', 'binance', 'eth_btc', 1546550100, Decimal('0.0385290000000000'), Decimal('0.0385050000000000'), Decimal('0.0385460000000000'), Decimal('0.0385000000000000'), Decimal('54.8820000000000000')), ('coincap', 'binance', 'eth_btc', 1546550400, Decimal('0.0385040000000000'), Decimal('0.0385050000000000'), Decimal('0.0385460000000000'), Decimal('0.0384820000000000'), Decimal('185.0420000000000000')), ('coincap', 'binance', 'eth_btc', 1546550700, Decimal('0.0385080000000000'), Decimal('0.0385370000000000'), Decimal('0.0385720000000000'), Decimal('0.0385040000000000'), Decimal('200.3150000000000000')), ('coincap', 'binance', 'eth_btc', 1546551000, Decimal('0.0385690000000000'), Decimal('0.0385910000000000'), Decimal('0.0386040000000000'), Decimal('0.0385550000000000'), Decimal('693.7210000000000000')), ('coincap', 'binance', 'eth_btc', 1546551300, Decimal('0.0385840000000000'), Decimal('0.0386110000000000'), Decimal('0.0386140000000000'), Decimal('0.0385800000000000'), Decimal('81.9730000000000000')), ('coincap', 'binance', 'eth_btc', 1546551600, Decimal('0.0386110000000000'), Decimal('0.0385970000000000'), Decimal('0.0386440000000000'), Decimal('0.0385650000000000'), Decimal('341.3980000000000000')), ('coincap', 'binance', 'eth_btc', 1546551900, Decimal('0.0385980000000000'), Decimal('0.0386030000000000'), Decimal('0.0386400000000000'), Decimal('0.0385960000000000'), Decimal('103.8190000000000000')), ('coincap', 'binance', 'eth_btc', 1546552200, Decimal('0.0386140000000000'), Decimal('0.0386040000000000'), Decimal('0.0386240000000000'), Decimal('0.0386000000000000'), Decimal('104.8060000000000000')), ('coincap', 'binance', 'eth_btc', 1546552500, Decimal('0.0386010000000000'), Decimal('0.0385780000000000'), Decimal('0.0386140000000000'), Decimal('0.0385600000000000'), Decimal('170.7010000000000000')), ('coincap', 'binance', 'eth_btc', 1546552800, Decimal('0.0385790000000000'), Decimal('0.0385580000000000'), Decimal('0.0385790000000000'), Decimal('0.0384870000000000'), Decimal('235.2830000000000000')), ('coincap', 'binance', 'eth_btc', 1546553100, Decimal('0.0385390000000000'), Decimal('0.0385140000000000'), Decimal('0.0385620000000000'), Decimal('0.0384840000000000'), Decimal('317.6170000000000000')), ('coincap', 'binance', 'eth_btc', 1546553400, Decimal('0.0385140000000000'), Decimal('0.0384500000000000'), Decimal('0.0385270000000000'), Decimal('0.0384020000000000'), Decimal('180.4400000000000000')), ('coincap', 'binance', 'eth_btc', 1546553700, Decimal('0.0384500000000000'), Decimal('0.0384510000000000'), Decimal('0.0384790000000000'), Decimal('0.0384030000000000'), Decimal('244.8380000000000000')), ('coincap', 'binance', 'eth_btc', 1546554000, Decimal('0.0384500000000000'), Decimal('0.0384130000000000'), Decimal('0.0384500000000000'), Decimal('0.0383470000000000'), Decimal('432.0150000000000000')), ('coincap', 'binance', 'eth_btc', 1546554300, Decimal('0.0384050000000000'), Decimal('0.0383800000000000'), Decimal('0.0384050000000000'), Decimal('0.0383170000000000'), Decimal('197.7310000000000000')), ('coincap', 'binance', 'eth_btc', 1546554600, Decimal('0.0383900000000000'), Decimal('0.0383910000000000'), Decimal('0.0383970000000000'), Decimal('0.0383350000000000'), Decimal('188.7500000000000000')), ('coincap', 'binance', 'eth_btc', 1546554900, Decimal('0.0383920000000000'), Decimal('0.0383770000000000'), Decimal('0.0383950000000000'), Decimal('0.0383320000000000'), Decimal('166.7830000000000000')), ('coincap', 'binance', 'eth_btc', 1546555200, Decimal('0.0383760000000000'), Decimal('0.0384000000000000'), Decimal('0.0384000000000000'), Decimal('0.0383330000000000'), Decimal('237.6120000000000000')), ('coincap', 'binance', 'eth_btc', 1546555500, Decimal('0.0383900000000000'), Decimal('0.0384100000000000'), Decimal('0.0384420000000000'), Decimal('0.0383810000000000'), Decimal('313.4260000000000000')), ('coincap', 'binance', 'eth_btc', 1546555800, Decimal('0.0384090000000000'), Decimal('0.0384300000000000'), Decimal('0.0384490000000000'), Decimal('0.0383920000000000'), Decimal('177.3580000000000000')), ('coincap', 'binance', 'eth_btc', 1546556100, Decimal('0.0384440000000000'), Decimal('0.0384610000000000'), Decimal('0.0384650000000000'), Decimal('0.0384200000000000'), Decimal('257.8330000000000000')), ('coincap', 'binance', 'eth_btc', 1546556400, Decimal('0.0384610000000000'), Decimal('0.0385000000000000'), Decimal('0.0385200000000000'), Decimal('0.0384610000000000'), Decimal('140.4920000000000000')), ('coincap', 'binance', 'eth_btc', 1546556700, Decimal('0.0384900000000000'), Decimal('0.0385050000000000'), Decimal('0.0385180000000000'), Decimal('0.0384770000000000'), Decimal('138.1380000000000000')), ('coincap', 'binance', 'eth_btc', 1546557000, Decimal('0.0385040000000000'), Decimal('0.0384630000000000'), Decimal('0.0385040000000000'), Decimal('0.0384150000000000'), Decimal('264.9310000000000000')), ('coincap', 'binance', 'eth_btc', 1546557300, Decimal('0.0384630000000000'), Decimal('0.0384500000000000'), Decimal('0.0384710000000000'), Decimal('0.0384300000000000'), Decimal('216.2200000000000000')), ('coincap', 'binance', 'eth_btc', 1546557600, Decimal('0.0384500000000000'), Decimal('0.0384680000000000'), Decimal('0.0384900000000000'), Decimal('0.0384360000000000'), Decimal('225.9730000000000000')), ('coincap', 'binance', 'eth_btc', 1546557900, Decimal('0.0384680000000000'), Decimal('0.0384850000000000'), Decimal('0.0384950000000000'), Decimal('0.0384640000000000'), Decimal('118.8920000000000000')), ('coincap', 'binance', 'eth_btc', 1546558200, Decimal('0.0384860000000000'), Decimal('0.0384840000000000'), Decimal('0.0384940000000000'), Decimal('0.0384790000000000'), Decimal('92.2160000000000000')), ('coincap', 'binance', 'eth_btc', 1546558500, Decimal('0.0384840000000000'), Decimal('0.0384480000000000'), Decimal('0.0384850000000000'), Decimal('0.0384000000000000'), Decimal('233.5910000000000000')), ('coincap', 'binance', 'eth_btc', 1546558800, Decimal('0.0384480000000000'), Decimal('0.0384450000000000'), Decimal('0.0384640000000000'), Decimal('0.0384010000000000'), Decimal('318.2970000000000000')), ('coincap', 'binance', 'eth_btc', 1546559100, Decimal('0.0384500000000000'), Decimal('0.0384560000000000'), Decimal('0.0384560000000000'), Decimal('0.0384400000000000'), Decimal('118.2290000000000000')), ('coincap', 'binance', 'eth_btc', 1546559400, Decimal('0.0384550000000000'), Decimal('0.0384300000000000'), Decimal('0.0384550000000000'), Decimal('0.0384280000000000'), Decimal('96.8940000000000000')), ('coincap', 'binance', 'eth_btc', 1546559700, Decimal('0.0384430000000000'), Decimal('0.0384550000000000'), Decimal('0.0384560000000000'), Decimal('0.0384290000000000'), Decimal('74.6650000000000000')), ('coincap', 'binance', 'eth_btc', 1546560000, Decimal('0.0384550000000000'), Decimal('0.0384560000000000'), Decimal('0.0384680000000000'), Decimal('0.0384380000000000'), Decimal('109.4490000000000000')), ('coincap', 'binance', 'eth_btc', 1546560300, Decimal('0.0384610000000000'), Decimal('0.0384540000000000'), Decimal('0.0384720000000000'), Decimal('0.0384500000000000'), Decimal('116.2840000000000000')), ('coincap', 'binance', 'eth_btc', 1546560600, Decimal('0.0384610000000000'), Decimal('0.0384300000000000'), Decimal('0.0384610000000000'), Decimal('0.0384260000000000'), Decimal('118.9240000000000000')), ('coincap', 'binance', 'eth_btc', 1546560900, Decimal('0.0384410000000000'), Decimal('0.0384540000000000'), Decimal('0.0384600000000000'), Decimal('0.0384110000000000'), Decimal('123.9790000000000000')), ('coincap', 'binance', 'eth_btc', 1546561200, Decimal('0.0384600000000000'), Decimal('0.0384450000000000'), Decimal('0.0384680000000000'), Decimal('0.0384450000000000'), Decimal('85.7770000000000000')), ('coincap', 'binance', 'eth_btc', 1546561500, Decimal('0.0384440000000000'), Decimal('0.0384230000000000'), Decimal('0.0384570000000000'), Decimal('0.0384050000000000'), Decimal('120.6870000000000000')), ('coincap', 'binance', 'eth_btc', 1546561800, Decimal('0.0384190000000000'), Decimal('0.0384130000000000'), Decimal('0.0384270000000000'), Decimal('0.0384000000000000'), Decimal('228.5780000000000000')), ('coincap', 'binance', 'eth_btc', 1546562100, Decimal('0.0384080000000000'), Decimal('0.0384300000000000'), Decimal('0.0384370000000000'), Decimal('0.0384040000000000'), Decimal('170.6410000000000000')), ('coincap', 'binance', 'eth_btc', 1546562400, Decimal('0.0384300000000000'), Decimal('0.0384310000000000'), Decimal('0.0384370000000000'), Decimal('0.0384210000000000'), Decimal('73.0630000000000000')), ('coincap', 'binance', 'eth_btc', 1546562700, Decimal('0.0384270000000000'), Decimal('0.0384510000000000'), Decimal('0.0384560000000000'), Decimal('0.0384270000000000'), Decimal('221.6610000000000000')), ('coincap', 'binance', 'eth_btc', 1546563000, Decimal('0.0384550000000000'), Decimal('0.0384450000000000'), Decimal('0.0384560000000000'), Decimal('0.0384420000000000'), Decimal('164.2820000000000000'))]\n"
    }
   ],
   "source": [
    "sql.check_candle_table()"
   ]
  },
  {
   "cell_type": "code",
   "execution_count": 12,
   "metadata": {},
   "outputs": [],
   "source": [
    "# dfdata = pd.concat([pd.DataFrame(data['candles']), pd.DataFrame(data)], axis=1).drop(['candles', 'candles_collected', 'last_timestamp', 'start', 'end', 'period'], axis=1)\n",
    "# dfdata.head()"
   ]
  },
  {
   "cell_type": "code",
   "execution_count": 13,
   "metadata": {},
   "outputs": [],
   "source": [
    "# for index, row in dfdata.iterrows():\n",
    "#     print(str(row['close']) + ' ' + str(row['high']) + ' ' + str(row['low']) + ' ' + str(row['open']) + ' ' + str(row['timestamp']) + ' ' + str(row['volume']) + ' ' + str(row['api']) + ' ' + str(row['exchange']))"
   ]
  },
  {
   "cell_type": "code",
   "execution_count": 14,
   "metadata": {},
   "outputs": [
    {
     "ename": "NameError",
     "evalue": "name 'dfdata' is not defined",
     "output_type": "error",
     "traceback": [
      "\u001b[1;31m---------------------------------------------------------------------------\u001b[0m",
      "\u001b[1;31mNameError\u001b[0m                                 Traceback (most recent call last)",
      "\u001b[1;32m<ipython-input-14-fe9c43466014>\u001b[0m in \u001b[0;36m<module>\u001b[1;34m\u001b[0m\n\u001b[1;32m----> 1\u001b[1;33m \u001b[0mprint\u001b[0m\u001b[1;33m(\u001b[0m\u001b[0mdfdata\u001b[0m\u001b[1;33m.\u001b[0m\u001b[0miloc\u001b[0m\u001b[1;33m[\u001b[0m\u001b[1;36m0\u001b[0m\u001b[1;33m]\u001b[0m\u001b[1;33m)\u001b[0m\u001b[1;33m\u001b[0m\u001b[1;33m\u001b[0m\u001b[0m\n\u001b[0m",
      "\u001b[1;31mNameError\u001b[0m: name 'dfdata' is not defined"
     ]
    }
   ],
   "source": []
  },
  {
   "cell_type": "code",
   "execution_count": 14,
   "metadata": {},
   "outputs": [
    {
     "ename": "IndexError",
     "evalue": "only integers, slices (`:`), ellipsis (`...`), numpy.newaxis (`None`) and integer or boolean arrays are valid indices",
     "output_type": "error",
     "traceback": [
      "\u001b[1;31m---------------------------------------------------------------------------\u001b[0m",
      "\u001b[1;31mIndexError\u001b[0m                                Traceback (most recent call last)",
      "\u001b[1;32m<ipython-input-14-51f70f293af8>\u001b[0m in \u001b[0;36m<module>\u001b[1;34m\u001b[0m\n\u001b[1;32m----> 1\u001b[1;33m \u001b[0msql\u001b[0m\u001b[1;33m.\u001b[0m\u001b[0mcandlestick_to_sql\u001b[0m\u001b[1;33m(\u001b[0m\u001b[0mdata\u001b[0m\u001b[1;33m=\u001b[0m\u001b[0mdata\u001b[0m\u001b[1;33m,\u001b[0m \u001b[0mtable_name\u001b[0m\u001b[1;33m=\u001b[0m\u001b[1;34m'candlesticks'\u001b[0m\u001b[1;33m)\u001b[0m\u001b[1;33m\u001b[0m\u001b[1;33m\u001b[0m\u001b[0m\n\u001b[0m",
      "\u001b[1;32mc:\\Users\\kyleh\\Desktop\\Repos\\cryptolytic-ds\\cryptolytic\\data\\sql.py\u001b[0m in \u001b[0;36mcandlestick_to_sql\u001b[1;34m(data, table_name)\u001b[0m\n\u001b[0;32m    175\u001b[0m     \u001b[0mcur\u001b[0m \u001b[1;33m=\u001b[0m \u001b[0mconn\u001b[0m\u001b[1;33m.\u001b[0m\u001b[0mcursor\u001b[0m\u001b[1;33m(\u001b[0m\u001b[1;33m)\u001b[0m\u001b[1;33m\u001b[0m\u001b[1;33m\u001b[0m\u001b[0m\n\u001b[0;32m    176\u001b[0m     \u001b[0mdfdata\u001b[0m \u001b[1;33m=\u001b[0m \u001b[0mpd\u001b[0m\u001b[1;33m.\u001b[0m\u001b[0mconcat\u001b[0m\u001b[1;33m(\u001b[0m\u001b[1;33m[\u001b[0m\u001b[0mpd\u001b[0m\u001b[1;33m.\u001b[0m\u001b[0mDataFrame\u001b[0m\u001b[1;33m(\u001b[0m\u001b[0mdata\u001b[0m\u001b[1;33m[\u001b[0m\u001b[1;34m'candles'\u001b[0m\u001b[1;33m]\u001b[0m\u001b[1;33m)\u001b[0m\u001b[1;33m,\u001b[0m \u001b[0mpd\u001b[0m\u001b[1;33m.\u001b[0m\u001b[0mDataFrame\u001b[0m\u001b[1;33m(\u001b[0m\u001b[0mdata\u001b[0m\u001b[1;33m)\u001b[0m\u001b[1;33m]\u001b[0m\u001b[1;33m,\u001b[0m \u001b[0maxis\u001b[0m\u001b[1;33m=\u001b[0m\u001b[1;36m1\u001b[0m\u001b[1;33m)\u001b[0m\u001b[1;33m.\u001b[0m\u001b[0mdrop\u001b[0m\u001b[1;33m(\u001b[0m\u001b[1;33m[\u001b[0m\u001b[1;34m'candles'\u001b[0m\u001b[1;33m,\u001b[0m \u001b[1;34m'candles_collected'\u001b[0m\u001b[1;33m,\u001b[0m \u001b[1;34m'last_timestamp'\u001b[0m\u001b[1;33m,\u001b[0m \u001b[1;34m'start'\u001b[0m\u001b[1;33m,\u001b[0m \u001b[1;34m'end'\u001b[0m\u001b[1;33m,\u001b[0m \u001b[1;34m'period'\u001b[0m\u001b[1;33m]\u001b[0m\u001b[1;33m,\u001b[0m \u001b[0maxis\u001b[0m\u001b[1;33m=\u001b[0m\u001b[1;36m1\u001b[0m\u001b[1;33m)\u001b[0m\u001b[1;33m\u001b[0m\u001b[1;33m\u001b[0m\u001b[0m\n\u001b[1;32m--> 177\u001b[1;33m     \u001b[0madd_candle_data_to_table2\u001b[0m\u001b[1;33m(\u001b[0m\u001b[0mdfdata\u001b[0m\u001b[1;33m,\u001b[0m \u001b[0mcur\u001b[0m\u001b[1;33m,\u001b[0m \u001b[0mtable_name\u001b[0m\u001b[1;33m=\u001b[0m\u001b[0mtable_name\u001b[0m\u001b[1;33m)\u001b[0m\u001b[1;33m\u001b[0m\u001b[1;33m\u001b[0m\u001b[0m\n\u001b[0m\u001b[0;32m    178\u001b[0m     \u001b[0mconn\u001b[0m\u001b[1;33m.\u001b[0m\u001b[0mcommit\u001b[0m\u001b[1;33m(\u001b[0m\u001b[1;33m)\u001b[0m\u001b[1;33m\u001b[0m\u001b[1;33m\u001b[0m\u001b[0m\n",
      "\u001b[1;32mc:\\Users\\kyleh\\Desktop\\Repos\\cryptolytic-ds\\cryptolytic\\data\\sql.py\u001b[0m in \u001b[0;36madd_candle_data_to_table2\u001b[1;34m(d, cur, table_name)\u001b[0m\n\u001b[0;32m     83\u001b[0m     \"\"\"\n\u001b[0;32m     84\u001b[0m     \u001b[0mquery\u001b[0m \u001b[1;33m=\u001b[0m\u001b[1;34m\"%(s), %(s), %(s), %(s), %(s), %(s), %(s), %(s), %(s)\"\u001b[0m\u001b[1;33m\u001b[0m\u001b[1;33m\u001b[0m\u001b[0m\n\u001b[1;32m---> 85\u001b[1;33m     \u001b[0margs_str\u001b[0m \u001b[1;33m=\u001b[0m \u001b[1;33m(\u001b[0m\u001b[1;34m','\u001b[0m\u001b[1;33m.\u001b[0m\u001b[0mjoin\u001b[0m\u001b[1;33m(\u001b[0m\u001b[0mcur\u001b[0m\u001b[1;33m.\u001b[0m\u001b[0mmogrify\u001b[0m\u001b[1;33m(\u001b[0m\u001b[0mquery\u001b[0m\u001b[1;33m,\u001b[0m \u001b[0mx\u001b[0m\u001b[1;33m)\u001b[0m \u001b[1;32mfor\u001b[0m \u001b[0mx\u001b[0m \u001b[1;32min\u001b[0m \u001b[0mmap\u001b[0m\u001b[1;33m(\u001b[0m\u001b[1;32mlambda\u001b[0m \u001b[0mx\u001b[0m\u001b[1;33m:\u001b[0m \u001b[0md\u001b[0m\u001b[1;33m[\u001b[0m\u001b[0mx\u001b[0m\u001b[1;33m]\u001b[0m\u001b[1;33m.\u001b[0m\u001b[0mvalues\u001b[0m\u001b[1;33m,\u001b[0m \u001b[1;33m[\u001b[0m\u001b[1;34m'api'\u001b[0m\u001b[1;33m,\u001b[0m \u001b[1;34m'exchange'\u001b[0m\u001b[1;33m,\u001b[0m \u001b[1;34m'trading_pair'\u001b[0m\u001b[1;33m,\u001b[0m \u001b[1;34m'timestamp'\u001b[0m\u001b[1;33m,\u001b[0m \u001b[1;34m'open'\u001b[0m\u001b[1;33m,\u001b[0m \u001b[1;34m'close'\u001b[0m\u001b[1;33m,\u001b[0m \u001b[1;34m'high'\u001b[0m\u001b[1;33m,\u001b[0m \u001b[1;34m'low'\u001b[0m\u001b[1;33m,\u001b[0m \u001b[1;34m'volume'\u001b[0m\u001b[1;33m]\u001b[0m\u001b[1;33m)\u001b[0m\u001b[1;33m)\u001b[0m\u001b[1;33m)\u001b[0m\u001b[1;33m\u001b[0m\u001b[1;33m\u001b[0m\u001b[0m\n\u001b[0m\u001b[0;32m     86\u001b[0m     \u001b[0mprint\u001b[0m\u001b[1;33m(\u001b[0m\u001b[0margs_str\u001b[0m\u001b[1;33m)\u001b[0m\u001b[1;33m\u001b[0m\u001b[1;33m\u001b[0m\u001b[0m\n\u001b[0;32m     87\u001b[0m     \u001b[1;32mtry\u001b[0m\u001b[1;33m:\u001b[0m\u001b[1;33m\u001b[0m\u001b[1;33m\u001b[0m\u001b[0m\n",
      "\u001b[1;32mc:\\Users\\kyleh\\Desktop\\Repos\\cryptolytic-ds\\cryptolytic\\data\\sql.py\u001b[0m in \u001b[0;36m<genexpr>\u001b[1;34m(.0)\u001b[0m\n\u001b[0;32m     83\u001b[0m     \"\"\"\n\u001b[0;32m     84\u001b[0m     \u001b[0mquery\u001b[0m \u001b[1;33m=\u001b[0m\u001b[1;34m\"%(s), %(s), %(s), %(s), %(s), %(s), %(s), %(s), %(s)\"\u001b[0m\u001b[1;33m\u001b[0m\u001b[1;33m\u001b[0m\u001b[0m\n\u001b[1;32m---> 85\u001b[1;33m     \u001b[0margs_str\u001b[0m \u001b[1;33m=\u001b[0m \u001b[1;33m(\u001b[0m\u001b[1;34m','\u001b[0m\u001b[1;33m.\u001b[0m\u001b[0mjoin\u001b[0m\u001b[1;33m(\u001b[0m\u001b[0mcur\u001b[0m\u001b[1;33m.\u001b[0m\u001b[0mmogrify\u001b[0m\u001b[1;33m(\u001b[0m\u001b[0mquery\u001b[0m\u001b[1;33m,\u001b[0m \u001b[0mx\u001b[0m\u001b[1;33m)\u001b[0m \u001b[1;32mfor\u001b[0m \u001b[0mx\u001b[0m \u001b[1;32min\u001b[0m \u001b[0mmap\u001b[0m\u001b[1;33m(\u001b[0m\u001b[1;32mlambda\u001b[0m \u001b[0mx\u001b[0m\u001b[1;33m:\u001b[0m \u001b[0md\u001b[0m\u001b[1;33m[\u001b[0m\u001b[0mx\u001b[0m\u001b[1;33m]\u001b[0m\u001b[1;33m.\u001b[0m\u001b[0mvalues\u001b[0m\u001b[1;33m,\u001b[0m \u001b[1;33m[\u001b[0m\u001b[1;34m'api'\u001b[0m\u001b[1;33m,\u001b[0m \u001b[1;34m'exchange'\u001b[0m\u001b[1;33m,\u001b[0m \u001b[1;34m'trading_pair'\u001b[0m\u001b[1;33m,\u001b[0m \u001b[1;34m'timestamp'\u001b[0m\u001b[1;33m,\u001b[0m \u001b[1;34m'open'\u001b[0m\u001b[1;33m,\u001b[0m \u001b[1;34m'close'\u001b[0m\u001b[1;33m,\u001b[0m \u001b[1;34m'high'\u001b[0m\u001b[1;33m,\u001b[0m \u001b[1;34m'low'\u001b[0m\u001b[1;33m,\u001b[0m \u001b[1;34m'volume'\u001b[0m\u001b[1;33m]\u001b[0m\u001b[1;33m)\u001b[0m\u001b[1;33m)\u001b[0m\u001b[1;33m)\u001b[0m\u001b[1;33m\u001b[0m\u001b[1;33m\u001b[0m\u001b[0m\n\u001b[0m\u001b[0;32m     86\u001b[0m     \u001b[0mprint\u001b[0m\u001b[1;33m(\u001b[0m\u001b[0margs_str\u001b[0m\u001b[1;33m)\u001b[0m\u001b[1;33m\u001b[0m\u001b[1;33m\u001b[0m\u001b[0m\n\u001b[0;32m     87\u001b[0m     \u001b[1;32mtry\u001b[0m\u001b[1;33m:\u001b[0m\u001b[1;33m\u001b[0m\u001b[1;33m\u001b[0m\u001b[0m\n",
      "\u001b[1;31mIndexError\u001b[0m: only integers, slices (`:`), ellipsis (`...`), numpy.newaxis (`None`) and integer or boolean arrays are valid indices"
     ]
    }
   ],
   "source": [
    "sql.candlestick_to_sql(data=data, table_name='candlesticks')"
   ]
  },
  {
   "cell_type": "code",
   "execution_count": null,
   "metadata": {},
   "outputs": [],
   "source": []
  }
 ],
 "metadata": {
  "kernelspec": {
   "display_name": "Python 3",
   "language": "python",
   "name": "python3"
  },
  "language_info": {
   "codemirror_mode": {
    "name": "ipython",
    "version": 3
   },
   "file_extension": ".py",
   "mimetype": "text/x-python",
   "name": "python",
   "nbconvert_exporter": "python",
   "pygments_lexer": "ipython3",
   "version": "3.7.3"
  }
 },
 "nbformat": 4,
 "nbformat_minor": 4
}