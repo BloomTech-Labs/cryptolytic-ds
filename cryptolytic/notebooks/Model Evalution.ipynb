{
 "cells": [
  {
   "cell_type": "code",
   "execution_count": 1,
   "metadata": {},
   "outputs": [
    {
     "name": "stdout",
     "output_type": "stream",
     "text": [
      "/home/me/Documents/Git/Lambda-School-Labs/cryptolytic-ds\n",
      "Using matplotlib backend: Qt5Agg\n",
      "Populating the interactive namespace from numpy and matplotlib\n"
     ]
    }
   ],
   "source": [
    "%cd ../..\n",
    "%run cryptolytic/notebooks/init.ipynb\n",
    "import pandas as pd\n",
    "import tensorflow as tf\n",
    "import cryptolytic.util as util\n",
    "import cryptolytic.start as start\n",
    "import cryptolytic.viz.plot as plot\n",
    "import cryptolytic.data.sql as sql\n",
    "import cryptolytic.data as d\n",
    "from cryptolytic.util import *\n",
    "import cryptolytic.data.historical as h\n",
    "import cryptolytic.model as m\n",
    "import cryptolytic.model.lstm_framework as lstm\n",
    "import cryptolytic.model.model_framework as mfw\n",
    "import cryptolytic.model.data_work as dw\n",
    "import cryptolytic.model.hyperparameter as hyper\n",
    "import cryptolytic.model.cron_model as cron_model\n",
    "\n",
    "from sklearn.ensemble import RandomForestClassifier\n",
    "from sklearn.linear_model import LogisticRegression\n",
    "from sklearn.model_selection import train_test_split\n",
    "from sklearn.metrics import accuracy_score\n",
    "from sklearn.metrics import confusion_matrix\n",
    "\n",
    "import seaborn as sns\n",
    "import matplotlib.pyplot as plt\n",
    "import matplotlib.dates as mdates\n",
    "%matplotlib inline\n",
    "\n",
    "\n",
    "import cryptolytic.model.xgboost_model as xtrade\n",
    "import cryptolytic.model.xgboost_arb_model as xarb\n",
    "import cryptolytic.data.aws as aws\n",
    "import pickle\n",
    "import cryptolytic.start as start\n",
    "start.init()\n",
    "# https://towardsdatascience.com/fine-tuning-a-classifier-in-scikit-learn-66e048c21e65"
   ]
  },
  {
   "cell_type": "code",
   "execution_count": 2,
   "metadata": {},
   "outputs": [
    {
     "data": {
      "text/plain": [
       "'0.22.1'"
      ]
     },
     "execution_count": 2,
     "metadata": {},
     "output_type": "execute_result"
    }
   ],
   "source": [
    "import sklearn\n",
    "sklearn.__version__"
   ]
  },
  {
   "cell_type": "code",
   "execution_count": 3,
   "metadata": {},
   "outputs": [
    {
     "name": "stdout",
     "output_type": "stream",
     "text": [
      "Help on function confusion_matrix in module sklearn.metrics._classification:\n",
      "\n",
      "confusion_matrix(y_true, y_pred, labels=None, sample_weight=None, normalize=None)\n",
      "    Compute confusion matrix to evaluate the accuracy of a classification.\n",
      "    \n",
      "    By definition a confusion matrix :math:`C` is such that :math:`C_{i, j}`\n",
      "    is equal to the number of observations known to be in group :math:`i` and\n",
      "    predicted to be in group :math:`j`.\n",
      "    \n",
      "    Thus in binary classification, the count of true negatives is\n",
      "    :math:`C_{0,0}`, false negatives is :math:`C_{1,0}`, true positives is\n",
      "    :math:`C_{1,1}` and false positives is :math:`C_{0,1}`.\n",
      "    \n",
      "    Read more in the :ref:`User Guide <confusion_matrix>`.\n",
      "    \n",
      "    Parameters\n",
      "    ----------\n",
      "    y_true : array-like of shape (n_samples,)\n",
      "        Ground truth (correct) target values.\n",
      "    \n",
      "    y_pred : array-like of shape (n_samples,)\n",
      "        Estimated targets as returned by a classifier.\n",
      "    \n",
      "    labels : array-like of shape (n_classes), default=None\n",
      "        List of labels to index the matrix. This may be used to reorder\n",
      "        or select a subset of labels.\n",
      "        If ``None`` is given, those that appear at least once\n",
      "        in ``y_true`` or ``y_pred`` are used in sorted order.\n",
      "    \n",
      "    sample_weight : array-like of shape (n_samples,), default=None\n",
      "        Sample weights.\n",
      "    \n",
      "    normalize : {'true', 'pred', 'all'}, default=None\n",
      "        Normalizes confusion matrix over the true (rows), predicted (columns)\n",
      "        conditions or all the population. If None, confusion matrix will not be\n",
      "        normalized.\n",
      "    \n",
      "    Returns\n",
      "    -------\n",
      "    C : ndarray of shape (n_classes, n_classes)\n",
      "        Confusion matrix.\n",
      "    \n",
      "    References\n",
      "    ----------\n",
      "    .. [1] `Wikipedia entry for the Confusion matrix\n",
      "           <https://en.wikipedia.org/wiki/Confusion_matrix>`_\n",
      "           (Wikipedia and other references may use a different\n",
      "           convention for axes)\n",
      "    \n",
      "    Examples\n",
      "    --------\n",
      "    >>> from sklearn.metrics import confusion_matrix\n",
      "    >>> y_true = [2, 0, 2, 2, 0, 1]\n",
      "    >>> y_pred = [0, 0, 2, 2, 0, 2]\n",
      "    >>> confusion_matrix(y_true, y_pred)\n",
      "    array([[2, 0, 0],\n",
      "           [0, 0, 1],\n",
      "           [1, 0, 2]])\n",
      "    \n",
      "    >>> y_true = [\"cat\", \"ant\", \"cat\", \"cat\", \"ant\", \"bird\"]\n",
      "    >>> y_pred = [\"ant\", \"ant\", \"cat\", \"cat\", \"ant\", \"cat\"]\n",
      "    >>> confusion_matrix(y_true, y_pred, labels=[\"ant\", \"bird\", \"cat\"])\n",
      "    array([[2, 0, 0],\n",
      "           [0, 0, 1],\n",
      "           [1, 0, 2]])\n",
      "    \n",
      "    In the binary case, we can extract true positives, etc as follows:\n",
      "    \n",
      "    >>> tn, fp, fn, tp = confusion_matrix([0, 1, 0, 1], [1, 1, 1, 0]).ravel()\n",
      "    >>> (tn, fp, fn, tp)\n",
      "    (0, 2, 1, 1)\n",
      "\n"
     ]
    }
   ],
   "source": [
    "help(confusion_matrix)"
   ]
  },
  {
   "cell_type": "code",
   "execution_count": 4,
   "metadata": {},
   "outputs": [
    {
     "data": {
      "text/plain": [
       "<module 'cryptolytic.model.model_framework' from '/home/me/Documents/Git/Lambda-School-Labs/cryptolytic-ds/cryptolytic/model/model_framework.py'>"
      ]
     },
     "execution_count": 4,
     "metadata": {},
     "output_type": "execute_result"
    }
   ],
   "source": [
    "mfw"
   ]
  },
  {
   "cell_type": "code",
   "execution_count": 5,
   "metadata": {},
   "outputs": [
    {
     "name": "stdout",
     "output_type": "stream",
     "text": [
      "[<class 'str'>, <class 'str'>, <class 'int'>, <class 'str'>, <class 'int'>]\n"
     ]
    },
    {
     "name": "stderr",
     "output_type": "stream",
     "text": [
      "/home/me/anaconda3/lib/python3.7/site-packages/ta/trend.py:543: RuntimeWarning:\n",
      "\n",
      "invalid value encountered in double_scalars\n",
      "\n",
      "/home/me/anaconda3/lib/python3.7/site-packages/ta/trend.py:547: RuntimeWarning:\n",
      "\n",
      "invalid value encountered in double_scalars\n",
      "\n",
      "/home/me/anaconda3/lib/python3.7/site-packages/pandas/core/generic.py:9114: SettingWithCopyWarning:\n",
      "\n",
      "\n",
      "A value is trying to be set on a copy of a slice from a DataFrame\n",
      "\n",
      "See the caveats in the documentation: http://pandas.pydata.org/pandas-docs/stable/user_guide/indexing.html#returning-a-view-versus-a-copy\n",
      "\n",
      "/home/me/anaconda3/lib/python3.7/site-packages/ipykernel_launcher.py:6: SettingWithCopyWarning:\n",
      "\n",
      "\n",
      "A value is trying to be set on a copy of a slice from a DataFrame\n",
      "\n",
      "See the caveats in the documentation: http://pandas.pydata.org/pandas-docs/stable/user_guide/indexing.html#returning-a-view-versus-a-copy\n",
      "\n",
      "/home/me/Documents/Git/Lambda-School-Labs/cryptolytic-ds/cryptolytic/model/data_work.py:45: RuntimeWarning:\n",
      "\n",
      "invalid value encountered in true_divide\n",
      "\n"
     ]
    }
   ],
   "source": [
    "exchange_id = 'hitbtc'\n",
    "trading_pair = 'btc_usd'\n",
    "period = 300\n",
    "start = '03-01-2019'\n",
    "\n",
    "df, dataset = h.get_data(exchange_id, trading_pair, period, start, n=8000)\n",
    "preds, score = xtrade.trade_model(df)"
   ]
  },
  {
   "cell_type": "code",
   "execution_count": 6,
   "metadata": {},
   "outputs": [],
   "source": [
    "def my_confusion_matrix(y_test, y_preds):\n",
    "    # labels for confusion matrix\n",
    "    unique_y_test = y_test.unique().tolist()\n",
    "    unique_y_preds = list(set(y_preds))\n",
    "    labels = list(set(unique_y_test + unique_y_preds))\n",
    "    labels.sort()\n",
    "    columns = [f'Predicted {label}' for label in labels]\n",
    "    index = [f'Actual {label}' for label in labels]\n",
    "    cm = confusion_matrix(y_test, y_preds)\n",
    "    cm = cm / cm.sum(axis=1, keepdims=True)\n",
    "\n",
    "    # create confusion matrix\n",
    "    confusion = pd.DataFrame(cm,\n",
    "                         columns=columns, index=index)\n",
    "    return confusion\n"
   ]
  },
  {
   "cell_type": "code",
   "execution_count": 7,
   "metadata": {},
   "outputs": [
    {
     "name": "stdout",
     "output_type": "stream",
     "text": [
      "[<class 'str'>, <class 'str'>, <class 'int'>, <class 'str'>, <class 'int'>]\n"
     ]
    },
    {
     "name": "stderr",
     "output_type": "stream",
     "text": [
      "/home/me/anaconda3/lib/python3.7/site-packages/ta/trend.py:543: RuntimeWarning:\n",
      "\n",
      "invalid value encountered in double_scalars\n",
      "\n",
      "/home/me/anaconda3/lib/python3.7/site-packages/ta/trend.py:547: RuntimeWarning:\n",
      "\n",
      "invalid value encountered in double_scalars\n",
      "\n",
      "/home/me/anaconda3/lib/python3.7/site-packages/pandas/core/generic.py:9114: SettingWithCopyWarning:\n",
      "\n",
      "\n",
      "A value is trying to be set on a copy of a slice from a DataFrame\n",
      "\n",
      "See the caveats in the documentation: http://pandas.pydata.org/pandas-docs/stable/user_guide/indexing.html#returning-a-view-versus-a-copy\n",
      "\n",
      "/home/me/anaconda3/lib/python3.7/site-packages/ipykernel_launcher.py:19: SettingWithCopyWarning:\n",
      "\n",
      "\n",
      "A value is trying to be set on a copy of a slice from a DataFrame\n",
      "\n",
      "See the caveats in the documentation: http://pandas.pydata.org/pandas-docs/stable/user_guide/indexing.html#returning-a-view-versus-a-copy\n",
      "\n",
      "/home/me/anaconda3/lib/python3.7/site-packages/numpy/core/fromnumeric.py:90: RuntimeWarning:\n",
      "\n",
      "invalid value encountered in reduce\n",
      "\n",
      "/home/me/anaconda3/lib/python3.7/site-packages/numpy/lib/nanfunctions.py:1541: RuntimeWarning:\n",
      "\n",
      "invalid value encountered in subtract\n",
      "\n",
      "/home/me/Documents/Git/Lambda-School-Labs/cryptolytic-ds/cryptolytic/model/data_work.py:45: RuntimeWarning:\n",
      "\n",
      "invalid value encountered in subtract\n",
      "\n",
      "/home/me/Documents/Git/Lambda-School-Labs/cryptolytic-ds/cryptolytic/model/data_work.py:45: RuntimeWarning:\n",
      "\n",
      "invalid value encountered in true_divide\n",
      "\n"
     ]
    },
    {
     "name": "stdout",
     "output_type": "stream",
     "text": [
      "                      timestamp     open    close     high      low  \\\n",
      "datetime                                                              \n",
      "2019-12-01 10:00:00  1575194400  0.02013  0.02013  0.02015  0.02015   \n",
      "2019-12-01 11:00:00  1575198000  0.02007  0.02007  0.02007  0.02007   \n",
      "2019-12-01 11:05:00  1575198300  0.02007  0.02007  0.02007  0.02007   \n",
      "2019-12-01 13:20:00  1575206400  0.02017  0.02017  0.02017  0.02017   \n",
      "2019-12-01 13:50:00  1575208200  0.02026  0.02026  0.02026  0.02026   \n",
      "...                         ...      ...      ...      ...      ...   \n",
      "2020-01-17 22:45:00  1579301100  0.01923  0.01923  0.01931  0.01931   \n",
      "2020-01-17 23:00:00  1579302000  0.01923  0.01923  0.01923  0.01923   \n",
      "2020-01-17 23:45:00  1579304700  0.01921  0.01921  0.01922  0.01922   \n",
      "2020-01-17 23:55:00  1579305300  0.01922  0.01922  0.01922  0.01922   \n",
      "2020-01-18 00:00:00  1579305600  0.01915  0.01915  0.01915  0.01915   \n",
      "\n",
      "                        volume  high_m_low  close_m_open  arb_diff  \\\n",
      "datetime                                                             \n",
      "2019-12-01 10:00:00  21.439176         0.0           0.0 -0.000018   \n",
      "2019-12-01 11:00:00  14.120000         0.0           0.0 -0.000023   \n",
      "2019-12-01 11:05:00   0.006615         0.0           0.0 -0.000032   \n",
      "2019-12-01 13:20:00   0.002876         0.0           0.0 -0.000004   \n",
      "2019-12-01 13:50:00   5.000000         0.0           0.0 -0.000015   \n",
      "...                        ...         ...           ...       ...   \n",
      "2020-01-17 22:45:00   0.006624         0.0           0.0 -0.000088   \n",
      "2020-01-17 23:00:00   0.003312         0.0           0.0  0.000003   \n",
      "2020-01-17 23:45:00   1.080000         0.0           0.0  0.000008   \n",
      "2020-01-17 23:55:00   5.254942         0.0           0.0  0.000082   \n",
      "2020-01-18 00:00:00   0.003312         0.0           0.0  0.000032   \n",
      "\n",
      "                     arb_signal  ...  trend_adx_neg  trend_vortex_ind_pos  \\\n",
      "datetime                         ...                                        \n",
      "2019-12-01 10:00:00   -0.000873  ...       0.000000              0.000000   \n",
      "2019-12-01 11:00:00   -0.001160  ...       0.000000              0.000000   \n",
      "2019-12-01 11:05:00   -0.001585  ...       0.000000              0.000000   \n",
      "2019-12-01 13:20:00   -0.000218  ...       0.000000              0.000000   \n",
      "2019-12-01 13:50:00   -0.000741  ...       0.000000              0.000000   \n",
      "...                         ...  ...            ...                   ...   \n",
      "2020-01-17 22:45:00   -0.004539  ...      33.589308              0.688679   \n",
      "2020-01-17 23:00:00    0.000155  ...      43.283129              0.752577   \n",
      "2020-01-17 23:45:00    0.000427  ...      44.013715              0.750000   \n",
      "2020-01-17 23:55:00    0.004276  ...      43.411504              0.730337   \n",
      "2020-01-18 00:00:00    0.001663  ...      48.702523              0.715909   \n",
      "\n",
      "                     trend_vortex_ind_neg  trend_vortex_ind_diff  trend_trix  \\\n",
      "datetime                                                                       \n",
      "2019-12-01 10:00:00              0.000000               0.000000    0.000000   \n",
      "2019-12-01 11:00:00              0.000000               0.000000    0.000000   \n",
      "2019-12-01 11:05:00              0.000000               0.000000    0.000000   \n",
      "2019-12-01 13:20:00              0.000000               0.000000    0.000000   \n",
      "2019-12-01 13:50:00              0.000000               0.000000    0.000000   \n",
      "...                                   ...                    ...         ...   \n",
      "2020-01-17 22:45:00              1.179245              -0.490566    0.016318   \n",
      "2020-01-17 23:00:00              1.288660              -0.536082    0.015853   \n",
      "2020-01-17 23:45:00              1.315217              -0.565217    0.015847   \n",
      "2020-01-17 23:55:00              1.314607              -0.584270    0.016220   \n",
      "2020-01-18 00:00:00              1.306818              -0.590909    0.016083   \n",
      "\n",
      "                     trend_mass_index   trend_cci  trend_dpo  trend_kst  \\\n",
      "datetime                                                                  \n",
      "2019-12-01 10:00:00          0.000000    0.000000  -0.001377  73.440061   \n",
      "2019-12-01 11:00:00          0.000000  -66.666667  -0.001347  71.840299   \n",
      "2019-12-01 11:05:00          0.000000  -50.000000  -0.001337  71.307045   \n",
      "2019-12-01 13:20:00          0.000000   87.179487  -0.001357  72.373553   \n",
      "2019-12-01 13:50:00          0.000000  134.556575  -0.001387  73.973315   \n",
      "...                               ...         ...        ...        ...   \n",
      "2020-01-17 22:45:00         25.116959   71.419142   0.000212   2.799782   \n",
      "2020-01-17 23:00:00         24.645926   28.608924   0.000132   2.495035   \n",
      "2020-01-17 23:45:00         24.289474   16.324381   0.000050   2.874790   \n",
      "2020-01-17 23:55:00         24.009724   17.647059  -0.000192   3.012548   \n",
      "2020-01-18 00:00:00         23.784020  -34.285714  -0.000139   2.782865   \n",
      "\n",
      "                     trend_kst_sig  \n",
      "datetime                            \n",
      "2019-12-01 10:00:00      73.440061  \n",
      "2019-12-01 11:00:00      72.640180  \n",
      "2019-12-01 11:05:00      72.195802  \n",
      "2019-12-01 13:20:00      72.240240  \n",
      "2019-12-01 13:50:00      72.586855  \n",
      "...                            ...  \n",
      "2020-01-17 22:45:00       6.569213  \n",
      "2020-01-17 23:00:00       5.692223  \n",
      "2020-01-17 23:45:00       4.952051  \n",
      "2020-01-17 23:55:00       4.331574  \n",
      "2020-01-18 00:00:00       3.797122  \n",
      "\n",
      "[1368 rows x 51 columns]\n"
     ]
    }
   ],
   "source": [
    "params = {\n",
    "        'history_size': 400,\n",
    "        'lahead': 12*3,\n",
    "        'step': 1,\n",
    "        'period': 300, # 5 minute candles\n",
    "        'batch_size': 200,\n",
    "        'train_size': 10000,\n",
    "        'ncandles': 5000\n",
    "}\n",
    "start = '01-12-2019'\n",
    "\n",
    "confuses = []\n",
    "for exchange_id, trading_pair in h.yield_unique_pair(return_api=False):\n",
    "    \n",
    "   # model_path = mfw.get_path('models', 'trade', exchange_id, trading_pair, '.pkl')\n",
    "   # model = pickle.load(open(model_path, 'rb'))\n",
    "    \n",
    "    \n",
    "    df, dataset = h.get_data(exchange_id, trading_pair, params['period'], start, n=params['train_size'])    \n",
    "    \n",
    "    #df.drop('volume_adi',axis=1,inplace=True)\n",
    "    if df is None:\n",
    "        break\n",
    "\n",
    "    target = df.columns.get_loc('close')\n",
    "\n",
    "    # Find the x and y train and test data\n",
    "    x_train, y_train, x_test, y_test = xtrade.data_splice(df)\n",
    "    print(x_train)\n",
    "    # TODO delete\n",
    "    model = xtrade.create_model()\n",
    "    model = xtrade.fit_model(model, x_train, y_train)\n",
    "    y_preds = model.predict(x_test)\n",
    "    score = accuracy_score(y_test, y_preds)\n",
    "    confus = my_confusion_matrix(y_test, y_preds)\n",
    "    confuses.append(confus)\n",
    "    break"
   ]
  },
  {
   "cell_type": "code",
   "execution_count": 8,
   "metadata": {},
   "outputs": [
    {
     "data": {
      "image/png": "[encoded data removed]",
      "text/plain": [
       "<Figure size 1440x504 with 2 Axes>"
      ]
     },
     "metadata": {},
     "output_type": "display_data"
    }
   ],
   "source": [
    "import seaborn as sns\n",
    "plt.style.use('ggplot')\n",
    "rcParams['figure.figsize'] = 20,7\n",
    "for confus in confuses:\n",
    "    sns.heatmap(confus)\n",
    "    plt.show()"
   ]
  },
  {
   "cell_type": "code",
   "execution_count": 9,
   "metadata": {},
   "outputs": [
    {
     "data": {
      "text/html": [
       "<div>\n",
       "<style scoped>\n",
       "    .dataframe tbody tr th:only-of-type {\n",
       "        vertical-align: middle;\n",
       "    }\n",
       "\n",
       "    .dataframe tbody tr th {\n",
       "        vertical-align: top;\n",
       "    }\n",
       "\n",
       "    .dataframe thead th {\n",
       "        text-align: right;\n",
       "    }\n",
       "</style>\n",
       "<table border=\"1\" class=\"dataframe\">\n",
       "  <thead>\n",
       "    <tr style=\"text-align: right;\">\n",
       "      <th></th>\n",
       "      <th>Predicted -1</th>\n",
       "      <th>Predicted 0</th>\n",
       "      <th>Predicted 1</th>\n",
       "    </tr>\n",
       "  </thead>\n",
       "  <tbody>\n",
       "    <tr>\n",
       "      <td>Actual -1</td>\n",
       "      <td>0.125000</td>\n",
       "      <td>0.87500</td>\n",
       "      <td>0.000000</td>\n",
       "    </tr>\n",
       "    <tr>\n",
       "      <td>Actual 0</td>\n",
       "      <td>0.006431</td>\n",
       "      <td>0.96463</td>\n",
       "      <td>0.028939</td>\n",
       "    </tr>\n",
       "    <tr>\n",
       "      <td>Actual 1</td>\n",
       "      <td>0.000000</td>\n",
       "      <td>0.93750</td>\n",
       "      <td>0.062500</td>\n",
       "    </tr>\n",
       "  </tbody>\n",
       "</table>\n",
       "</div>"
      ],
      "text/plain": [
       "           Predicted -1  Predicted 0  Predicted 1\n",
       "Actual -1      0.125000      0.87500     0.000000\n",
       "Actual 0       0.006431      0.96463     0.028939\n",
       "Actual 1       0.000000      0.93750     0.062500"
      ]
     },
     "execution_count": 9,
     "metadata": {},
     "output_type": "execute_result"
    }
   ],
   "source": [
    "confuses[0] "
   ]
  },
  {
   "cell_type": "code",
   "execution_count": 10,
   "metadata": {},
   "outputs": [
    {
     "name": "stdout",
     "output_type": "stream",
     "text": [
      "              precision    recall  f1-score   support\n",
      "\n",
      "          -1       0.50      0.12      0.20        16\n",
      "           0       0.91      0.96      0.94       311\n",
      "           1       0.10      0.06      0.08        16\n",
      "\n",
      "    accuracy                           0.88       343\n",
      "   macro avg       0.50      0.38      0.40       343\n",
      "weighted avg       0.85      0.88      0.86       343\n",
      "\n"
     ]
    }
   ],
   "source": [
    "from sklearn.metrics import classification_report\n",
    "print(classification_report(y_test,y_preds))"
   ]
  },
  {
   "cell_type": "code",
   "execution_count": 16,
   "metadata": {},
   "outputs": [
    {
     "data": {
      "text/plain": [
       "datetime\n",
       "2020-01-18 00:05:00    0\n",
       "2020-01-18 00:10:00    0\n",
       "2020-01-18 00:15:00    0\n",
       "2020-01-18 00:35:00    0\n",
       "2020-01-18 00:55:00    0\n",
       "                      ..\n",
       "2020-01-30 18:45:00    0\n",
       "2020-01-30 19:15:00    1\n",
       "2020-01-30 19:20:00    0\n",
       "2020-01-30 19:40:00    0\n",
       "2020-01-30 20:10:00    0\n",
       "Name: price_increased, Length: 343, dtype: int64"
      ]
     },
     "execution_count": 16,
     "metadata": {},
     "output_type": "execute_result"
    }
   ],
   "source": [
    "y_test"
   ]
  },
  {
   "cell_type": "code",
   "execution_count": null,
   "metadata": {},
   "outputs": [],
   "source": []
  }
 ],
 "metadata": {
  "kernelspec": {
   "display_name": "Python 3",
   "language": "python",
   "name": "python3"
  },
  "language_info": {
   "codemirror_mode": {
    "name": "ipython",
    "version": 3
   },
   "file_extension": ".py",
   "mimetype": "text/x-python",
   "name": "python",
   "nbconvert_exporter": "python",
   "pygments_lexer": "ipython3",
   "version": "3.7.4"
  }
 },
 "nbformat": 4,
 "nbformat_minor": 2
}
