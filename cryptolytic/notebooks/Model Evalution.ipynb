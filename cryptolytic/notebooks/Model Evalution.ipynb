{
 "cells": [
  {
   "cell_type": "code",
   "execution_count": 1,
   "metadata": {},
   "outputs": [
    {
     "name": "stdout",
     "output_type": "stream",
     "text": [
      "/home/me/Documents/Git/Lambda-School-Labs/cryptolytic-ds\n",
      "Using matplotlib backend: Qt5Agg\n",
      "Populating the interactive namespace from numpy and matplotlib\n"
     ]
    }
   ],
   "source": [
    "%cd ../..\n",
    "%run cryptolytic/notebooks/init.ipynb\n",
    "import pandas as pd\n",
    "import tensorflow as tf\n",
    "import cryptolytic.util as util\n",
    "import cryptolytic.start as start\n",
    "import cryptolytic.viz.plot as plot\n",
    "import cryptolytic.data.sql as sql\n",
    "import cryptolytic.data as d\n",
    "from cryptolytic.util import *\n",
    "import cryptolytic.data.historical as h\n",
    "import cryptolytic.model as m\n",
    "import cryptolytic.model.lstm_framework as lstm\n",
    "import cryptolytic.model.model_framework as mfw\n",
    "import cryptolytic.model.data_work as dw\n",
    "import cryptolytic.model.hyperparameter as hyper\n",
    "import cryptolytic.model.cron_model as cron_model\n",
    "\n",
    "from sklearn.ensemble import RandomForestClassifier\n",
    "from sklearn.linear_model import LogisticRegression\n",
    "from sklearn.model_selection import train_test_split\n",
    "from sklearn.metrics import accuracy_score\n",
    "\n",
    "import seaborn as sns\n",
    "import matplotlib.pyplot as plt\n",
    "import matplotlib.dates as mdates\n",
    "%matplotlib inline\n",
    "\n",
    "\n",
    "import cryptolytic.model.xgboost_model as xtrade\n",
    "import cryptolytic.model.xgboost_arb_model as xarb\n",
    "import cryptolytic.data.aws as aws\n",
    "import pickle\n",
    "import cryptolytic.start as start\n",
    "start.init()"
   ]
  },
  {
   "cell_type": "code",
   "execution_count": 2,
   "metadata": {},
   "outputs": [
    {
     "data": {
      "text/plain": [
       "<module 'cryptolytic.model.model_framework' from '/home/me/Documents/Git/Lambda-School-Labs/cryptolytic-ds/cryptolytic/model/model_framework.py'>"
      ]
     },
     "execution_count": 2,
     "metadata": {},
     "output_type": "execute_result"
    }
   ],
   "source": [
    "mfw"
   ]
  },
  {
   "cell_type": "code",
   "execution_count": 3,
   "metadata": {},
   "outputs": [
    {
     "name": "stdout",
     "output_type": "stream",
     "text": [
      "[<class 'str'>, <class 'str'>, <class 'int'>, <class 'str'>, <class 'int'>]\n"
     ]
    },
    {
     "name": "stderr",
     "output_type": "stream",
     "text": [
      "/home/me/anaconda3/lib/python3.7/site-packages/ta/trend.py:543: RuntimeWarning:\n",
      "\n",
      "invalid value encountered in double_scalars\n",
      "\n",
      "/home/me/anaconda3/lib/python3.7/site-packages/ta/trend.py:547: RuntimeWarning:\n",
      "\n",
      "invalid value encountered in double_scalars\n",
      "\n",
      "/home/me/anaconda3/lib/python3.7/site-packages/pandas/core/generic.py:9114: SettingWithCopyWarning:\n",
      "\n",
      "\n",
      "A value is trying to be set on a copy of a slice from a DataFrame\n",
      "\n",
      "See the caveats in the documentation: http://pandas.pydata.org/pandas-docs/stable/user_guide/indexing.html#returning-a-view-versus-a-copy\n",
      "\n",
      "/home/me/anaconda3/lib/python3.7/site-packages/ipykernel_launcher.py:6: SettingWithCopyWarning:\n",
      "\n",
      "\n",
      "A value is trying to be set on a copy of a slice from a DataFrame\n",
      "\n",
      "See the caveats in the documentation: http://pandas.pydata.org/pandas-docs/stable/user_guide/indexing.html#returning-a-view-versus-a-copy\n",
      "\n",
      "/home/me/Documents/Git/Lambda-School-Labs/cryptolytic-ds/cryptolytic/model/data_work.py:45: RuntimeWarning:\n",
      "\n",
      "invalid value encountered in true_divide\n",
      "\n"
     ]
    }
   ],
   "source": [
    "exchange_id = 'hitbtc'\n",
    "trading_pair = 'btc_usd'\n",
    "period = 300\n",
    "start = '03-01-2019'\n",
    "\n",
    "df, dataset = h.get_data(exchange_id, trading_pair, period, start, n=8000)\n",
    "preds, score = xtrade.trade_model(df)"
   ]
  },
  {
   "cell_type": "code",
   "execution_count": 7,
   "metadata": {},
   "outputs": [],
   "source": [
    "def my_confusion_matrix(y_test, y_preds):\n",
    "    # labels for confusion matrix\n",
    "    unique_y_test = y_test.unique().tolist()\n",
    "    unique_y_preds = list(set(y_preds))\n",
    "    labels = list(set(unique_y_test + unique_y_preds))\n",
    "    labels.sort()\n",
    "    columns = [f'Predicted {label}' for label in labels]\n",
    "    index = [f'Actual {label}' for label in labels]\n",
    "\n",
    "    # create confusion matrix\n",
    "    confusion = pd.DataFrame(confusion_matrix(y_test, y_preds),\n",
    "                         columns=columns, index=index)\n",
    "    print(model_name + ' confusion matrix:')\n",
    "    print(confusion, '\\n')\n",
    "    return confusion\n"
   ]
  },
  {
   "cell_type": "code",
   "execution_count": 9,
   "metadata": {},
   "outputs": [
    {
     "name": "stdout",
     "output_type": "stream",
     "text": [
      "[<class 'str'>, <class 'str'>, <class 'int'>, <class 'str'>, <class 'int'>]\n"
     ]
    },
    {
     "name": "stderr",
     "output_type": "stream",
     "text": [
      "/home/me/anaconda3/lib/python3.7/site-packages/ta/trend.py:543: RuntimeWarning:\n",
      "\n",
      "invalid value encountered in double_scalars\n",
      "\n",
      "/home/me/anaconda3/lib/python3.7/site-packages/ta/trend.py:547: RuntimeWarning:\n",
      "\n",
      "invalid value encountered in double_scalars\n",
      "\n",
      "/home/me/anaconda3/lib/python3.7/site-packages/pandas/core/generic.py:9114: SettingWithCopyWarning:\n",
      "\n",
      "\n",
      "A value is trying to be set on a copy of a slice from a DataFrame\n",
      "\n",
      "See the caveats in the documentation: http://pandas.pydata.org/pandas-docs/stable/user_guide/indexing.html#returning-a-view-versus-a-copy\n",
      "\n",
      "/home/me/anaconda3/lib/python3.7/site-packages/ipykernel_launcher.py:18: SettingWithCopyWarning:\n",
      "\n",
      "\n",
      "A value is trying to be set on a copy of a slice from a DataFrame\n",
      "\n",
      "See the caveats in the documentation: http://pandas.pydata.org/pandas-docs/stable/user_guide/indexing.html#returning-a-view-versus-a-copy\n",
      "\n",
      "/home/me/anaconda3/lib/python3.7/site-packages/numpy/core/fromnumeric.py:90: RuntimeWarning:\n",
      "\n",
      "invalid value encountered in reduce\n",
      "\n",
      "/home/me/anaconda3/lib/python3.7/site-packages/numpy/lib/nanfunctions.py:1541: RuntimeWarning:\n",
      "\n",
      "invalid value encountered in subtract\n",
      "\n",
      "/home/me/Documents/Git/Lambda-School-Labs/cryptolytic-ds/cryptolytic/model/data_work.py:45: RuntimeWarning:\n",
      "\n",
      "invalid value encountered in subtract\n",
      "\n",
      "/home/me/Documents/Git/Lambda-School-Labs/cryptolytic-ds/cryptolytic/model/data_work.py:45: RuntimeWarning:\n",
      "\n",
      "invalid value encountered in true_divide\n",
      "\n"
     ]
    },
    {
     "name": "stdout",
     "output_type": "stream",
     "text": [
      "                      timestamp     open    close     high      low  \\\n",
      "datetime                                                              \n",
      "2019-12-01 10:00:00  1575194400  0.02013  0.02013  0.02015  0.02015   \n",
      "2019-12-01 11:00:00  1575198000  0.02007  0.02007  0.02007  0.02007   \n",
      "2019-12-01 11:05:00  1575198300  0.02007  0.02007  0.02007  0.02007   \n",
      "2019-12-01 13:20:00  1575206400  0.02017  0.02017  0.02017  0.02017   \n",
      "2019-12-01 13:50:00  1575208200  0.02026  0.02026  0.02026  0.02026   \n",
      "...                         ...      ...      ...      ...      ...   \n",
      "2020-01-17 21:55:00  1579298100  0.01915  0.01915  0.01915  0.01915   \n",
      "2020-01-17 22:45:00  1579301100  0.01923  0.01923  0.01931  0.01931   \n",
      "2020-01-17 23:00:00  1579302000  0.01923  0.01923  0.01923  0.01923   \n",
      "2020-01-17 23:45:00  1579304700  0.01921  0.01921  0.01922  0.01922   \n",
      "2020-01-17 23:55:00  1579305300  0.01922  0.01922  0.01922  0.01922   \n",
      "\n",
      "                        volume  high_m_low  close_m_open  arb_diff  \\\n",
      "datetime                                                             \n",
      "2019-12-01 10:00:00  21.439176         0.0           0.0 -0.000018   \n",
      "2019-12-01 11:00:00  14.120000         0.0           0.0 -0.000023   \n",
      "2019-12-01 11:05:00   0.006615         0.0           0.0 -0.000032   \n",
      "2019-12-01 13:20:00   0.002876         0.0           0.0 -0.000004   \n",
      "2019-12-01 13:50:00   5.000000         0.0           0.0 -0.000015   \n",
      "...                        ...         ...           ...       ...   \n",
      "2020-01-17 21:55:00   0.003312         0.0           0.0 -0.000028   \n",
      "2020-01-17 22:45:00   0.006624         0.0           0.0 -0.000088   \n",
      "2020-01-17 23:00:00   0.003312         0.0           0.0  0.000003   \n",
      "2020-01-17 23:45:00   1.080000         0.0           0.0  0.000008   \n",
      "2020-01-17 23:55:00   5.254942         0.0           0.0  0.000082   \n",
      "\n",
      "                     arb_signal  ...  trend_adx_neg  trend_vortex_ind_pos  \\\n",
      "datetime                         ...                                        \n",
      "2019-12-01 10:00:00   -0.000873  ...       0.000000              0.000000   \n",
      "2019-12-01 11:00:00   -0.001160  ...       0.000000              0.000000   \n",
      "2019-12-01 11:05:00   -0.001585  ...       0.000000              0.000000   \n",
      "2019-12-01 13:20:00   -0.000218  ...       0.000000              0.000000   \n",
      "2019-12-01 13:50:00   -0.000741  ...       0.000000              0.000000   \n",
      "...                         ...  ...            ...                   ...   \n",
      "2020-01-17 21:55:00   -0.001465  ...      40.963975              0.623656   \n",
      "2020-01-17 22:45:00   -0.004539  ...      33.589308              0.688679   \n",
      "2020-01-17 23:00:00    0.000155  ...      43.283129              0.752577   \n",
      "2020-01-17 23:45:00    0.000427  ...      44.013715              0.750000   \n",
      "2020-01-17 23:55:00    0.004276  ...      43.411504              0.730337   \n",
      "\n",
      "                     trend_vortex_ind_neg  trend_vortex_ind_diff  trend_trix  \\\n",
      "datetime                                                                       \n",
      "2019-12-01 10:00:00              0.000000               0.000000    0.000000   \n",
      "2019-12-01 11:00:00              0.000000               0.000000    0.000000   \n",
      "2019-12-01 11:05:00              0.000000               0.000000    0.000000   \n",
      "2019-12-01 13:20:00              0.000000               0.000000    0.000000   \n",
      "2019-12-01 13:50:00              0.000000               0.000000    0.000000   \n",
      "...                                   ...                    ...         ...   \n",
      "2020-01-17 21:55:00              1.182796              -0.559140    0.017790   \n",
      "2020-01-17 22:45:00              1.179245              -0.490566    0.016318   \n",
      "2020-01-17 23:00:00              1.288660              -0.536082    0.015853   \n",
      "2020-01-17 23:45:00              1.315217              -0.565217    0.015847   \n",
      "2020-01-17 23:55:00              1.314607              -0.584270    0.016220   \n",
      "\n",
      "                     trend_mass_index   trend_cci  trend_dpo  trend_kst  \\\n",
      "datetime                                                                  \n",
      "2019-12-01 10:00:00          0.000000    0.000000  -0.001378  73.465330   \n",
      "2019-12-01 11:00:00          0.000000  -66.666667  -0.001348  71.865531   \n",
      "2019-12-01 11:05:00          0.000000  -50.000000  -0.001338  71.332264   \n",
      "2019-12-01 13:20:00          0.000000   87.179487  -0.001358  72.398797   \n",
      "2019-12-01 13:50:00          0.000000  134.556575  -0.001388  73.998596   \n",
      "...                               ...         ...        ...        ...   \n",
      "2020-01-17 21:55:00         25.223225  -28.112450   0.000188   3.256551   \n",
      "2020-01-17 22:45:00         25.116959   71.419142   0.000212   2.799782   \n",
      "2020-01-17 23:00:00         24.645926   28.608924   0.000132   2.495035   \n",
      "2020-01-17 23:45:00         24.289474   16.324381   0.000050   2.874790   \n",
      "2020-01-17 23:55:00         24.009724   17.647059  -0.000192   3.012548   \n",
      "\n",
      "                     trend_kst_sig  \n",
      "datetime                            \n",
      "2019-12-01 10:00:00      73.465330  \n",
      "2019-12-01 11:00:00      72.665430  \n",
      "2019-12-01 11:05:00      72.221042  \n",
      "2019-12-01 13:20:00      72.265481  \n",
      "2019-12-01 13:50:00      72.612104  \n",
      "...                            ...  \n",
      "2020-01-17 21:55:00       7.485589  \n",
      "2020-01-17 22:45:00       6.569213  \n",
      "2020-01-17 23:00:00       5.692223  \n",
      "2020-01-17 23:45:00       4.952051  \n",
      "2020-01-17 23:55:00       4.331574  \n",
      "\n",
      "[1367 rows x 51 columns]\n"
     ]
    },
    {
     "ename": "NameError",
     "evalue": "name 'confusion_matrix' is not defined",
     "output_type": "error",
     "traceback": [
      "\u001b[0;31m---------------------------------------------------------------------------\u001b[0m",
      "\u001b[0;31mNameError\u001b[0m                                 Traceback (most recent call last)",
      "\u001b[0;32m<ipython-input-9-8f61bd2e4b42>\u001b[0m in \u001b[0;36m<module>\u001b[0;34m\u001b[0m\n\u001b[1;32m     32\u001b[0m     \u001b[0my_preds\u001b[0m \u001b[0;34m=\u001b[0m \u001b[0mmodel\u001b[0m\u001b[0;34m.\u001b[0m\u001b[0mpredict\u001b[0m\u001b[0;34m(\u001b[0m\u001b[0mx_test\u001b[0m\u001b[0;34m)\u001b[0m\u001b[0;34m\u001b[0m\u001b[0;34m\u001b[0m\u001b[0m\n\u001b[1;32m     33\u001b[0m     \u001b[0mscore\u001b[0m \u001b[0;34m=\u001b[0m \u001b[0maccuracy_score\u001b[0m\u001b[0;34m(\u001b[0m\u001b[0my_test\u001b[0m\u001b[0;34m,\u001b[0m \u001b[0my_preds\u001b[0m\u001b[0;34m)\u001b[0m\u001b[0;34m\u001b[0m\u001b[0;34m\u001b[0m\u001b[0m\n\u001b[0;32m---> 34\u001b[0;31m     \u001b[0mconfus\u001b[0m \u001b[0;34m=\u001b[0m \u001b[0mmy_confusion_matrix\u001b[0m\u001b[0;34m(\u001b[0m\u001b[0my_test\u001b[0m\u001b[0;34m,\u001b[0m \u001b[0my_preds\u001b[0m\u001b[0;34m)\u001b[0m\u001b[0;34m\u001b[0m\u001b[0;34m\u001b[0m\u001b[0m\n\u001b[0m\u001b[1;32m     35\u001b[0m     \u001b[0mconfusion_matrix\u001b[0m\u001b[0;34m(\u001b[0m\u001b[0mconfus\u001b[0m\u001b[0;34m)\u001b[0m\u001b[0;34m\u001b[0m\u001b[0;34m\u001b[0m\u001b[0m\n\u001b[1;32m     36\u001b[0m \u001b[0;34m\u001b[0m\u001b[0m\n",
      "\u001b[0;32m<ipython-input-7-07f2019d1401>\u001b[0m in \u001b[0;36mmy_confusion_matrix\u001b[0;34m(y_test, y_preds)\u001b[0m\n\u001b[1;32m      9\u001b[0m \u001b[0;34m\u001b[0m\u001b[0m\n\u001b[1;32m     10\u001b[0m     \u001b[0;31m# create confusion matrix\u001b[0m\u001b[0;34m\u001b[0m\u001b[0;34m\u001b[0m\u001b[0;34m\u001b[0m\u001b[0m\n\u001b[0;32m---> 11\u001b[0;31m     confusion = pd.DataFrame(confusion_matrix(y_test, y_preds),\n\u001b[0m\u001b[1;32m     12\u001b[0m                          columns=columns, index=index)\n\u001b[1;32m     13\u001b[0m     \u001b[0mprint\u001b[0m\u001b[0;34m(\u001b[0m\u001b[0mmodel_name\u001b[0m \u001b[0;34m+\u001b[0m \u001b[0;34m' confusion matrix:'\u001b[0m\u001b[0;34m)\u001b[0m\u001b[0;34m\u001b[0m\u001b[0;34m\u001b[0m\u001b[0m\n",
      "\u001b[0;31mNameError\u001b[0m: name 'confusion_matrix' is not defined"
     ]
    }
   ],
   "source": [
    "params = {\n",
    "        'history_size': 400,\n",
    "        'lahead': 12*3,\n",
    "        'step': 1,\n",
    "        'period': 300, # 5 minute candles\n",
    "        'batch_size': 200,\n",
    "        'train_size': 10000,\n",
    "        'ncandles': 5000\n",
    "}\n",
    "start = '01-12-2019'\n",
    "\n",
    "confuses = []\n",
    "for exchange_id, trading_pair in h.yield_unique_pair(return_api=False):\n",
    "    \n",
    "   # model_path = mfw.get_path('models', 'trade', exchange_id, trading_pair, '.pkl')\n",
    "   # model = pickle.load(open(model_path, 'rb'))\n",
    "    \n",
    "    \n",
    "    df, dataset = h.get_data(exchange_id, trading_pair, params['period'], start, n=params['train_size'])    \n",
    "    \n",
    "    #df.drop('volume_adi',axis=1,inplace=True)\n",
    "    if df is None:\n",
    "        break\n",
    "\n",
    "    target = df.columns.get_loc('close')\n",
    "\n",
    "    # Find the x and y train and test data\n",
    "    x_train, y_train, x_test, y_test = xtrade.data_splice(df)\n",
    "    print(x_train)\n",
    "    # TODO delete\n",
    "    model = xtrade.create_model()\n",
    "    model = xtrade.fit_model(model, x_train, y_train)\n",
    "    y_preds = model.predict(x_test)\n",
    "    score = accuracy_score(y_test, y_preds)\n",
    "    confus = my_confusion_matrix(y_test, y_preds)"
   ]
  },
  {
   "cell_type": "code",
   "execution_count": null,
   "metadata": {},
   "outputs": [],
   "source": []
  },
  {
   "cell_type": "code",
   "execution_count": null,
   "metadata": {},
   "outputs": [],
   "source": []
  }
 ],
 "metadata": {
  "kernelspec": {
   "display_name": "Python 3",
   "language": "python",
   "name": "python3"
  },
  "language_info": {
   "codemirror_mode": {
    "name": "ipython",
    "version": 3
   },
   "file_extension": ".py",
   "mimetype": "text/x-python",
   "name": "python",
   "nbconvert_exporter": "python",
   "pygments_lexer": "ipython3",
   "version": "3.7.4"
  }
 },
 "nbformat": 4,
 "nbformat_minor": 2
}
