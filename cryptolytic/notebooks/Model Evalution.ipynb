{
 "cells": [
  {
   "cell_type": "code",
   "execution_count": 1,
   "metadata": {},
   "outputs": [
    {
     "name": "stdout",
     "output_type": "stream",
     "text": [
      "/home/me/Documents/Git/Lambda-School-Labs/cryptolytic-ds\n",
      "Using matplotlib backend: Qt5Agg\n",
      "Populating the interactive namespace from numpy and matplotlib\n"
     ]
    }
   ],
   "source": [
    "%cd ../..\n",
    "%run cryptolytic/notebooks/init.ipynb\n",
    "import pandas as pd\n",
    "import tensorflow as tf\n",
    "import cryptolytic.util as util\n",
    "import cryptolytic.start as start\n",
    "import cryptolytic.viz.plot as plot\n",
    "import cryptolytic.data.sql as sql\n",
    "import cryptolytic.data as d\n",
    "from cryptolytic.util import *\n",
    "import cryptolytic.data.historical as h\n",
    "import cryptolytic.model as m\n",
    "import cryptolytic.model.lstm_framework as lstm\n",
    "import cryptolytic.model.model_framework as mfw\n",
    "import cryptolytic.model.data_work as dw\n",
    "import cryptolytic.model.hyperparameter as hyper\n",
    "import cryptolytic.model.cron_model as cron_model\n",
    "\n",
    "from sklearn.ensemble import RandomForestClassifier\n",
    "from sklearn.linear_model import LogisticRegression\n",
    "from sklearn.model_selection import train_test_split\n",
    "from sklearn.metrics import accuracy_score\n",
    "\n",
    "import seaborn as sns\n",
    "import matplotlib.pyplot as plt\n",
    "import matplotlib.dates as mdates\n",
    "%matplotlib inline\n",
    "\n",
    "\n",
    "import cryptolytic.model.xgboost_arb_model as xam"
   ]
  },
  {
   "cell_type": "code",
   "execution_count": 3,
   "metadata": {},
   "outputs": [
    {
     "data": {
      "text/plain": [
       "<module 'cryptolytic.model.model_framework' from '/home/me/Documents/Git/Lambda-School-Labs/cryptolytic-ds/cryptolytic/model/model_framework.py'>"
      ]
     },
     "execution_count": 3,
     "metadata": {},
     "output_type": "execute_result"
    }
   ],
   "source": [
    "mfw"
   ]
  },
  {
   "cell_type": "code",
   "execution_count": 2,
   "metadata": {},
   "outputs": [
    {
     "ename": "SyntaxError",
     "evalue": "invalid syntax (<ipython-input-2-1faf01ade56f>, line 1)",
     "output_type": "error",
     "traceback": [
      "\u001b[0;36m  File \u001b[0;32m\"<ipython-input-2-1faf01ade56f>\"\u001b[0;36m, line \u001b[0;32m1\u001b[0m\n\u001b[0;31m    d.\u001b[0m\n\u001b[0m      ^\u001b[0m\n\u001b[0;31mSyntaxError\u001b[0m\u001b[0;31m:\u001b[0m invalid syntax\n"
     ]
    }
   ],
   "source": [
    "period = 300 # 5 minute candles\n",
    "start = '03-01-2019'\n",
    "model_path = mfw.get_model_path(exchange_id, trading_pair, '.h5')\n",
    "\n",
    "for exchange_id, trading_pair in yield_unique_pair(return_api=False):\n",
    "    "
   ]
  },
  {
   "cell_type": "code",
   "execution_count": null,
   "metadata": {},
   "outputs": [],
   "source": [
    "# labels for confusion matrix\n",
    "unique_y_test = y_test.unique().tolist()\n",
    "unique_y_preds = list(set(y_preds))\n",
    "labels = list(set(unique_y_test + unique_y_preds))\n",
    "labels.sort()\n",
    "columns = [f'Predicted {label}' for label in labels]\n",
    "index = [f'Actual {label}' for label in labels]\n",
    "\n",
    "# create confusion matrix\n",
    "confusion = pd.DataFrame(confusion_matrix(y_test, y_preds),\n",
    "                     columns=columns, index=index)\n",
    "print(model_name + ' confusion matrix:')\n",
    "print(confusion, '\\n')\n",
    "\n",
    "# append to confusion list\n",
    "confusion_dict[model_name] = confusion"
   ]
  },
  {
   "cell_type": "code",
   "execution_count": null,
   "metadata": {},
   "outputs": [],
   "source": []
  }
 ],
 "metadata": {
  "kernelspec": {
   "display_name": "Python 3",
   "language": "python",
   "name": "python3"
  },
  "language_info": {
   "codemirror_mode": {
    "name": "ipython",
    "version": 3
   },
   "file_extension": ".py",
   "mimetype": "text/x-python",
   "name": "python",
   "nbconvert_exporter": "python",
   "pygments_lexer": "ipython3",
   "version": "3.7.4"
  }
 },
 "nbformat": 4,
 "nbformat_minor": 2
}
