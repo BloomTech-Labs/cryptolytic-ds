{
 "cells": [
  {
   "cell_type": "code",
   "execution_count": 2,
   "metadata": {},
   "outputs": [],
   "source": [
    "# Change directory to be at the top level of the project\n",
    "import os\n",
    "import glob\n",
    "if 'cryptolytic' not in os.listdir():\n",
    "    os.chdir('../..')"
   ]
  },
  {
   "cell_type": "code",
   "execution_count": 3,
   "metadata": {},
   "outputs": [
    {
     "data": {
      "text/plain": [
       "['cryptolytic',\n",
       " 'api_source_code',\n",
       " 'models',\n",
       " 'pull_request_template.md',\n",
       " 'unzipped',\n",
       " 'README.md',\n",
       " '.git',\n",
       " '.gitattributes',\n",
       " 'LICENSE',\n",
       " 'data']"
      ]
     },
     "execution_count": 3,
     "metadata": {},
     "output_type": "execute_result"
    }
   ],
   "source": [
    "os.listdir()"
   ]
  },
  {
   "cell_type": "code",
   "execution_count": 36,
   "metadata": {},
   "outputs": [],
   "source": [
    "import pandas as pd\n",
    "bf_eth_btc = pd.read_csv('unzipped/bitfinex_eth_btc_3600.csv')\n",
    "bf_eth_btc = bf_eth_btc.iloc[:,1:]"
   ]
  },
  {
   "cell_type": "code",
   "execution_count": 27,
   "metadata": {},
   "outputs": [
    {
     "name": "stdout",
     "output_type": "stream",
     "text": [
      ",closing_time,open,high,low,close,base_volume\n",
      "0,1457542800,0.02594,0.02594,0.02594,0.02594,0.1\n",
      "1,1457550000,0.02577,0.02577,0.02577,0.02577,0.01\n",
      "2,1457553600,0.0255,0.0255,0.0252,0.0253,3.264\n",
      "3,1457557200,0.0257,0.0257,0.0257,0.0257,0.01\n",
      "4,1457564400,0.0269,0.0297,0.0263,0.0295,32.37600000000001\n",
      "5,1457629200,0.03,0.03,0.03,0.03,10.0\n",
      "6,1457632800,0.027610000000000003,0.031,0.027610000000000003,0.0305,21.078331\n",
      "7,1457719200,0.02995,0.02995,0.02995,0.02995,0.03\n",
      "8,1457751600,0.0299,0.0299,0.0299,0.0299,0.986552\n"
     ]
    }
   ],
   "source": [
    "!head 'unzipped/bitfinex_eth_btc_3600.csv'"
   ]
  },
  {
   "cell_type": "code",
   "execution_count": 28,
   "metadata": {},
   "outputs": [
    {
     "data": {
      "text/html": [
       "<div>\n",
       "<style scoped>\n",
       "    .dataframe tbody tr th:only-of-type {\n",
       "        vertical-align: middle;\n",
       "    }\n",
       "\n",
       "    .dataframe tbody tr th {\n",
       "        vertical-align: top;\n",
       "    }\n",
       "\n",
       "    .dataframe thead th {\n",
       "        text-align: right;\n",
       "    }\n",
       "</style>\n",
       "<table border=\"1\" class=\"dataframe\">\n",
       "  <thead>\n",
       "    <tr style=\"text-align: right;\">\n",
       "      <th></th>\n",
       "      <th>Unnamed: 0</th>\n",
       "      <th>closing_time</th>\n",
       "      <th>open</th>\n",
       "      <th>high</th>\n",
       "      <th>low</th>\n",
       "      <th>close</th>\n",
       "      <th>base_volume</th>\n",
       "    </tr>\n",
       "  </thead>\n",
       "  <tbody>\n",
       "    <tr>\n",
       "      <th>2</th>\n",
       "      <td>2</td>\n",
       "      <td>1457553600</td>\n",
       "      <td>0.02550</td>\n",
       "      <td>0.0255</td>\n",
       "      <td>0.02520</td>\n",
       "      <td>0.0253</td>\n",
       "      <td>3.264000</td>\n",
       "    </tr>\n",
       "    <tr>\n",
       "      <th>3</th>\n",
       "      <td>3</td>\n",
       "      <td>1457557200</td>\n",
       "      <td>0.02570</td>\n",
       "      <td>0.0257</td>\n",
       "      <td>0.02570</td>\n",
       "      <td>0.0257</td>\n",
       "      <td>0.010000</td>\n",
       "    </tr>\n",
       "    <tr>\n",
       "      <th>4</th>\n",
       "      <td>4</td>\n",
       "      <td>1457564400</td>\n",
       "      <td>0.02690</td>\n",
       "      <td>0.0297</td>\n",
       "      <td>0.02630</td>\n",
       "      <td>0.0295</td>\n",
       "      <td>32.376000</td>\n",
       "    </tr>\n",
       "    <tr>\n",
       "      <th>5</th>\n",
       "      <td>5</td>\n",
       "      <td>1457629200</td>\n",
       "      <td>0.03000</td>\n",
       "      <td>0.0300</td>\n",
       "      <td>0.03000</td>\n",
       "      <td>0.0300</td>\n",
       "      <td>10.000000</td>\n",
       "    </tr>\n",
       "    <tr>\n",
       "      <th>6</th>\n",
       "      <td>6</td>\n",
       "      <td>1457632800</td>\n",
       "      <td>0.02761</td>\n",
       "      <td>0.0310</td>\n",
       "      <td>0.02761</td>\n",
       "      <td>0.0305</td>\n",
       "      <td>21.078331</td>\n",
       "    </tr>\n",
       "  </tbody>\n",
       "</table>\n",
       "</div>"
      ],
      "text/plain": [
       "   Unnamed: 0  closing_time     open    high      low   close  base_volume\n",
       "2           2    1457553600  0.02550  0.0255  0.02520  0.0253     3.264000\n",
       "3           3    1457557200  0.02570  0.0257  0.02570  0.0257     0.010000\n",
       "4           4    1457564400  0.02690  0.0297  0.02630  0.0295    32.376000\n",
       "5           5    1457629200  0.03000  0.0300  0.03000  0.0300    10.000000\n",
       "6           6    1457632800  0.02761  0.0310  0.02761  0.0305    21.078331"
      ]
     },
     "execution_count": 28,
     "metadata": {},
     "output_type": "execute_result"
    }
   ],
   "source": [
    "bf_eth_btc.head()"
   ]
  },
  {
   "cell_type": "code",
   "execution_count": 38,
   "metadata": {},
   "outputs": [
    {
     "data": {
      "text/plain": [
       "<matplotlib.axes._subplots.AxesSubplot at 0x7f2a547ed828>"
      ]
     },
     "execution_count": 38,
     "metadata": {},
     "output_type": "execute_result"
    },
    {
     "data": {
      "image/png": "[encoded data removed]",
      "text/plain": [
       "<Figure size 432x288 with 1 Axes>"
      ]
     },
     "metadata": {
      "needs_background": "light"
     },
     "output_type": "display_data"
    }
   ],
   "source": [
    "bf_eth_btc.plot(y='close')"
   ]
  },
  {
   "cell_type": "code",
   "execution_count": null,
   "metadata": {},
   "outputs": [],
   "source": []
  }
 ],
 "metadata": {
  "kernelspec": {
   "display_name": "Python 3",
   "language": "python",
   "name": "python3"
  },
  "language_info": {
   "codemirror_mode": {
    "name": "ipython",
    "version": 3
   },
   "file_extension": ".py",
   "mimetype": "text/x-python",
   "name": "python",
   "nbconvert_exporter": "python",
   "pygments_lexer": "ipython3",
   "version": "3.7.3"
  }
 },
 "nbformat": 4,
 "nbformat_minor": 4
}
