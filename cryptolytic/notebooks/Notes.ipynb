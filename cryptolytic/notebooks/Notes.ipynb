{
 "cells": [
  {
   "cell_type": "markdown",
   "metadata": {},
   "source": [
    "# Considerations for Time Series data\n",
    "- Correlated Errors\n",
    "    - https://www.itl.nist.gov/div898/handbook/pmc/section6/pmc624.htm\n",
    "- Cross validation\n",
    "    - htttps://robjhyndman.com/hyndsight/tscv/\n",
    "- Lookahead (forecasting)\n",
    "\n",
    "# Structural Time Series\n",
    "https://en.wikipedia.org/wiki/Kalman_filter\n",
    "\n",
    "# Local Linear Trend\n",
    "$\n",
    "y_t = \\mu_t + \\epsilon_t \\\\ \n",
    "\\mu_t = \\mu_{t-1} + \\beta_{t-1} + \\eta_t\n",
    "\\beta_t = \\beta_{t-1} + \\zeta_t\n",
    "$\n",
    "# Smooth Trend"
   ]
  },
  {
   "cell_type": "code",
   "execution_count": null,
   "metadata": {},
   "outputs": [],
   "source": []
  }
 ],
 "metadata": {
  "kernelspec": {
   "display_name": "Python 3",
   "language": "python",
   "name": "python3"
  },
  "language_info": {
   "codemirror_mode": {
    "name": "ipython",
    "version": 3
   },
   "file_extension": ".py",
   "mimetype": "text/x-python",
   "name": "python",
   "nbconvert_exporter": "python",
   "pygments_lexer": "ipython3",
   "version": "3.7.3"
  }
 },
 "nbformat": 4,
 "nbformat_minor": 2
}
