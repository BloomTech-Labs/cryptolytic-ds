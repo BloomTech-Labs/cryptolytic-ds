{
 "nbformat": 4,
 "nbformat_minor": 2,
 "metadata": {
  "language_info": {
   "name": "python",
   "codemirror_mode": {
    "name": "ipython",
    "version": 3
   },
   "version": "3.7.3-final"
  },
  "orig_nbformat": 2,
  "file_extension": ".py",
  "mimetype": "text/x-python",
  "name": "python",
  "npconvert_exporter": "python",
  "pygments_lexer": "ipython3",
  "version": 3,
  "kernelspec": {
   "name": "python37364bitkylehvirtualenv5ffc9c15268948a9967a6b1571fb00cd",
   "display_name": "Python 3.7.3 64-bit ('kyleh': virtualenv)"
  }
 },
 "cells": [
  {
   "source": [
    "%cd ../..\n",
    "%run cryptolytic/notebooks/init.ipynb"
   ],
   "cell_type": "code",
   "outputs": [
    {
     "output_type": "stream",
     "name": "stdout",
     "text": "c:\\Users\\kyleh\\Desktop\\Repos\\cryptolytic-ds\nUsing matplotlib backend: Qt5Agg\nPopulating the interactive namespace from numpy and matplotlib\n"
    }
   ],
   "metadata": {},
   "execution_count": 2
  },
  {
   "source": [
    "import pandas as pd\n",
    "import cryptolytic.util as util\n",
    "import cryptolytic.start as start\n",
    "import cryptolytic.viz.plot as plot\n",
    "import cryptolytic.data.sql as sql\n",
    "import cryptolytic.data as d\n",
    "from cryptolytic.util import *\n",
    "import cryptolytic.data.historical as h\n",
    "import cryptolytic.model as m\n",
    "from statsmodels.graphics.tsaplots import plot_acf, plot_pacf\n",
    "from cryptolytic.model import model_framework\n",
    "\n",
    "from matplotlib.pylab import rcParams\n",
    "from IPython.core.display import HTML\n",
    "from pandas.plotting import register_matplotlib_converters # to stop a warning message\n",
    "\n",
    "\n",
    "ohclv = ['open', 'high', 'close', 'low', 'volume']\n",
    "plt.style.use('ggplot')\n",
    "rcParams['figure.figsize'] = 20,7\n",
    "start.init()\n",
    "register_matplotlib_converters()\n",
    "\n",
    "\n",
    "# Make math readable\n",
    "HTML(\"\"\"\n",
    "<style>\n",
    ".MathJax {\n",
    "    font-size: 2rem;\n",
    "}\n",
    "</style>\"\"\")"
   ],
   "cell_type": "code",
   "outputs": [
    {
     "output_type": "execute_result",
     "data": {
      "text/plain": "<IPython.core.display.HTML object>",
      "text/html": "\n<style>\n.MathJax {\n    font-size: 2rem;\n}\n</style>"
     },
     "metadata": {},
     "execution_count": 7
    }
   ],
   "metadata": {},
   "execution_count": 7
  },
  {
   "source": [
    "df = d.get_df ({'start':'04-05-2019', 'period':300, 'trading_pair':'eth_btc', 'exchange_id':'bitfinex'})\n",
    "df2 = d.get_df({'start':'04-05-2019', 'period':300, 'trading_pair':'eth_btc', 'exchange_id':'hitbtc'})"
   ],
   "cell_type": "code",
   "outputs": [
    {
     "output_type": "stream",
     "name": "stderr",
     "text": "c:\\Users\\kyleh\\Desktop\\Repos\\cryptolytic-ds\\cryptolytic\\data\\__init__.py:49: FutureWarning:\n\nhow in .resample() is deprecated\nthe new syntax is .resample(...)..apply(<func>)\n\nDatetimeIndex(['2019-05-04 07:10:00', '2019-05-04 07:55:00',\n               '2019-05-04 08:00:00', '2019-05-04 08:30:00',\n               '2019-05-04 09:00:00', '2019-05-04 09:25:00',\n               '2019-05-04 09:30:00', '2019-05-04 09:35:00',\n               '2019-05-04 10:00:00', '2019-05-04 10:55:00',\n               '2019-05-04 11:05:00', '2019-05-04 11:20:00',\n               '2019-05-04 12:30:00'],\n              dtype='datetime64[ns]', name='datetime', freq=None)\n{'trading_pair': 'eth_btc', 'period': 300, 'exchange': 'bitfinex', 'timestamps': [1556953800, 1556956500, 1556956800, 1556958600, 1556960400, 1556961900, 1556962200, 1556962500, 1556964000, 1556967300, 1556967900, 1556968800, 1556973000]}\nDatetimeIndex([], dtype='datetime64[ns]', name='datetime', freq='5T')\n{'trading_pair': 'eth_btc', 'period': 300, 'exchange': 'hitbtc', 'timestamps': []}\n"
    }
   ],
   "metadata": {},
   "execution_count": 8
  },
  {
   "source": [
    "plot.candlestick(df)"
   ],
   "cell_type": "code",
   "outputs": [
    {
     "output_type": "display_data",
     "data": {
      "application/vnd.plotly.v1+json": {
       "config": {
        "plotlyServerURL": "https://plot.ly"
       },
       "data": [
        {
         "close": [
          0.028525,
          0.028506,
          0.02851,
          0.028545,
          0.028565,
          0.028583,
          0.028549,
          0.028538,
          0.028523,
          0.028529,
          0.028529,
          0.02845,
          0.028462,
          0.028491,
          0.028479,
          0.028448,
          0.028455,
          0.028448,
          0.028478,
          0.028443,
          0.028443,
          0.02843,
          0.028429,
          0.02843,
          0.028448,
          0.028451,
          0.028396,
          0.028462,
          0.028429,
          0.028356,
          0.028371,
          0.028369,
          0.028369,
          0.028362,
          0.028349,
          0.028346,
          0.028372,
          0.028373,
          0.028367,
          0.028351,
          0.02833,
          0.028329,
          0.028286,
          0.028312,
          0.028312,
          0.028321,
          0.028344,
          0.028344,
          0.028326,
          0.028334,
          0.028327,
          0.028303,
          0.028329,
          0.028337,
          0.028335,
          0.028329,
          0.028297,
          0.028336,
          0.028365,
          0.028355,
          0.028358,
          0.028364,
          0.028367,
          0.02833,
          0.028266,
          0.028235,
          0.028187,
          0.028204,
          0.028491,
          0.028558,
          0.028652,
          0.028659,
          0.028705,
          0.028724,
          0.028692,
          0.028726,
          0.028735,
          0.028742,
          0.028752,
          0.028771,
          0.028715,
          0.028712,
          0.0287,
          0.028733,
          0.028746,
          0.028765,
          0.028715,
          0.028719,
          0.028685,
          0.028676,
          0.028665,
          0.028671,
          0.028728,
          0.028725,
          0.028727,
          0.028713,
          0.028673,
          0.02864,
          0.028675,
          0.028645
         ],
         "high": [
          0.028536,
          0.028525,
          0.028556,
          0.028545,
          0.028568,
          0.028583,
          0.028609,
          0.028546,
          0.028539,
          0.028529,
          0.028529,
          0.028515,
          0.028462,
          0.028491,
          0.028479,
          0.028486,
          0.028455,
          0.028448,
          0.028478,
          0.02847,
          0.028455,
          0.028434,
          0.02843,
          0.02843,
          0.028454,
          0.028452,
          0.028458,
          0.028462,
          0.028463,
          0.028413,
          0.028378,
          0.028389,
          0.028369,
          0.028362,
          0.028353,
          0.028346,
          0.028376,
          0.028373,
          0.02838,
          0.028356,
          0.028343,
          0.028329,
          0.028325,
          0.028312,
          0.028312,
          0.028321,
          0.028344,
          0.028344,
          0.028328,
          0.028335,
          0.028334,
          0.028326,
          0.028329,
          0.028337,
          0.028337,
          0.028332,
          0.028331,
          0.028339,
          0.028365,
          0.028361,
          0.028359,
          0.028365,
          0.028367,
          0.028366,
          0.028313,
          0.028236,
          0.028216,
          0.028204,
          0.028537,
          0.028572,
          0.02867,
          0.028669,
          0.028737,
          0.028785,
          0.028731,
          0.028726,
          0.028748,
          0.02876,
          0.02876,
          0.028771,
          0.02874,
          0.02872,
          0.028709,
          0.028733,
          0.028746,
          0.028769,
          0.028765,
          0.028722,
          0.028723,
          0.02868,
          0.028677,
          0.028671,
          0.028729,
          0.028777,
          0.028727,
          0.028748,
          0.028708,
          0.028672,
          0.028675,
          0.028685
         ],
         "low": [
          0.028523,
          0.028506,
          0.02851,
          0.028539,
          0.028531,
          0.028563,
          0.028549,
          0.028538,
          0.028523,
          0.028515,
          0.028529,
          0.02845,
          0.028462,
          0.028472,
          0.028479,
          0.028444,
          0.028409,
          0.028448,
          0.028469,
          0.028443,
          0.028443,
          0.028424,
          0.028429,
          0.02843,
          0.028447,
          0.028451,
          0.028396,
          0.028447,
          0.028429,
          0.028356,
          0.028366,
          0.028369,
          0.028368,
          0.028361,
          0.02834,
          0.028346,
          0.028346,
          0.028373,
          0.028367,
          0.028351,
          0.02833,
          0.028329,
          0.028285,
          0.028312,
          0.028311,
          0.028321,
          0.028344,
          0.028344,
          0.028326,
          0.028329,
          0.028318,
          0.028303,
          0.028302,
          0.028326,
          0.028329,
          0.028329,
          0.028297,
          0.028298,
          0.028345,
          0.028355,
          0.02833,
          0.028359,
          0.028366,
          0.028313,
          0.0282,
          0.0282,
          0.028144,
          0.028192,
          0.02823,
          0.028514,
          0.028535,
          0.028629,
          0.028657,
          0.028703,
          0.028684,
          0.028684,
          0.028727,
          0.028737,
          0.028726,
          0.028762,
          0.028715,
          0.028686,
          0.028699,
          0.0287,
          0.028734,
          0.028765,
          0.028715,
          0.028716,
          0.028685,
          0.028663,
          0.02865,
          0.028656,
          0.028678,
          0.028725,
          0.028715,
          0.028696,
          0.028667,
          0.028637,
          0.028646,
          0.028644
         ],
         "open": [
          0.028525,
          0.028525,
          0.028512,
          0.028539,
          0.028542,
          0.028563,
          0.028573,
          0.028546,
          0.028539,
          0.028523,
          0.028529,
          0.028515,
          0.028462,
          0.028472,
          0.028479,
          0.028486,
          0.028455,
          0.028448,
          0.028469,
          0.02847,
          0.028455,
          0.028434,
          0.028429,
          0.02843,
          0.028449,
          0.028452,
          0.028451,
          0.028447,
          0.028463,
          0.028413,
          0.028366,
          0.028383,
          0.028369,
          0.028361,
          0.028353,
          0.028346,
          0.028346,
          0.028373,
          0.02838,
          0.028356,
          0.028343,
          0.028329,
          0.028325,
          0.028312,
          0.028311,
          0.028321,
          0.028344,
          0.028344,
          0.028328,
          0.028329,
          0.028334,
          0.028326,
          0.028302,
          0.028326,
          0.028333,
          0.028331,
          0.028331,
          0.028298,
          0.028345,
          0.028361,
          0.02833,
          0.028359,
          0.028367,
          0.028366,
          0.028311,
          0.028228,
          0.0282,
          0.028192,
          0.02823,
          0.028528,
          0.028558,
          0.028652,
          0.028664,
          0.028717,
          0.028722,
          0.028685,
          0.02873,
          0.028737,
          0.028734,
          0.028762,
          0.028732,
          0.028713,
          0.028705,
          0.0287,
          0.028734,
          0.028768,
          0.028765,
          0.028716,
          0.028723,
          0.028673,
          0.028677,
          0.028657,
          0.028678,
          0.028727,
          0.028721,
          0.028733,
          0.028708,
          0.028665,
          0.028646,
          0.028685
         ],
         "type": "candlestick",
         "x": [
          "2019-05-04T07:00:00",
          "2019-05-04T07:05:00",
          "2019-05-04T07:15:00",
          "2019-05-04T07:20:00",
          "2019-05-04T07:25:00",
          "2019-05-04T07:30:00",
          "2019-05-04T07:35:00",
          "2019-05-04T07:40:00",
          "2019-05-04T07:45:00",
          "2019-05-04T07:50:00",
          "2019-05-04T08:05:00",
          "2019-05-04T08:10:00",
          "2019-05-04T08:15:00",
          "2019-05-04T08:20:00",
          "2019-05-04T08:25:00",
          "2019-05-04T08:35:00",
          "2019-05-04T08:40:00",
          "2019-05-04T08:45:00",
          "2019-05-04T08:50:00",
          "2019-05-04T08:55:00",
          "2019-05-04T09:05:00",
          "2019-05-04T09:10:00",
          "2019-05-04T09:15:00",
          "2019-05-04T09:20:00",
          "2019-05-04T09:40:00",
          "2019-05-04T09:45:00",
          "2019-05-04T09:50:00",
          "2019-05-04T09:55:00",
          "2019-05-04T10:05:00",
          "2019-05-04T10:10:00",
          "2019-05-04T10:15:00",
          "2019-05-04T10:20:00",
          "2019-05-04T10:25:00",
          "2019-05-04T10:30:00",
          "2019-05-04T10:35:00",
          "2019-05-04T10:40:00",
          "2019-05-04T10:45:00",
          "2019-05-04T10:50:00",
          "2019-05-04T11:00:00",
          "2019-05-04T11:10:00",
          "2019-05-04T11:15:00",
          "2019-05-04T11:25:00",
          "2019-05-04T11:30:00",
          "2019-05-04T11:35:00",
          "2019-05-04T11:40:00",
          "2019-05-04T11:45:00",
          "2019-05-04T11:50:00",
          "2019-05-04T11:55:00",
          "2019-05-04T12:00:00",
          "2019-05-04T12:05:00",
          "2019-05-04T12:10:00",
          "2019-05-04T12:15:00",
          "2019-05-04T12:20:00",
          "2019-05-04T12:25:00",
          "2019-05-04T12:35:00",
          "2019-05-04T12:40:00",
          "2019-05-04T12:45:00",
          "2019-05-04T12:50:00",
          "2019-05-04T12:55:00",
          "2019-05-04T13:00:00",
          "2019-05-04T13:05:00",
          "2019-05-04T13:10:00",
          "2019-05-04T13:15:00",
          "2019-05-04T13:20:00",
          "2019-05-04T13:25:00",
          "2019-05-04T13:30:00",
          "2019-05-04T13:35:00",
          "2019-05-04T13:40:00",
          "2019-05-04T13:45:00",
          "2019-05-04T13:50:00",
          "2019-05-04T13:55:00",
          "2019-05-04T14:00:00",
          "2019-05-04T14:05:00",
          "2019-05-04T14:10:00",
          "2019-05-04T14:15:00",
          "2019-05-04T14:20:00",
          "2019-05-04T14:25:00",
          "2019-05-04T14:30:00",
          "2019-05-04T14:35:00",
          "2019-05-04T14:40:00",
          "2019-05-04T14:45:00",
          "2019-05-04T14:50:00",
          "2019-05-04T14:55:00",
          "2019-05-04T15:00:00",
          "2019-05-04T15:05:00",
          "2019-05-04T15:10:00",
          "2019-05-04T15:15:00",
          "2019-05-04T15:20:00",
          "2019-05-04T15:25:00",
          "2019-05-04T15:30:00",
          "2019-05-04T15:35:00",
          "2019-05-04T15:40:00",
          "2019-05-04T15:45:00",
          "2019-05-04T15:50:00",
          "2019-05-04T15:55:00",
          "2019-05-04T16:00:00",
          "2019-05-04T16:05:00",
          "2019-05-04T16:10:00",
          "2019-05-04T16:15:00",
          "2019-05-04T16:20:00"
         ]
        }
       ],
       "layout": {
        "template": {
         "data": {
          "bar": [
           {
            "error_x": {
             "color": "#2a3f5f"
            },
            "error_y": {
             "color": "#2a3f5f"
            },
            "marker": {
             "line": {
              "color": "#E5ECF6",
              "width": 0.5
             }
            },
            "type": "bar"
           }
          ],
          "barpolar": [
           {
            "marker": {
             "line": {
              "color": "#E5ECF6",
              "width": 0.5
             }
            },
            "type": "barpolar"
           }
          ],
          "carpet": [
           {
            "aaxis": {
             "endlinecolor": "#2a3f5f",
             "gridcolor": "white",
             "linecolor": "white",
             "minorgridcolor": "white",
             "startlinecolor": "#2a3f5f"
            },
            "baxis": {
             "endlinecolor": "#2a3f5f",
             "gridcolor": "white",
             "linecolor": "white",
             "minorgridcolor": "white",
             "startlinecolor": "#2a3f5f"
            },
            "type": "carpet"
           }
          ],
          "choropleth": [
           {
            "colorbar": {
             "outlinewidth": 0,
             "ticks": ""
            },
            "type": "choropleth"
           }
          ],
          "contour": [
           {
            "colorbar": {
             "outlinewidth": 0,
             "ticks": ""
            },
            "colorscale": [
             [
              0,
              "#0d0887"
             ],
             [
              0.1111111111111111,
              "#46039f"
             ],
             [
              0.2222222222222222,
              "#7201a8"
             ],
             [
              0.3333333333333333,
              "#9c179e"
             ],
             [
              0.4444444444444444,
              "#bd3786"
             ],
             [
              0.5555555555555556,
              "#d8576b"
             ],
             [
              0.6666666666666666,
              "#ed7953"
             ],
             [
              0.7777777777777778,
              "#fb9f3a"
             ],
             [
              0.8888888888888888,
              "#fdca26"
             ],
             [
              1,
              "#f0f921"
             ]
            ],
            "type": "contour"
           }
          ],
          "contourcarpet": [
           {
            "colorbar": {
             "outlinewidth": 0,
             "ticks": ""
            },
            "type": "contourcarpet"
           }
          ],
          "heatmap": [
           {
            "colorbar": {
             "outlinewidth": 0,
             "ticks": ""
            },
            "colorscale": [
             [
              0,
              "#0d0887"
             ],
             [
              0.1111111111111111,
              "#46039f"
             ],
             [
              0.2222222222222222,
              "#7201a8"
             ],
             [
              0.3333333333333333,
              "#9c179e"
             ],
             [
              0.4444444444444444,
              "#bd3786"
             ],
             [
              0.5555555555555556,
              "#d8576b"
             ],
             [
              0.6666666666666666,
              "#ed7953"
             ],
             [
              0.7777777777777778,
              "#fb9f3a"
             ],
             [
              0.8888888888888888,
              "#fdca26"
             ],
             [
              1,
              "#f0f921"
             ]
            ],
            "type": "heatmap"
           }
          ],
          "heatmapgl": [
           {
            "colorbar": {
             "outlinewidth": 0,
             "ticks": ""
            },
            "colorscale": [
             [
              0,
              "#0d0887"
             ],
             [
              0.1111111111111111,
              "#46039f"
             ],
             [
              0.2222222222222222,
              "#7201a8"
             ],
             [
              0.3333333333333333,
              "#9c179e"
             ],
             [
              0.4444444444444444,
              "#bd3786"
             ],
             [
              0.5555555555555556,
              "#d8576b"
             ],
             [
              0.6666666666666666,
              "#ed7953"
             ],
             [
              0.7777777777777778,
              "#fb9f3a"
             ],
             [
              0.8888888888888888,
              "#fdca26"
             ],
             [
              1,
              "#f0f921"
             ]
            ],
            "type": "heatmapgl"
           }
          ],
          "histogram": [
           {
            "marker": {
             "colorbar": {
              "outlinewidth": 0,
              "ticks": ""
             }
            },
            "type": "histogram"
           }
          ],
          "histogram2d": [
           {
            "colorbar": {
             "outlinewidth": 0,
             "ticks": ""
            },
            "colorscale": [
             [
              0,
              "#0d0887"
             ],
             [
              0.1111111111111111,
              "#46039f"
             ],
             [
              0.2222222222222222,
              "#7201a8"
             ],
             [
              0.3333333333333333,
              "#9c179e"
             ],
             [
              0.4444444444444444,
              "#bd3786"
             ],
             [
              0.5555555555555556,
              "#d8576b"
             ],
             [
              0.6666666666666666,
              "#ed7953"
             ],
             [
              0.7777777777777778,
              "#fb9f3a"
             ],
             [
              0.8888888888888888,
              "#fdca26"
             ],
             [
              1,
              "#f0f921"
             ]
            ],
            "type": "histogram2d"
           }
          ],
          "histogram2dcontour": [
           {
            "colorbar": {
             "outlinewidth": 0,
             "ticks": ""
            },
            "colorscale": [
             [
              0,
              "#0d0887"
             ],
             [
              0.1111111111111111,
              "#46039f"
             ],
             [
              0.2222222222222222,
              "#7201a8"
             ],
             [
              0.3333333333333333,
              "#9c179e"
             ],
             [
              0.4444444444444444,
              "#bd3786"
             ],
             [
              0.5555555555555556,
              "#d8576b"
             ],
             [
              0.6666666666666666,
              "#ed7953"
             ],
             [
              0.7777777777777778,
              "#fb9f3a"
             ],
             [
              0.8888888888888888,
              "#fdca26"
             ],
             [
              1,
              "#f0f921"
             ]
            ],
            "type": "histogram2dcontour"
           }
          ],
          "mesh3d": [
           {
            "colorbar": {
             "outlinewidth": 0,
             "ticks": ""
            },
            "type": "mesh3d"
           }
          ],
          "parcoords": [
           {
            "line": {
             "colorbar": {
              "outlinewidth": 0,
              "ticks": ""
             }
            },
            "type": "parcoords"
           }
          ],
          "pie": [
           {
            "automargin": true,
            "type": "pie"
           }
          ],
          "scatter": [
           {
            "marker": {
             "colorbar": {
              "outlinewidth": 0,
              "ticks": ""
             }
            },
            "type": "scatter"
           }
          ],
          "scatter3d": [
           {
            "line": {
             "colorbar": {
              "outlinewidth": 0,
              "ticks": ""
             }
            },
            "marker": {
             "colorbar": {
              "outlinewidth": 0,
              "ticks": ""
             }
            },
            "type": "scatter3d"
           }
          ],
          "scattercarpet": [
           {
            "marker": {
             "colorbar": {
              "outlinewidth": 0,
              "ticks": ""
             }
            },
            "type": "scattercarpet"
           }
          ],
          "scattergeo": [
           {
            "marker": {
             "colorbar": {
              "outlinewidth": 0,
              "ticks": ""
             }
            },
            "type": "scattergeo"
           }
          ],
          "scattergl": [
           {
            "marker": {
             "colorbar": {
              "outlinewidth": 0,
              "ticks": ""
             }
            },
            "type": "scattergl"
           }
          ],
          "scattermapbox": [
           {
            "marker": {
             "colorbar": {
              "outlinewidth": 0,
              "ticks": ""
             }
            },
            "type": "scattermapbox"
           }
          ],
          "scatterpolar": [
           {
            "marker": {
             "colorbar": {
              "outlinewidth": 0,
              "ticks": ""
             }
            },
            "type": "scatterpolar"
           }
          ],
          "scatterpolargl": [
           {
            "marker": {
             "colorbar": {
              "outlinewidth": 0,
              "ticks": ""
             }
            },
            "type": "scatterpolargl"
           }
          ],
          "scatterternary": [
           {
            "marker": {
             "colorbar": {
              "outlinewidth": 0,
              "ticks": ""
             }
            },
            "type": "scatterternary"
           }
          ],
          "surface": [
           {
            "colorbar": {
             "outlinewidth": 0,
             "ticks": ""
            },
            "colorscale": [
             [
              0,
              "#0d0887"
             ],
             [
              0.1111111111111111,
              "#46039f"
             ],
             [
              0.2222222222222222,
              "#7201a8"
             ],
             [
              0.3333333333333333,
              "#9c179e"
             ],
             [
              0.4444444444444444,
              "#bd3786"
             ],
             [
              0.5555555555555556,
              "#d8576b"
             ],
             [
              0.6666666666666666,
              "#ed7953"
             ],
             [
              0.7777777777777778,
              "#fb9f3a"
             ],
             [
              0.8888888888888888,
              "#fdca26"
             ],
             [
              1,
              "#f0f921"
             ]
            ],
            "type": "surface"
           }
          ],
          "table": [
           {
            "cells": {
             "fill": {
              "color": "#EBF0F8"
             },
             "line": {
              "color": "white"
             }
            },
            "header": {
             "fill": {
              "color": "#C8D4E3"
             },
             "line": {
              "color": "white"
             }
            },
            "type": "table"
           }
          ]
         },
         "layout": {
          "annotationdefaults": {
           "arrowcolor": "#2a3f5f",
           "arrowhead": 0,
           "arrowwidth": 1
          },
          "coloraxis": {
           "colorbar": {
            "outlinewidth": 0,
            "ticks": ""
           }
          },
          "colorscale": {
           "diverging": [
            [
             0,
             "#8e0152"
            ],
            [
             0.1,
             "#c51b7d"
            ],
            [
             0.2,
             "#de77ae"
            ],
            [
             0.3,
             "#f1b6da"
            ],
            [
             0.4,
             "#fde0ef"
            ],
            [
             0.5,
             "#f7f7f7"
            ],
            [
             0.6,
             "#e6f5d0"
            ],
            [
             0.7,
             "#b8e186"
            ],
            [
             0.8,
             "#7fbc41"
            ],
            [
             0.9,
             "#4d9221"
            ],
            [
             1,
             "#276419"
            ]
           ],
           "sequential": [
            [
             0,
             "#0d0887"
            ],
            [
             0.1111111111111111,
             "#46039f"
            ],
            [
             0.2222222222222222,
             "#7201a8"
            ],
            [
             0.3333333333333333,
             "#9c179e"
            ],
            [
             0.4444444444444444,
             "#bd3786"
            ],
            [
             0.5555555555555556,
             "#d8576b"
            ],
            [
             0.6666666666666666,
             "#ed7953"
            ],
            [
             0.7777777777777778,
             "#fb9f3a"
            ],
            [
             0.8888888888888888,
             "#fdca26"
            ],
            [
             1,
             "#f0f921"
            ]
           ],
           "sequentialminus": [
            [
             0,
             "#0d0887"
            ],
            [
             0.1111111111111111,
             "#46039f"
            ],
            [
             0.2222222222222222,
             "#7201a8"
            ],
            [
             0.3333333333333333,
             "#9c179e"
            ],
            [
             0.4444444444444444,
             "#bd3786"
            ],
            [
             0.5555555555555556,
             "#d8576b"
            ],
            [
             0.6666666666666666,
             "#ed7953"
            ],
            [
             0.7777777777777778,
             "#fb9f3a"
            ],
            [
             0.8888888888888888,
             "#fdca26"
            ],
            [
             1,
             "#f0f921"
            ]
           ]
          },
          "colorway": [
           "#636efa",
           "#EF553B",
           "#00cc96",
           "#ab63fa",
           "#FFA15A",
           "#19d3f3",
           "#FF6692",
           "#B6E880",
           "#FF97FF",
           "#FECB52"
          ],
          "font": {
           "color": "#2a3f5f"
          },
          "geo": {
           "bgcolor": "white",
           "lakecolor": "white",
           "landcolor": "#E5ECF6",
           "showlakes": true,
           "showland": true,
           "subunitcolor": "white"
          },
          "hoverlabel": {
           "align": "left"
          },
          "hovermode": "closest",
          "mapbox": {
           "style": "light"
          },
          "paper_bgcolor": "white",
          "plot_bgcolor": "#E5ECF6",
          "polar": {
           "angularaxis": {
            "gridcolor": "white",
            "linecolor": "white",
            "ticks": ""
           },
           "bgcolor": "#E5ECF6",
           "radialaxis": {
            "gridcolor": "white",
            "linecolor": "white",
            "ticks": ""
           }
          },
          "scene": {
           "xaxis": {
            "backgroundcolor": "#E5ECF6",
            "gridcolor": "white",
            "gridwidth": 2,
            "linecolor": "white",
            "showbackground": true,
            "ticks": "",
            "zerolinecolor": "white"
           },
           "yaxis": {
            "backgroundcolor": "#E5ECF6",
            "gridcolor": "white",
            "gridwidth": 2,
            "linecolor": "white",
            "showbackground": true,
            "ticks": "",
            "zerolinecolor": "white"
           },
           "zaxis": {
            "backgroundcolor": "#E5ECF6",
            "gridcolor": "white",
            "gridwidth": 2,
            "linecolor": "white",
            "showbackground": true,
            "ticks": "",
            "zerolinecolor": "white"
           }
          },
          "shapedefaults": {
           "line": {
            "color": "#2a3f5f"
           }
          },
          "ternary": {
           "aaxis": {
            "gridcolor": "white",
            "linecolor": "white",
            "ticks": ""
           },
           "baxis": {
            "gridcolor": "white",
            "linecolor": "white",
            "ticks": ""
           },
           "bgcolor": "#E5ECF6",
           "caxis": {
            "gridcolor": "white",
            "linecolor": "white",
            "ticks": ""
           }
          },
          "title": {
           "x": 0.05
          },
          "xaxis": {
           "automargin": true,
           "gridcolor": "white",
           "linecolor": "white",
           "ticks": "",
           "title": {
            "standoff": 15
           },
           "zerolinecolor": "white",
           "zerolinewidth": 2
          },
          "yaxis": {
           "automargin": true,
           "gridcolor": "white",
           "linecolor": "white",
           "ticks": "",
           "title": {
            "standoff": 15
           },
           "zerolinecolor": "white",
           "zerolinewidth": 2
          }
         }
        }
       }
      }
     },
     "metadata": {}
    }
   ],
   "metadata": {},
   "execution_count": 12
  },
  {
   "source": [
    "print(df2.head())"
   ],
   "cell_type": "code",
   "outputs": [
    {
     "output_type": "stream",
     "name": "stdout",
     "text": "api exchange trading_pair   timestamp  period  \\\ndatetime                                                                \n2019-05-04 07:00:00  hitbtc   hitbtc      eth_btc  1556953200     300   \n2019-05-04 07:05:00  hitbtc   hitbtc      eth_btc  1556953500     300   \n2019-05-04 07:10:00  hitbtc   hitbtc      eth_btc  1556953800     300   \n2019-05-04 07:15:00  hitbtc   hitbtc      eth_btc  1556954100     300   \n2019-05-04 07:20:00  hitbtc   hitbtc      eth_btc  1556954400     300   \n\n                         open     close      high       low     volume  \\\ndatetime                                                                 \n2019-05-04 07:00:00  0.028574  0.028547  0.028574  0.028543    24.4143   \n2019-05-04 07:05:00  0.028551  0.028549  0.028556  0.028545    32.8257   \n2019-05-04 07:10:00  0.028548  0.028549  0.028562  0.028548   214.5050   \n2019-05-04 07:15:00  0.028550  0.028562  0.028570  0.028547   182.5173   \n2019-05-04 07:20:00  0.028567  0.028572  0.028572  0.028560  1380.7638   \n\n                         diff                     avg  arb_diff  arb_signal  \ndatetime                                                                     \n2019-05-04 07:00:00  0.000031  0.02853944750000000075  0.000008    0.026463  \n2019-05-04 07:05:00  0.000011  0.02851813500000000000  0.000031    0.108229  \n2019-05-04 07:10:00  0.000014  0.02852698000000000000  0.000022    0.077190  \n2019-05-04 07:15:00  0.000023  0.02853091000000000000  0.000031    0.108970  \n2019-05-04 07:20:00  0.000012  0.02854086250000000100  0.000031    0.109098  \n"
    }
   ],
   "metadata": {},
   "execution_count": 13
  },
  {
   "source": [
    "column_list = df2.columns.to_list\n",
    "print(column_list)"
   ],
   "cell_type": "code",
   "outputs": [
    {
     "output_type": "stream",
     "name": "stdout",
     "text": "<bound method IndexOpsMixin.tolist of Index(['api', 'exchange', 'trading_pair', 'timestamp', 'period', 'open',\n       'close', 'high', 'low', 'volume', 'diff', 'avg', 'arb_diff',\n       'arb_signal'],\n      dtype='object')>\n"
    }
   ],
   "metadata": {},
   "execution_count": 14
  },
  {
   "cell_type": "code",
   "execution_count": null,
   "metadata": {},
   "outputs": [],
   "source": [
    "model_framework.create_framework_lstm(df)"
   ]
  }
 ]
}