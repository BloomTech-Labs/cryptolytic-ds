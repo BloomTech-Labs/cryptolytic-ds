{
 "cells": [
  {
   "cell_type": "code",
   "execution_count": 1,
   "metadata": {},
   "outputs": [
    {
     "name": "stdout",
     "output_type": "stream",
     "text": [
      "/home/me/Documents/Git/Lambda-School-Labs/cryptolytic-ds\n"
     ]
    },
    {
     "data": {
      "text/plain": [
       "'/home/me/Documents/Git/Lambda-School-Labs/cryptolytic-ds'"
      ]
     },
     "execution_count": 1,
     "metadata": {},
     "output_type": "execute_result"
    }
   ],
   "source": [
    "%load_ext autoreload\n",
    "%autoreload 2\n",
    "%cd ../..\n",
    "# temporary\n",
    "#%cd cryptolytic-ds\n",
    "%pwd"
   ]
  },
  {
   "cell_type": "code",
   "execution_count": 2,
   "metadata": {},
   "outputs": [],
   "source": [
    "from cryptolytic.data import historical, sql\n",
    "from cryptolytic import start\n",
    "start.init()"
   ]
  },
  {
   "cell_type": "code",
   "execution_count": 3,
   "metadata": {},
   "outputs": [
    {
     "data": {
      "text/plain": [
       "['__builtins__',\n",
       " '__cached__',\n",
       " '__doc__',\n",
       " '__file__',\n",
       " '__loader__',\n",
       " '__name__',\n",
       " '__package__',\n",
       " '__spec__',\n",
       " 'add_candle_data_to_table',\n",
       " 'candlestick_to_sql',\n",
       " 'check_candle_table',\n",
       " 'check_tables',\n",
       " 'create_candle_table',\n",
       " 'drop_candle_table',\n",
       " 'get_credentials',\n",
       " 'get_latest_date',\n",
       " 'get_some_candles',\n",
       " 'get_table_columns',\n",
       " 'get_table_schema',\n",
       " 'historical',\n",
       " 'json',\n",
       " 'os',\n",
       " 'pd',\n",
       " 'ps',\n",
       " 'repeat',\n",
       " 'sql_error',\n",
       " 'time']"
      ]
     },
     "execution_count": 3,
     "metadata": {},
     "output_type": "execute_result"
    }
   ],
   "source": [
    "dir(sql)"
   ]
  },
  {
   "cell_type": "code",
   "execution_count": 4,
   "metadata": {},
   "outputs": [
    {
     "data": {
      "text/plain": [
       "1546780800"
      ]
     },
     "execution_count": 4,
     "metadata": {},
     "output_type": "execute_result"
    }
   ],
   "source": [
    "sql.get_latest_date('bitfinex', 'btc_usd')"
   ]
  },
  {
   "cell_type": "code",
   "execution_count": null,
   "metadata": {},
   "outputs": [],
   "source": []
  },
  {
   "cell_type": "code",
   "execution_count": 8,
   "metadata": {
    "scrolled": false
   },
   "outputs": [
    {
     "name": "stdout",
     "output_type": "stream",
     "text": [
      "bitfinex bitfinex btc_usd\n",
      "No latest date\n",
      "bitfinex\n",
      "btc_usd\n",
      "https://api-pub.bitfinex.com/v2/candles/trade:5m:tBTCUSD/hist?limit=100&sort=-1\n",
      "2019-01-01 02:20:00\n",
      "bitfinex bitfinex eth_btc\n",
      "No latest date\n",
      "bitfinex\n",
      "eth_btc\n",
      "https://api-pub.bitfinex.com/v2/candles/trade:5m:tETHBTC/hist?limit=100&sort=-1\n",
      "2019-01-01 02:20:00\n",
      "hitbtc hitbtc btc_usd\n",
      "No latest date\n",
      "hitbtc\n",
      "btc_usd\n",
      "https://api.hitbtc.com/api/2/public/candles/BTCUSD?period=M5&from=1546300800&limit=100\n",
      "2019-01-01 02:20:00\n",
      "hitbtc hitbtc eth_btc\n",
      "No latest date\n",
      "hitbtc\n",
      "eth_btc\n",
      "https://api.hitbtc.com/api/2/public/candles/ETHBTC?period=M5&from=1546300800&limit=100\n",
      "2019-01-01 02:20:00\n",
      "coincap binance btc_usdt\n",
      "No latest date\n",
      "coincap\n",
      "btc_usdt\n",
      "http://api.coincap.io/v2/candles?exchange=binance&interval=m5&baseId=bitcoin&quoteId=tether&start=1546300800000&end=1546330800000\n",
      "2019-01-01 02:20:00\n",
      "coincap binance eth_btc\n",
      "No latest date\n",
      "coincap\n",
      "eth_btc\n",
      "http://api.coincap.io/v2/candles?exchange=binance&interval=m5&baseId=ethereum&quoteId=bitcoin&start=1546300800000&end=1546330800000\n",
      "2019-01-01 02:20:00\n",
      "bitfinex bitfinex btc_usd\n",
      "bitfinex\n",
      "btc_usd\n",
      "https://api-pub.bitfinex.com/v2/candles/trade:5m:tBTCUSD/hist?limit=100&sort=-1\n",
      "2019-01-01 10:40:00\n",
      "bitfinex bitfinex eth_btc\n",
      "bitfinex\n",
      "eth_btc\n",
      "https://api-pub.bitfinex.com/v2/candles/trade:5m:tETHBTC/hist?limit=100&sort=-1\n",
      "2019-01-01 10:40:00\n",
      "hitbtc hitbtc btc_usd\n",
      "hitbtc\n",
      "btc_usd\n",
      "https://api.hitbtc.com/api/2/public/candles/BTCUSD?period=M5&from=1546330800&limit=100\n",
      "2019-01-01 10:40:00\n",
      "hitbtc hitbtc eth_btc\n",
      "hitbtc\n",
      "eth_btc\n",
      "https://api.hitbtc.com/api/2/public/candles/ETHBTC?period=M5&from=1546330800&limit=100\n",
      "2019-01-01 10:40:00\n",
      "coincap binance btc_usdt\n",
      "coincap\n",
      "btc_usdt\n",
      "http://api.coincap.io/v2/candles?exchange=binance&interval=m5&baseId=bitcoin&quoteId=tether&start=1546330800000&end=1546360800000\n",
      "2019-01-01 10:40:00\n",
      "coincap binance eth_btc\n",
      "coincap\n",
      "eth_btc\n",
      "http://api.coincap.io/v2/candles?exchange=binance&interval=m5&baseId=ethereum&quoteId=bitcoin&start=1546330800000&end=1546360800000\n",
      "2019-01-01 10:40:00\n",
      "bitfinex bitfinex btc_usd\n",
      "bitfinex\n",
      "btc_usd\n",
      "https://api-pub.bitfinex.com/v2/candles/trade:5m:tBTCUSD/hist?limit=100&sort=-1\n",
      "2019-01-01 19:00:00\n",
      "bitfinex bitfinex eth_btc\n",
      "bitfinex\n",
      "eth_btc\n",
      "https://api-pub.bitfinex.com/v2/candles/trade:5m:tETHBTC/hist?limit=100&sort=-1\n",
      "2019-01-01 19:00:00\n",
      "hitbtc hitbtc btc_usd\n",
      "hitbtc\n",
      "btc_usd\n",
      "https://api.hitbtc.com/api/2/public/candles/BTCUSD?period=M5&from=1546360800&limit=100\n",
      "2019-01-01 19:00:00\n",
      "hitbtc hitbtc eth_btc\n",
      "hitbtc\n",
      "eth_btc\n",
      "https://api.hitbtc.com/api/2/public/candles/ETHBTC?period=M5&from=1546360800&limit=100\n",
      "2019-01-01 19:00:00\n",
      "coincap binance btc_usdt\n",
      "coincap\n",
      "btc_usdt\n",
      "http://api.coincap.io/v2/candles?exchange=binance&interval=m5&baseId=bitcoin&quoteId=tether&start=1546360800000&end=1546390800000\n",
      "2019-01-01 19:00:00\n",
      "coincap binance eth_btc\n",
      "coincap\n",
      "eth_btc\n",
      "http://api.coincap.io/v2/candles?exchange=binance&interval=m5&baseId=ethereum&quoteId=bitcoin&start=1546360800000&end=1546390800000\n",
      "2019-01-01 19:00:00\n",
      "bitfinex bitfinex btc_usd\n",
      "bitfinex\n",
      "btc_usd\n",
      "https://api-pub.bitfinex.com/v2/candles/trade:5m:tBTCUSD/hist?limit=100&sort=-1\n",
      "2019-01-02 03:20:00\n",
      "bitfinex bitfinex eth_btc\n",
      "bitfinex\n",
      "eth_btc\n",
      "https://api-pub.bitfinex.com/v2/candles/trade:5m:tETHBTC/hist?limit=100&sort=-1\n",
      "2019-01-02 03:20:00\n",
      "hitbtc hitbtc btc_usd\n",
      "hitbtc\n",
      "btc_usd\n",
      "https://api.hitbtc.com/api/2/public/candles/BTCUSD?period=M5&from=1546390800&limit=100\n",
      "2019-01-02 03:20:00\n",
      "hitbtc hitbtc eth_btc\n",
      "hitbtc\n",
      "eth_btc\n",
      "https://api.hitbtc.com/api/2/public/candles/ETHBTC?period=M5&from=1546390800&limit=100\n",
      "2019-01-02 03:20:00\n",
      "coincap binance btc_usdt\n",
      "coincap\n",
      "btc_usdt\n",
      "http://api.coincap.io/v2/candles?exchange=binance&interval=m5&baseId=bitcoin&quoteId=tether&start=1546390800000&end=1546420800000\n",
      "2019-01-02 03:20:00\n",
      "coincap binance eth_btc\n",
      "coincap\n",
      "eth_btc\n",
      "http://api.coincap.io/v2/candles?exchange=binance&interval=m5&baseId=ethereum&quoteId=bitcoin&start=1546390800000&end=1546420800000\n",
      "2019-01-02 03:20:00\n",
      "bitfinex bitfinex btc_usd\n",
      "bitfinex\n",
      "btc_usd\n",
      "https://api-pub.bitfinex.com/v2/candles/trade:5m:tBTCUSD/hist?limit=100&sort=-1\n",
      "2019-01-02 11:40:00\n",
      "bitfinex bitfinex eth_btc\n",
      "bitfinex\n",
      "eth_btc\n",
      "https://api-pub.bitfinex.com/v2/candles/trade:5m:tETHBTC/hist?limit=100&sort=-1\n",
      "2019-01-02 11:40:00\n",
      "hitbtc hitbtc btc_usd\n",
      "hitbtc\n",
      "btc_usd\n",
      "https://api.hitbtc.com/api/2/public/candles/BTCUSD?period=M5&from=1546420800&limit=100\n",
      "2019-01-02 11:40:00\n",
      "hitbtc hitbtc eth_btc\n",
      "hitbtc\n",
      "eth_btc\n",
      "https://api.hitbtc.com/api/2/public/candles/ETHBTC?period=M5&from=1546420800&limit=100\n",
      "2019-01-02 11:40:00\n",
      "coincap binance btc_usdt\n",
      "coincap\n",
      "btc_usdt\n",
      "http://api.coincap.io/v2/candles?exchange=binance&interval=m5&baseId=bitcoin&quoteId=tether&start=1546420800000&end=1546450800000\n",
      "2019-01-02 11:40:00\n",
      "coincap binance eth_btc\n",
      "coincap\n",
      "eth_btc\n",
      "http://api.coincap.io/v2/candles?exchange=binance&interval=m5&baseId=ethereum&quoteId=bitcoin&start=1546420800000&end=1546450800000\n",
      "2019-01-02 11:40:00\n",
      "bitfinex bitfinex btc_usd\n",
      "bitfinex\n",
      "btc_usd\n",
      "https://api-pub.bitfinex.com/v2/candles/trade:5m:tBTCUSD/hist?limit=100&sort=-1\n",
      "2019-01-02 20:00:00\n",
      "bitfinex bitfinex eth_btc\n",
      "bitfinex\n",
      "eth_btc\n",
      "https://api-pub.bitfinex.com/v2/candles/trade:5m:tETHBTC/hist?limit=100&sort=-1\n",
      "2019-01-02 20:00:00\n",
      "hitbtc hitbtc btc_usd\n",
      "hitbtc\n",
      "btc_usd\n",
      "https://api.hitbtc.com/api/2/public/candles/BTCUSD?period=M5&from=1546450800&limit=100\n",
      "2019-01-02 20:00:00\n",
      "hitbtc hitbtc eth_btc\n",
      "hitbtc\n",
      "eth_btc\n",
      "https://api.hitbtc.com/api/2/public/candles/ETHBTC?period=M5&from=1546450800&limit=100\n",
      "2019-01-02 20:00:00\n",
      "coincap binance btc_usdt\n",
      "coincap\n",
      "btc_usdt\n",
      "http://api.coincap.io/v2/candles?exchange=binance&interval=m5&baseId=bitcoin&quoteId=tether&start=1546450800000&end=1546480800000\n",
      "2019-01-02 20:00:00\n",
      "coincap binance eth_btc\n",
      "coincap\n",
      "eth_btc\n",
      "http://api.coincap.io/v2/candles?exchange=binance&interval=m5&baseId=ethereum&quoteId=bitcoin&start=1546450800000&end=1546480800000\n",
      "2019-01-02 20:00:00\n",
      "bitfinex bitfinex btc_usd\n",
      "bitfinex\n",
      "btc_usd\n",
      "https://api-pub.bitfinex.com/v2/candles/trade:5m:tBTCUSD/hist?limit=100&sort=-1\n",
      "2019-01-03 04:20:00\n",
      "bitfinex bitfinex eth_btc\n",
      "bitfinex\n",
      "eth_btc\n",
      "https://api-pub.bitfinex.com/v2/candles/trade:5m:tETHBTC/hist?limit=100&sort=-1\n",
      "2019-01-03 04:20:00\n",
      "hitbtc hitbtc btc_usd\n",
      "hitbtc\n",
      "btc_usd\n",
      "https://api.hitbtc.com/api/2/public/candles/BTCUSD?period=M5&from=1546480800&limit=100\n",
      "2019-01-03 04:20:00\n",
      "hitbtc hitbtc eth_btc\n",
      "hitbtc\n",
      "eth_btc\n",
      "https://api.hitbtc.com/api/2/public/candles/ETHBTC?period=M5&from=1546480800&limit=100\n",
      "2019-01-03 04:20:00\n",
      "coincap binance btc_usdt\n",
      "coincap\n",
      "btc_usdt\n",
      "http://api.coincap.io/v2/candles?exchange=binance&interval=m5&baseId=bitcoin&quoteId=tether&start=1546480800000&end=1546510800000\n",
      "2019-01-03 04:20:00\n",
      "coincap binance eth_btc\n",
      "coincap\n",
      "eth_btc\n",
      "http://api.coincap.io/v2/candles?exchange=binance&interval=m5&baseId=ethereum&quoteId=bitcoin&start=1546480800000&end=1546510800000\n",
      "2019-01-03 04:20:00\n",
      "bitfinex bitfinex btc_usd\n",
      "bitfinex\n",
      "btc_usd\n",
      "https://api-pub.bitfinex.com/v2/candles/trade:5m:tBTCUSD/hist?limit=100&sort=-1\n",
      "2019-01-03 12:40:00\n",
      "bitfinex bitfinex eth_btc\n",
      "bitfinex\n",
      "eth_btc\n",
      "https://api-pub.bitfinex.com/v2/candles/trade:5m:tETHBTC/hist?limit=100&sort=-1\n",
      "2019-01-03 12:40:00\n",
      "hitbtc hitbtc btc_usd\n",
      "hitbtc\n",
      "btc_usd\n",
      "https://api.hitbtc.com/api/2/public/candles/BTCUSD?period=M5&from=1546510800&limit=100\n",
      "2019-01-03 12:40:00\n",
      "hitbtc hitbtc eth_btc\n",
      "hitbtc\n",
      "eth_btc\n",
      "https://api.hitbtc.com/api/2/public/candles/ETHBTC?period=M5&from=1546510800&limit=100\n",
      "2019-01-03 12:40:00\n",
      "coincap binance btc_usdt\n",
      "coincap\n",
      "btc_usdt\n",
      "http://api.coincap.io/v2/candles?exchange=binance&interval=m5&baseId=bitcoin&quoteId=tether&start=1546510800000&end=1546540800000\n",
      "2019-01-03 12:40:00\n",
      "coincap binance eth_btc\n",
      "coincap\n",
      "eth_btc\n",
      "http://api.coincap.io/v2/candles?exchange=binance&interval=m5&baseId=ethereum&quoteId=bitcoin&start=1546510800000&end=1546540800000\n",
      "2019-01-03 12:40:00\n",
      "bitfinex bitfinex btc_usd\n",
      "bitfinex\n",
      "btc_usd\n",
      "https://api-pub.bitfinex.com/v2/candles/trade:5m:tBTCUSD/hist?limit=100&sort=-1\n",
      "2019-01-03 21:00:00\n",
      "bitfinex bitfinex eth_btc\n",
      "bitfinex\n",
      "eth_btc\n",
      "https://api-pub.bitfinex.com/v2/candles/trade:5m:tETHBTC/hist?limit=100&sort=-1\n",
      "2019-01-03 21:00:00\n",
      "hitbtc hitbtc btc_usd\n",
      "hitbtc\n",
      "btc_usd\n",
      "https://api.hitbtc.com/api/2/public/candles/BTCUSD?period=M5&from=1546540800&limit=100\n",
      "2019-01-03 21:00:00\n",
      "hitbtc hitbtc eth_btc\n"
     ]
    },
    {
     "name": "stdout",
     "output_type": "stream",
     "text": [
      "hitbtc\n",
      "eth_btc\n",
      "https://api.hitbtc.com/api/2/public/candles/ETHBTC?period=M5&from=1546540800&limit=100\n",
      "2019-01-03 21:00:00\n",
      "coincap binance btc_usdt\n",
      "coincap\n",
      "btc_usdt\n",
      "http://api.coincap.io/v2/candles?exchange=binance&interval=m5&baseId=bitcoin&quoteId=tether&start=1546540800000&end=1546570800000\n",
      "2019-01-03 21:00:00\n",
      "coincap binance eth_btc\n",
      "coincap\n",
      "eth_btc\n",
      "http://api.coincap.io/v2/candles?exchange=binance&interval=m5&baseId=ethereum&quoteId=bitcoin&start=1546540800000&end=1546570800000\n",
      "2019-01-03 21:00:00\n",
      "bitfinex bitfinex btc_usd\n",
      "bitfinex\n",
      "btc_usd\n",
      "https://api-pub.bitfinex.com/v2/candles/trade:5m:tBTCUSD/hist?limit=100&sort=-1\n",
      "2019-01-04 05:20:00\n",
      "bitfinex bitfinex eth_btc\n",
      "bitfinex\n",
      "eth_btc\n",
      "https://api-pub.bitfinex.com/v2/candles/trade:5m:tETHBTC/hist?limit=100&sort=-1\n",
      "2019-01-04 05:20:00\n",
      "hitbtc hitbtc btc_usd\n",
      "hitbtc\n",
      "btc_usd\n",
      "https://api.hitbtc.com/api/2/public/candles/BTCUSD?period=M5&from=1546570800&limit=100\n",
      "2019-01-04 05:20:00\n",
      "hitbtc hitbtc eth_btc\n",
      "hitbtc\n",
      "eth_btc\n",
      "https://api.hitbtc.com/api/2/public/candles/ETHBTC?period=M5&from=1546570800&limit=100\n",
      "2019-01-04 05:20:00\n",
      "coincap binance btc_usdt\n",
      "coincap\n",
      "btc_usdt\n",
      "http://api.coincap.io/v2/candles?exchange=binance&interval=m5&baseId=bitcoin&quoteId=tether&start=1546570800000&end=1546600800000\n",
      "2019-01-04 05:20:00\n",
      "coincap binance eth_btc\n",
      "coincap\n",
      "eth_btc\n",
      "http://api.coincap.io/v2/candles?exchange=binance&interval=m5&baseId=ethereum&quoteId=bitcoin&start=1546570800000&end=1546600800000\n",
      "2019-01-04 05:20:00\n",
      "bitfinex bitfinex btc_usd\n",
      "bitfinex\n",
      "btc_usd\n",
      "https://api-pub.bitfinex.com/v2/candles/trade:5m:tBTCUSD/hist?limit=100&sort=-1\n",
      "2019-01-04 13:40:00\n",
      "bitfinex bitfinex eth_btc\n",
      "bitfinex\n",
      "eth_btc\n",
      "https://api-pub.bitfinex.com/v2/candles/trade:5m:tETHBTC/hist?limit=100&sort=-1\n",
      "2019-01-04 13:40:00\n",
      "hitbtc hitbtc btc_usd\n",
      "hitbtc\n",
      "btc_usd\n",
      "https://api.hitbtc.com/api/2/public/candles/BTCUSD?period=M5&from=1546600800&limit=100\n",
      "2019-01-04 13:40:00\n",
      "hitbtc hitbtc eth_btc\n",
      "hitbtc\n",
      "eth_btc\n",
      "https://api.hitbtc.com/api/2/public/candles/ETHBTC?period=M5&from=1546600800&limit=100\n",
      "2019-01-04 13:40:00\n",
      "coincap binance btc_usdt\n",
      "coincap\n",
      "btc_usdt\n",
      "http://api.coincap.io/v2/candles?exchange=binance&interval=m5&baseId=bitcoin&quoteId=tether&start=1546600800000&end=1546630800000\n",
      "2019-01-04 13:40:00\n",
      "coincap binance eth_btc\n",
      "coincap\n",
      "eth_btc\n",
      "http://api.coincap.io/v2/candles?exchange=binance&interval=m5&baseId=ethereum&quoteId=bitcoin&start=1546600800000&end=1546630800000\n",
      "2019-01-04 13:40:00\n",
      "bitfinex bitfinex btc_usd\n",
      "bitfinex\n",
      "btc_usd\n",
      "https://api-pub.bitfinex.com/v2/candles/trade:5m:tBTCUSD/hist?limit=100&sort=-1\n",
      "2019-01-04 22:00:00\n",
      "bitfinex bitfinex eth_btc\n",
      "bitfinex\n",
      "eth_btc\n",
      "https://api-pub.bitfinex.com/v2/candles/trade:5m:tETHBTC/hist?limit=100&sort=-1\n",
      "2019-01-04 22:00:00\n",
      "hitbtc hitbtc btc_usd\n",
      "hitbtc\n",
      "btc_usd\n",
      "https://api.hitbtc.com/api/2/public/candles/BTCUSD?period=M5&from=1546630800&limit=100\n",
      "2019-01-04 22:00:00\n",
      "hitbtc hitbtc eth_btc\n",
      "hitbtc\n",
      "eth_btc\n",
      "https://api.hitbtc.com/api/2/public/candles/ETHBTC?period=M5&from=1546630800&limit=100\n",
      "2019-01-04 22:00:00\n",
      "coincap binance btc_usdt\n",
      "coincap\n",
      "btc_usdt\n",
      "http://api.coincap.io/v2/candles?exchange=binance&interval=m5&baseId=bitcoin&quoteId=tether&start=1546630800000&end=1546660800000\n"
     ]
    },
    {
     "ename": "KeyboardInterrupt",
     "evalue": "",
     "output_type": "error",
     "traceback": [
      "\u001b[0;31m---------------------------------------------------------------------------\u001b[0m",
      "\u001b[0;31mTypeError\u001b[0m                                 Traceback (most recent call last)",
      "\u001b[0;32m~/anaconda3/lib/python3.7/site-packages/urllib3/connectionpool.py\u001b[0m in \u001b[0;36m_make_request\u001b[0;34m(self, conn, method, url, timeout, chunked, **httplib_request_kw)\u001b[0m\n\u001b[1;32m    378\u001b[0m                 \u001b[0;31m# Python 2.7, use buffering of HTTP responses\u001b[0m\u001b[0;34m\u001b[0m\u001b[0;34m\u001b[0m\u001b[0;34m\u001b[0m\u001b[0m\n\u001b[0;32m--> 379\u001b[0;31m                 \u001b[0mhttplib_response\u001b[0m \u001b[0;34m=\u001b[0m \u001b[0mconn\u001b[0m\u001b[0;34m.\u001b[0m\u001b[0mgetresponse\u001b[0m\u001b[0;34m(\u001b[0m\u001b[0mbuffering\u001b[0m\u001b[0;34m=\u001b[0m\u001b[0;32mTrue\u001b[0m\u001b[0;34m)\u001b[0m\u001b[0;34m\u001b[0m\u001b[0;34m\u001b[0m\u001b[0m\n\u001b[0m\u001b[1;32m    380\u001b[0m             \u001b[0;32mexcept\u001b[0m \u001b[0mTypeError\u001b[0m\u001b[0;34m:\u001b[0m\u001b[0;34m\u001b[0m\u001b[0;34m\u001b[0m\u001b[0m\n",
      "\u001b[0;31mTypeError\u001b[0m: getresponse() got an unexpected keyword argument 'buffering'",
      "\nDuring handling of the above exception, another exception occurred:\n",
      "\u001b[0;31mKeyboardInterrupt\u001b[0m                         Traceback (most recent call last)",
      "\u001b[0;32m<ipython-input-8-8470d14c8e83>\u001b[0m in \u001b[0;36m<module>\u001b[0;34m\u001b[0m\n\u001b[0;32m----> 1\u001b[0;31m \u001b[0mhistorical\u001b[0m\u001b[0;34m.\u001b[0m\u001b[0mlive_update\u001b[0m\u001b[0;34m(\u001b[0m\u001b[0;34m)\u001b[0m\u001b[0;34m\u001b[0m\u001b[0;34m\u001b[0m\u001b[0m\n\u001b[0m",
      "\u001b[0;32m~/Documents/Git/Lambda-School-Labs/cryptolytic-ds/cryptolytic/data/historical.py\u001b[0m in \u001b[0;36mlive_update\u001b[0;34m()\u001b[0m\n\u001b[1;32m    282\u001b[0m                                     \u001b[0mstart\u001b[0m\u001b[0;34m=\u001b[0m\u001b[0mstart\u001b[0m\u001b[0;34m,\u001b[0m\u001b[0;34m\u001b[0m\u001b[0;34m\u001b[0m\u001b[0m\n\u001b[1;32m    283\u001b[0m                                     \u001b[0mperiod\u001b[0m\u001b[0;34m=\u001b[0m\u001b[0mperiod\u001b[0m\u001b[0;34m,\u001b[0m\u001b[0;34m\u001b[0m\u001b[0;34m\u001b[0m\u001b[0m\n\u001b[0;32m--> 284\u001b[0;31m                                     limit=limit)\n\u001b[0m\u001b[1;32m    285\u001b[0m \u001b[0;34m\u001b[0m\u001b[0m\n\u001b[1;32m    286\u001b[0m         \u001b[0;31m# last candle is up to date with current time, done updating for this trading_pair on this exchange\u001b[0m\u001b[0;34m\u001b[0m\u001b[0;34m\u001b[0m\u001b[0;34m\u001b[0m\u001b[0m\n",
      "\u001b[0;32m~/Documents/Git/Lambda-School-Labs/cryptolytic-ds/cryptolytic/data/historical.py\u001b[0m in \u001b[0;36mget_from_api\u001b[0;34m(api, exchange, trading_pair, start, limit, period, apikey)\u001b[0m\n\u001b[1;32m    211\u001b[0m \u001b[0;34m\u001b[0m\u001b[0m\n\u001b[1;32m    212\u001b[0m     \u001b[0;31m# TODO more error checking and rescheduling if there is an error and the current_timestamp has been updated at least one (i.e. > start)\u001b[0m\u001b[0;34m\u001b[0m\u001b[0;34m\u001b[0m\u001b[0;34m\u001b[0m\u001b[0m\n\u001b[0;32m--> 213\u001b[0;31m     \u001b[0mresponse\u001b[0m \u001b[0;34m=\u001b[0m \u001b[0mrequests\u001b[0m\u001b[0;34m.\u001b[0m\u001b[0mget\u001b[0m\u001b[0;34m(\u001b[0m\u001b[0murl\u001b[0m\u001b[0;34m)\u001b[0m\u001b[0;34m\u001b[0m\u001b[0;34m\u001b[0m\u001b[0m\n\u001b[0m\u001b[1;32m    214\u001b[0m     \u001b[0;32mif\u001b[0m \u001b[0mresponse\u001b[0m\u001b[0;34m.\u001b[0m\u001b[0mstatus_code\u001b[0m \u001b[0;34m!=\u001b[0m \u001b[0;36m200\u001b[0m\u001b[0;34m:\u001b[0m\u001b[0;34m\u001b[0m\u001b[0;34m\u001b[0m\u001b[0m\n\u001b[1;32m    215\u001b[0m         \u001b[0mprint\u001b[0m\u001b[0;34m(\u001b[0m\u001b[0;34mf\"\"\"In function get_from_api, got bad response {response.status_code}. Exiting early.\"\"\"\u001b[0m\u001b[0;34m)\u001b[0m\u001b[0;34m\u001b[0m\u001b[0;34m\u001b[0m\u001b[0m\n",
      "\u001b[0;32m~/anaconda3/lib/python3.7/site-packages/requests/api.py\u001b[0m in \u001b[0;36mget\u001b[0;34m(url, params, **kwargs)\u001b[0m\n\u001b[1;32m     73\u001b[0m \u001b[0;34m\u001b[0m\u001b[0m\n\u001b[1;32m     74\u001b[0m     \u001b[0mkwargs\u001b[0m\u001b[0;34m.\u001b[0m\u001b[0msetdefault\u001b[0m\u001b[0;34m(\u001b[0m\u001b[0;34m'allow_redirects'\u001b[0m\u001b[0;34m,\u001b[0m \u001b[0;32mTrue\u001b[0m\u001b[0;34m)\u001b[0m\u001b[0;34m\u001b[0m\u001b[0;34m\u001b[0m\u001b[0m\n\u001b[0;32m---> 75\u001b[0;31m     \u001b[0;32mreturn\u001b[0m \u001b[0mrequest\u001b[0m\u001b[0;34m(\u001b[0m\u001b[0;34m'get'\u001b[0m\u001b[0;34m,\u001b[0m \u001b[0murl\u001b[0m\u001b[0;34m,\u001b[0m \u001b[0mparams\u001b[0m\u001b[0;34m=\u001b[0m\u001b[0mparams\u001b[0m\u001b[0;34m,\u001b[0m \u001b[0;34m**\u001b[0m\u001b[0mkwargs\u001b[0m\u001b[0;34m)\u001b[0m\u001b[0;34m\u001b[0m\u001b[0;34m\u001b[0m\u001b[0m\n\u001b[0m\u001b[1;32m     76\u001b[0m \u001b[0;34m\u001b[0m\u001b[0m\n\u001b[1;32m     77\u001b[0m \u001b[0;34m\u001b[0m\u001b[0m\n",
      "\u001b[0;32m~/anaconda3/lib/python3.7/site-packages/requests/api.py\u001b[0m in \u001b[0;36mrequest\u001b[0;34m(method, url, **kwargs)\u001b[0m\n\u001b[1;32m     58\u001b[0m     \u001b[0;31m# cases, and look like a memory leak in others.\u001b[0m\u001b[0;34m\u001b[0m\u001b[0;34m\u001b[0m\u001b[0;34m\u001b[0m\u001b[0m\n\u001b[1;32m     59\u001b[0m     \u001b[0;32mwith\u001b[0m \u001b[0msessions\u001b[0m\u001b[0;34m.\u001b[0m\u001b[0mSession\u001b[0m\u001b[0;34m(\u001b[0m\u001b[0;34m)\u001b[0m \u001b[0;32mas\u001b[0m \u001b[0msession\u001b[0m\u001b[0;34m:\u001b[0m\u001b[0;34m\u001b[0m\u001b[0;34m\u001b[0m\u001b[0m\n\u001b[0;32m---> 60\u001b[0;31m         \u001b[0;32mreturn\u001b[0m \u001b[0msession\u001b[0m\u001b[0;34m.\u001b[0m\u001b[0mrequest\u001b[0m\u001b[0;34m(\u001b[0m\u001b[0mmethod\u001b[0m\u001b[0;34m=\u001b[0m\u001b[0mmethod\u001b[0m\u001b[0;34m,\u001b[0m \u001b[0murl\u001b[0m\u001b[0;34m=\u001b[0m\u001b[0murl\u001b[0m\u001b[0;34m,\u001b[0m \u001b[0;34m**\u001b[0m\u001b[0mkwargs\u001b[0m\u001b[0;34m)\u001b[0m\u001b[0;34m\u001b[0m\u001b[0;34m\u001b[0m\u001b[0m\n\u001b[0m\u001b[1;32m     61\u001b[0m \u001b[0;34m\u001b[0m\u001b[0m\n\u001b[1;32m     62\u001b[0m \u001b[0;34m\u001b[0m\u001b[0m\n",
      "\u001b[0;32m~/anaconda3/lib/python3.7/site-packages/requests/sessions.py\u001b[0m in \u001b[0;36mrequest\u001b[0;34m(self, method, url, params, data, headers, cookies, files, auth, timeout, allow_redirects, proxies, hooks, stream, verify, cert, json)\u001b[0m\n\u001b[1;32m    531\u001b[0m         }\n\u001b[1;32m    532\u001b[0m         \u001b[0msend_kwargs\u001b[0m\u001b[0;34m.\u001b[0m\u001b[0mupdate\u001b[0m\u001b[0;34m(\u001b[0m\u001b[0msettings\u001b[0m\u001b[0;34m)\u001b[0m\u001b[0;34m\u001b[0m\u001b[0;34m\u001b[0m\u001b[0m\n\u001b[0;32m--> 533\u001b[0;31m         \u001b[0mresp\u001b[0m \u001b[0;34m=\u001b[0m \u001b[0mself\u001b[0m\u001b[0;34m.\u001b[0m\u001b[0msend\u001b[0m\u001b[0;34m(\u001b[0m\u001b[0mprep\u001b[0m\u001b[0;34m,\u001b[0m \u001b[0;34m**\u001b[0m\u001b[0msend_kwargs\u001b[0m\u001b[0;34m)\u001b[0m\u001b[0;34m\u001b[0m\u001b[0;34m\u001b[0m\u001b[0m\n\u001b[0m\u001b[1;32m    534\u001b[0m \u001b[0;34m\u001b[0m\u001b[0m\n\u001b[1;32m    535\u001b[0m         \u001b[0;32mreturn\u001b[0m \u001b[0mresp\u001b[0m\u001b[0;34m\u001b[0m\u001b[0;34m\u001b[0m\u001b[0m\n",
      "\u001b[0;32m~/anaconda3/lib/python3.7/site-packages/requests/sessions.py\u001b[0m in \u001b[0;36msend\u001b[0;34m(self, request, **kwargs)\u001b[0m\n\u001b[1;32m    666\u001b[0m \u001b[0;34m\u001b[0m\u001b[0m\n\u001b[1;32m    667\u001b[0m         \u001b[0;31m# Resolve redirects if allowed.\u001b[0m\u001b[0;34m\u001b[0m\u001b[0;34m\u001b[0m\u001b[0;34m\u001b[0m\u001b[0m\n\u001b[0;32m--> 668\u001b[0;31m         \u001b[0mhistory\u001b[0m \u001b[0;34m=\u001b[0m \u001b[0;34m[\u001b[0m\u001b[0mresp\u001b[0m \u001b[0;32mfor\u001b[0m \u001b[0mresp\u001b[0m \u001b[0;32min\u001b[0m \u001b[0mgen\u001b[0m\u001b[0;34m]\u001b[0m \u001b[0;32mif\u001b[0m \u001b[0mallow_redirects\u001b[0m \u001b[0;32melse\u001b[0m \u001b[0;34m[\u001b[0m\u001b[0;34m]\u001b[0m\u001b[0;34m\u001b[0m\u001b[0;34m\u001b[0m\u001b[0m\n\u001b[0m\u001b[1;32m    669\u001b[0m \u001b[0;34m\u001b[0m\u001b[0m\n\u001b[1;32m    670\u001b[0m         \u001b[0;31m# Shuffle things around if there's history.\u001b[0m\u001b[0;34m\u001b[0m\u001b[0;34m\u001b[0m\u001b[0;34m\u001b[0m\u001b[0m\n",
      "\u001b[0;32m~/anaconda3/lib/python3.7/site-packages/requests/sessions.py\u001b[0m in \u001b[0;36m<listcomp>\u001b[0;34m(.0)\u001b[0m\n\u001b[1;32m    666\u001b[0m \u001b[0;34m\u001b[0m\u001b[0m\n\u001b[1;32m    667\u001b[0m         \u001b[0;31m# Resolve redirects if allowed.\u001b[0m\u001b[0;34m\u001b[0m\u001b[0;34m\u001b[0m\u001b[0;34m\u001b[0m\u001b[0m\n\u001b[0;32m--> 668\u001b[0;31m         \u001b[0mhistory\u001b[0m \u001b[0;34m=\u001b[0m \u001b[0;34m[\u001b[0m\u001b[0mresp\u001b[0m \u001b[0;32mfor\u001b[0m \u001b[0mresp\u001b[0m \u001b[0;32min\u001b[0m \u001b[0mgen\u001b[0m\u001b[0;34m]\u001b[0m \u001b[0;32mif\u001b[0m \u001b[0mallow_redirects\u001b[0m \u001b[0;32melse\u001b[0m \u001b[0;34m[\u001b[0m\u001b[0;34m]\u001b[0m\u001b[0;34m\u001b[0m\u001b[0;34m\u001b[0m\u001b[0m\n\u001b[0m\u001b[1;32m    669\u001b[0m \u001b[0;34m\u001b[0m\u001b[0m\n\u001b[1;32m    670\u001b[0m         \u001b[0;31m# Shuffle things around if there's history.\u001b[0m\u001b[0;34m\u001b[0m\u001b[0;34m\u001b[0m\u001b[0;34m\u001b[0m\u001b[0m\n",
      "\u001b[0;32m~/anaconda3/lib/python3.7/site-packages/requests/sessions.py\u001b[0m in \u001b[0;36mresolve_redirects\u001b[0;34m(self, resp, req, stream, timeout, verify, cert, proxies, yield_requests, **adapter_kwargs)\u001b[0m\n\u001b[1;32m    245\u001b[0m                     \u001b[0mproxies\u001b[0m\u001b[0;34m=\u001b[0m\u001b[0mproxies\u001b[0m\u001b[0;34m,\u001b[0m\u001b[0;34m\u001b[0m\u001b[0;34m\u001b[0m\u001b[0m\n\u001b[1;32m    246\u001b[0m                     \u001b[0mallow_redirects\u001b[0m\u001b[0;34m=\u001b[0m\u001b[0;32mFalse\u001b[0m\u001b[0;34m,\u001b[0m\u001b[0;34m\u001b[0m\u001b[0;34m\u001b[0m\u001b[0m\n\u001b[0;32m--> 247\u001b[0;31m                     \u001b[0;34m**\u001b[0m\u001b[0madapter_kwargs\u001b[0m\u001b[0;34m\u001b[0m\u001b[0;34m\u001b[0m\u001b[0m\n\u001b[0m\u001b[1;32m    248\u001b[0m                 )\n\u001b[1;32m    249\u001b[0m \u001b[0;34m\u001b[0m\u001b[0m\n",
      "\u001b[0;32m~/anaconda3/lib/python3.7/site-packages/requests/sessions.py\u001b[0m in \u001b[0;36msend\u001b[0;34m(self, request, **kwargs)\u001b[0m\n\u001b[1;32m    644\u001b[0m \u001b[0;34m\u001b[0m\u001b[0m\n\u001b[1;32m    645\u001b[0m         \u001b[0;31m# Send the request\u001b[0m\u001b[0;34m\u001b[0m\u001b[0;34m\u001b[0m\u001b[0;34m\u001b[0m\u001b[0m\n\u001b[0;32m--> 646\u001b[0;31m         \u001b[0mr\u001b[0m \u001b[0;34m=\u001b[0m \u001b[0madapter\u001b[0m\u001b[0;34m.\u001b[0m\u001b[0msend\u001b[0m\u001b[0;34m(\u001b[0m\u001b[0mrequest\u001b[0m\u001b[0;34m,\u001b[0m \u001b[0;34m**\u001b[0m\u001b[0mkwargs\u001b[0m\u001b[0;34m)\u001b[0m\u001b[0;34m\u001b[0m\u001b[0;34m\u001b[0m\u001b[0m\n\u001b[0m\u001b[1;32m    647\u001b[0m \u001b[0;34m\u001b[0m\u001b[0m\n\u001b[1;32m    648\u001b[0m         \u001b[0;31m# Total elapsed time of the request (approximately)\u001b[0m\u001b[0;34m\u001b[0m\u001b[0;34m\u001b[0m\u001b[0;34m\u001b[0m\u001b[0m\n",
      "\u001b[0;32m~/anaconda3/lib/python3.7/site-packages/requests/adapters.py\u001b[0m in \u001b[0;36msend\u001b[0;34m(self, request, stream, timeout, verify, cert, proxies)\u001b[0m\n\u001b[1;32m    447\u001b[0m                     \u001b[0mdecode_content\u001b[0m\u001b[0;34m=\u001b[0m\u001b[0;32mFalse\u001b[0m\u001b[0;34m,\u001b[0m\u001b[0;34m\u001b[0m\u001b[0;34m\u001b[0m\u001b[0m\n\u001b[1;32m    448\u001b[0m                     \u001b[0mretries\u001b[0m\u001b[0;34m=\u001b[0m\u001b[0mself\u001b[0m\u001b[0;34m.\u001b[0m\u001b[0mmax_retries\u001b[0m\u001b[0;34m,\u001b[0m\u001b[0;34m\u001b[0m\u001b[0;34m\u001b[0m\u001b[0m\n\u001b[0;32m--> 449\u001b[0;31m                     \u001b[0mtimeout\u001b[0m\u001b[0;34m=\u001b[0m\u001b[0mtimeout\u001b[0m\u001b[0;34m\u001b[0m\u001b[0;34m\u001b[0m\u001b[0m\n\u001b[0m\u001b[1;32m    450\u001b[0m                 )\n\u001b[1;32m    451\u001b[0m \u001b[0;34m\u001b[0m\u001b[0m\n",
      "\u001b[0;32m~/anaconda3/lib/python3.7/site-packages/urllib3/connectionpool.py\u001b[0m in \u001b[0;36murlopen\u001b[0;34m(self, method, url, body, headers, retries, redirect, assert_same_host, timeout, pool_timeout, release_conn, chunked, body_pos, **response_kw)\u001b[0m\n\u001b[1;32m    601\u001b[0m                                                   \u001b[0mtimeout\u001b[0m\u001b[0;34m=\u001b[0m\u001b[0mtimeout_obj\u001b[0m\u001b[0;34m,\u001b[0m\u001b[0;34m\u001b[0m\u001b[0;34m\u001b[0m\u001b[0m\n\u001b[1;32m    602\u001b[0m                                                   \u001b[0mbody\u001b[0m\u001b[0;34m=\u001b[0m\u001b[0mbody\u001b[0m\u001b[0;34m,\u001b[0m \u001b[0mheaders\u001b[0m\u001b[0;34m=\u001b[0m\u001b[0mheaders\u001b[0m\u001b[0;34m,\u001b[0m\u001b[0;34m\u001b[0m\u001b[0;34m\u001b[0m\u001b[0m\n\u001b[0;32m--> 603\u001b[0;31m                                                   chunked=chunked)\n\u001b[0m\u001b[1;32m    604\u001b[0m \u001b[0;34m\u001b[0m\u001b[0m\n\u001b[1;32m    605\u001b[0m             \u001b[0;31m# If we're going to release the connection in ``finally:``, then\u001b[0m\u001b[0;34m\u001b[0m\u001b[0;34m\u001b[0m\u001b[0;34m\u001b[0m\u001b[0m\n",
      "\u001b[0;32m~/anaconda3/lib/python3.7/site-packages/urllib3/connectionpool.py\u001b[0m in \u001b[0;36m_make_request\u001b[0;34m(self, conn, method, url, timeout, chunked, **httplib_request_kw)\u001b[0m\n\u001b[1;32m    381\u001b[0m                 \u001b[0;31m# Python 3\u001b[0m\u001b[0;34m\u001b[0m\u001b[0;34m\u001b[0m\u001b[0;34m\u001b[0m\u001b[0m\n\u001b[1;32m    382\u001b[0m                 \u001b[0;32mtry\u001b[0m\u001b[0;34m:\u001b[0m\u001b[0;34m\u001b[0m\u001b[0;34m\u001b[0m\u001b[0m\n\u001b[0;32m--> 383\u001b[0;31m                     \u001b[0mhttplib_response\u001b[0m \u001b[0;34m=\u001b[0m \u001b[0mconn\u001b[0m\u001b[0;34m.\u001b[0m\u001b[0mgetresponse\u001b[0m\u001b[0;34m(\u001b[0m\u001b[0;34m)\u001b[0m\u001b[0;34m\u001b[0m\u001b[0;34m\u001b[0m\u001b[0m\n\u001b[0m\u001b[1;32m    384\u001b[0m                 \u001b[0;32mexcept\u001b[0m \u001b[0mException\u001b[0m \u001b[0;32mas\u001b[0m \u001b[0me\u001b[0m\u001b[0;34m:\u001b[0m\u001b[0;34m\u001b[0m\u001b[0;34m\u001b[0m\u001b[0m\n\u001b[1;32m    385\u001b[0m                     \u001b[0;31m# Remove the TypeError from the exception chain in Python 3;\u001b[0m\u001b[0;34m\u001b[0m\u001b[0;34m\u001b[0m\u001b[0;34m\u001b[0m\u001b[0m\n",
      "\u001b[0;32m~/anaconda3/lib/python3.7/http/client.py\u001b[0m in \u001b[0;36mgetresponse\u001b[0;34m(self)\u001b[0m\n\u001b[1;32m   1319\u001b[0m         \u001b[0;32mtry\u001b[0m\u001b[0;34m:\u001b[0m\u001b[0;34m\u001b[0m\u001b[0;34m\u001b[0m\u001b[0m\n\u001b[1;32m   1320\u001b[0m             \u001b[0;32mtry\u001b[0m\u001b[0;34m:\u001b[0m\u001b[0;34m\u001b[0m\u001b[0;34m\u001b[0m\u001b[0m\n\u001b[0;32m-> 1321\u001b[0;31m                 \u001b[0mresponse\u001b[0m\u001b[0;34m.\u001b[0m\u001b[0mbegin\u001b[0m\u001b[0;34m(\u001b[0m\u001b[0;34m)\u001b[0m\u001b[0;34m\u001b[0m\u001b[0;34m\u001b[0m\u001b[0m\n\u001b[0m\u001b[1;32m   1322\u001b[0m             \u001b[0;32mexcept\u001b[0m \u001b[0mConnectionError\u001b[0m\u001b[0;34m:\u001b[0m\u001b[0;34m\u001b[0m\u001b[0;34m\u001b[0m\u001b[0m\n\u001b[1;32m   1323\u001b[0m                 \u001b[0mself\u001b[0m\u001b[0;34m.\u001b[0m\u001b[0mclose\u001b[0m\u001b[0;34m(\u001b[0m\u001b[0;34m)\u001b[0m\u001b[0;34m\u001b[0m\u001b[0;34m\u001b[0m\u001b[0m\n",
      "\u001b[0;32m~/anaconda3/lib/python3.7/http/client.py\u001b[0m in \u001b[0;36mbegin\u001b[0;34m(self)\u001b[0m\n\u001b[1;32m    294\u001b[0m         \u001b[0;31m# read until we get a non-100 response\u001b[0m\u001b[0;34m\u001b[0m\u001b[0;34m\u001b[0m\u001b[0;34m\u001b[0m\u001b[0m\n\u001b[1;32m    295\u001b[0m         \u001b[0;32mwhile\u001b[0m \u001b[0;32mTrue\u001b[0m\u001b[0;34m:\u001b[0m\u001b[0;34m\u001b[0m\u001b[0;34m\u001b[0m\u001b[0m\n\u001b[0;32m--> 296\u001b[0;31m             \u001b[0mversion\u001b[0m\u001b[0;34m,\u001b[0m \u001b[0mstatus\u001b[0m\u001b[0;34m,\u001b[0m \u001b[0mreason\u001b[0m \u001b[0;34m=\u001b[0m \u001b[0mself\u001b[0m\u001b[0;34m.\u001b[0m\u001b[0m_read_status\u001b[0m\u001b[0;34m(\u001b[0m\u001b[0;34m)\u001b[0m\u001b[0;34m\u001b[0m\u001b[0;34m\u001b[0m\u001b[0m\n\u001b[0m\u001b[1;32m    297\u001b[0m             \u001b[0;32mif\u001b[0m \u001b[0mstatus\u001b[0m \u001b[0;34m!=\u001b[0m \u001b[0mCONTINUE\u001b[0m\u001b[0;34m:\u001b[0m\u001b[0;34m\u001b[0m\u001b[0;34m\u001b[0m\u001b[0m\n\u001b[1;32m    298\u001b[0m                 \u001b[0;32mbreak\u001b[0m\u001b[0;34m\u001b[0m\u001b[0;34m\u001b[0m\u001b[0m\n",
      "\u001b[0;32m~/anaconda3/lib/python3.7/http/client.py\u001b[0m in \u001b[0;36m_read_status\u001b[0;34m(self)\u001b[0m\n\u001b[1;32m    255\u001b[0m \u001b[0;34m\u001b[0m\u001b[0m\n\u001b[1;32m    256\u001b[0m     \u001b[0;32mdef\u001b[0m \u001b[0m_read_status\u001b[0m\u001b[0;34m(\u001b[0m\u001b[0mself\u001b[0m\u001b[0;34m)\u001b[0m\u001b[0;34m:\u001b[0m\u001b[0;34m\u001b[0m\u001b[0;34m\u001b[0m\u001b[0m\n\u001b[0;32m--> 257\u001b[0;31m         \u001b[0mline\u001b[0m \u001b[0;34m=\u001b[0m \u001b[0mstr\u001b[0m\u001b[0;34m(\u001b[0m\u001b[0mself\u001b[0m\u001b[0;34m.\u001b[0m\u001b[0mfp\u001b[0m\u001b[0;34m.\u001b[0m\u001b[0mreadline\u001b[0m\u001b[0;34m(\u001b[0m\u001b[0m_MAXLINE\u001b[0m \u001b[0;34m+\u001b[0m \u001b[0;36m1\u001b[0m\u001b[0;34m)\u001b[0m\u001b[0;34m,\u001b[0m \u001b[0;34m\"iso-8859-1\"\u001b[0m\u001b[0;34m)\u001b[0m\u001b[0;34m\u001b[0m\u001b[0;34m\u001b[0m\u001b[0m\n\u001b[0m\u001b[1;32m    258\u001b[0m         \u001b[0;32mif\u001b[0m \u001b[0mlen\u001b[0m\u001b[0;34m(\u001b[0m\u001b[0mline\u001b[0m\u001b[0;34m)\u001b[0m \u001b[0;34m>\u001b[0m \u001b[0m_MAXLINE\u001b[0m\u001b[0;34m:\u001b[0m\u001b[0;34m\u001b[0m\u001b[0;34m\u001b[0m\u001b[0m\n\u001b[1;32m    259\u001b[0m             \u001b[0;32mraise\u001b[0m \u001b[0mLineTooLong\u001b[0m\u001b[0;34m(\u001b[0m\u001b[0;34m\"status line\"\u001b[0m\u001b[0;34m)\u001b[0m\u001b[0;34m\u001b[0m\u001b[0;34m\u001b[0m\u001b[0m\n",
      "\u001b[0;32m~/anaconda3/lib/python3.7/socket.py\u001b[0m in \u001b[0;36mreadinto\u001b[0;34m(self, b)\u001b[0m\n\u001b[1;32m    587\u001b[0m         \u001b[0;32mwhile\u001b[0m \u001b[0;32mTrue\u001b[0m\u001b[0;34m:\u001b[0m\u001b[0;34m\u001b[0m\u001b[0;34m\u001b[0m\u001b[0m\n\u001b[1;32m    588\u001b[0m             \u001b[0;32mtry\u001b[0m\u001b[0;34m:\u001b[0m\u001b[0;34m\u001b[0m\u001b[0;34m\u001b[0m\u001b[0m\n\u001b[0;32m--> 589\u001b[0;31m                 \u001b[0;32mreturn\u001b[0m \u001b[0mself\u001b[0m\u001b[0;34m.\u001b[0m\u001b[0m_sock\u001b[0m\u001b[0;34m.\u001b[0m\u001b[0mrecv_into\u001b[0m\u001b[0;34m(\u001b[0m\u001b[0mb\u001b[0m\u001b[0;34m)\u001b[0m\u001b[0;34m\u001b[0m\u001b[0;34m\u001b[0m\u001b[0m\n\u001b[0m\u001b[1;32m    590\u001b[0m             \u001b[0;32mexcept\u001b[0m \u001b[0mtimeout\u001b[0m\u001b[0;34m:\u001b[0m\u001b[0;34m\u001b[0m\u001b[0;34m\u001b[0m\u001b[0m\n\u001b[1;32m    591\u001b[0m                 \u001b[0mself\u001b[0m\u001b[0;34m.\u001b[0m\u001b[0m_timeout_occurred\u001b[0m \u001b[0;34m=\u001b[0m \u001b[0;32mTrue\u001b[0m\u001b[0;34m\u001b[0m\u001b[0;34m\u001b[0m\u001b[0m\n",
      "\u001b[0;32m~/anaconda3/lib/python3.7/site-packages/urllib3/contrib/pyopenssl.py\u001b[0m in \u001b[0;36mrecv_into\u001b[0;34m(self, *args, **kwargs)\u001b[0m\n\u001b[1;32m    302\u001b[0m     \u001b[0;32mdef\u001b[0m \u001b[0mrecv_into\u001b[0m\u001b[0;34m(\u001b[0m\u001b[0mself\u001b[0m\u001b[0;34m,\u001b[0m \u001b[0;34m*\u001b[0m\u001b[0margs\u001b[0m\u001b[0;34m,\u001b[0m \u001b[0;34m**\u001b[0m\u001b[0mkwargs\u001b[0m\u001b[0;34m)\u001b[0m\u001b[0;34m:\u001b[0m\u001b[0;34m\u001b[0m\u001b[0;34m\u001b[0m\u001b[0m\n\u001b[1;32m    303\u001b[0m         \u001b[0;32mtry\u001b[0m\u001b[0;34m:\u001b[0m\u001b[0;34m\u001b[0m\u001b[0;34m\u001b[0m\u001b[0m\n\u001b[0;32m--> 304\u001b[0;31m             \u001b[0;32mreturn\u001b[0m \u001b[0mself\u001b[0m\u001b[0;34m.\u001b[0m\u001b[0mconnection\u001b[0m\u001b[0;34m.\u001b[0m\u001b[0mrecv_into\u001b[0m\u001b[0;34m(\u001b[0m\u001b[0;34m*\u001b[0m\u001b[0margs\u001b[0m\u001b[0;34m,\u001b[0m \u001b[0;34m**\u001b[0m\u001b[0mkwargs\u001b[0m\u001b[0;34m)\u001b[0m\u001b[0;34m\u001b[0m\u001b[0;34m\u001b[0m\u001b[0m\n\u001b[0m\u001b[1;32m    305\u001b[0m         \u001b[0;32mexcept\u001b[0m \u001b[0mOpenSSL\u001b[0m\u001b[0;34m.\u001b[0m\u001b[0mSSL\u001b[0m\u001b[0;34m.\u001b[0m\u001b[0mSysCallError\u001b[0m \u001b[0;32mas\u001b[0m \u001b[0me\u001b[0m\u001b[0;34m:\u001b[0m\u001b[0;34m\u001b[0m\u001b[0;34m\u001b[0m\u001b[0m\n\u001b[1;32m    306\u001b[0m             \u001b[0;32mif\u001b[0m \u001b[0mself\u001b[0m\u001b[0;34m.\u001b[0m\u001b[0msuppress_ragged_eofs\u001b[0m \u001b[0;32mand\u001b[0m \u001b[0me\u001b[0m\u001b[0;34m.\u001b[0m\u001b[0margs\u001b[0m \u001b[0;34m==\u001b[0m \u001b[0;34m(\u001b[0m\u001b[0;34m-\u001b[0m\u001b[0;36m1\u001b[0m\u001b[0;34m,\u001b[0m \u001b[0;34m'Unexpected EOF'\u001b[0m\u001b[0;34m)\u001b[0m\u001b[0;34m:\u001b[0m\u001b[0;34m\u001b[0m\u001b[0;34m\u001b[0m\u001b[0m\n",
      "\u001b[0;32m~/.local/lib/python3.7/site-packages/OpenSSL/SSL.py\u001b[0m in \u001b[0;36mrecv_into\u001b[0;34m(self, buffer, nbytes, flags)\u001b[0m\n\u001b[1;32m   1819\u001b[0m             \u001b[0mresult\u001b[0m \u001b[0;34m=\u001b[0m \u001b[0m_lib\u001b[0m\u001b[0;34m.\u001b[0m\u001b[0mSSL_peek\u001b[0m\u001b[0;34m(\u001b[0m\u001b[0mself\u001b[0m\u001b[0;34m.\u001b[0m\u001b[0m_ssl\u001b[0m\u001b[0;34m,\u001b[0m \u001b[0mbuf\u001b[0m\u001b[0;34m,\u001b[0m \u001b[0mnbytes\u001b[0m\u001b[0;34m)\u001b[0m\u001b[0;34m\u001b[0m\u001b[0;34m\u001b[0m\u001b[0m\n\u001b[1;32m   1820\u001b[0m         \u001b[0;32melse\u001b[0m\u001b[0;34m:\u001b[0m\u001b[0;34m\u001b[0m\u001b[0;34m\u001b[0m\u001b[0m\n\u001b[0;32m-> 1821\u001b[0;31m             \u001b[0mresult\u001b[0m \u001b[0;34m=\u001b[0m \u001b[0m_lib\u001b[0m\u001b[0;34m.\u001b[0m\u001b[0mSSL_read\u001b[0m\u001b[0;34m(\u001b[0m\u001b[0mself\u001b[0m\u001b[0;34m.\u001b[0m\u001b[0m_ssl\u001b[0m\u001b[0;34m,\u001b[0m \u001b[0mbuf\u001b[0m\u001b[0;34m,\u001b[0m \u001b[0mnbytes\u001b[0m\u001b[0;34m)\u001b[0m\u001b[0;34m\u001b[0m\u001b[0;34m\u001b[0m\u001b[0m\n\u001b[0m\u001b[1;32m   1822\u001b[0m         \u001b[0mself\u001b[0m\u001b[0;34m.\u001b[0m\u001b[0m_raise_ssl_error\u001b[0m\u001b[0;34m(\u001b[0m\u001b[0mself\u001b[0m\u001b[0;34m.\u001b[0m\u001b[0m_ssl\u001b[0m\u001b[0;34m,\u001b[0m \u001b[0mresult\u001b[0m\u001b[0;34m)\u001b[0m\u001b[0;34m\u001b[0m\u001b[0;34m\u001b[0m\u001b[0m\n\u001b[1;32m   1823\u001b[0m \u001b[0;34m\u001b[0m\u001b[0m\n",
      "\u001b[0;31mKeyboardInterrupt\u001b[0m: "
     ]
    }
   ],
   "source": [
    "historical.live_update()"
   ]
  },
  {
   "cell_type": "code",
   "execution_count": 9,
   "metadata": {},
   "outputs": [
    {
     "ename": "NameError",
     "evalue": "name 'df' is not defined",
     "output_type": "error",
     "traceback": [
      "\u001b[0;31m---------------------------------------------------------------------------\u001b[0m",
      "\u001b[0;31mNameError\u001b[0m                                 Traceback (most recent call last)",
      "\u001b[0;32m<ipython-input-9-26da4555e763>\u001b[0m in \u001b[0;36m<module>\u001b[0;34m\u001b[0m\n\u001b[0;32m----> 1\u001b[0;31m \u001b[0mhistorical\u001b[0m\u001b[0;34m.\u001b[0m\u001b[0mcheck_table\u001b[0m\u001b[0;34m(\u001b[0m\u001b[0mdf\u001b[0m\u001b[0;34m)\u001b[0m\u001b[0;34m\u001b[0m\u001b[0;34m\u001b[0m\u001b[0m\n\u001b[0m",
      "\u001b[0;31mNameError\u001b[0m: name 'df' is not defined"
     ]
    }
   ],
   "source": []
  },
  {
   "cell_type": "code",
   "execution_count": 20,
   "metadata": {},
   "outputs": [
    {
     "ename": "ValueError",
     "evalue": "The truth value of an array with more than one element is ambiguous. Use a.any() or a.all()",
     "output_type": "error",
     "traceback": [
      "\u001b[0;31m---------------------------------------------------------------------------\u001b[0m",
      "\u001b[0;31mValueError\u001b[0m                                Traceback (most recent call last)",
      "\u001b[0;32m<ipython-input-20-31750912c0b5>\u001b[0m in \u001b[0;36m<module>\u001b[0;34m\u001b[0m\n\u001b[1;32m      2\u001b[0m \u001b[0mdf\u001b[0m \u001b[0;34m=\u001b[0m \u001b[0msql\u001b[0m\u001b[0;34m.\u001b[0m\u001b[0mget_some_candles\u001b[0m\u001b[0;34m(\u001b[0m\u001b[0mn\u001b[0m\u001b[0;34m=\u001b[0m\u001b[0;36m1000000\u001b[0m\u001b[0;34m)\u001b[0m\u001b[0;34m\u001b[0m\u001b[0;34m\u001b[0m\u001b[0m\n\u001b[1;32m      3\u001b[0m \u001b[0mdf\u001b[0m\u001b[0;34m[\u001b[0m\u001b[0;34m'timestamp'\u001b[0m\u001b[0;34m]\u001b[0m \u001b[0;34m=\u001b[0m \u001b[0mpd\u001b[0m\u001b[0;34m.\u001b[0m\u001b[0mto_datetime\u001b[0m\u001b[0;34m(\u001b[0m\u001b[0mdf\u001b[0m\u001b[0;34m[\u001b[0m\u001b[0;34m'timestamp'\u001b[0m\u001b[0;34m]\u001b[0m\u001b[0;34m,\u001b[0m \u001b[0munit\u001b[0m\u001b[0;34m=\u001b[0m\u001b[0;34m's'\u001b[0m\u001b[0;34m,\u001b[0m \u001b[0minfer_datetime_format\u001b[0m\u001b[0;34m=\u001b[0m\u001b[0;32mTrue\u001b[0m\u001b[0;34m)\u001b[0m\u001b[0;34m\u001b[0m\u001b[0;34m\u001b[0m\u001b[0m\n\u001b[0;32m----> 4\u001b[0;31m \u001b[0mhistorical\u001b[0m\u001b[0;34m.\u001b[0m\u001b[0mcheck_table\u001b[0m\u001b[0;34m(\u001b[0m\u001b[0mdf\u001b[0m\u001b[0;34m)\u001b[0m\u001b[0;34m\u001b[0m\u001b[0;34m\u001b[0m\u001b[0m\n\u001b[0m\u001b[1;32m      5\u001b[0m \u001b[0mdf\u001b[0m\u001b[0;34m.\u001b[0m\u001b[0mhead\u001b[0m\u001b[0;34m(\u001b[0m\u001b[0;34m)\u001b[0m\u001b[0;34m\u001b[0m\u001b[0;34m\u001b[0m\u001b[0m\n",
      "\u001b[0;32m~/Documents/Git/Lambda-School-Labs/cryptolytic-ds/cryptolytic/data/historical.py\u001b[0m in \u001b[0;36mcheck_table\u001b[0;34m(df)\u001b[0m\n\u001b[1;32m    307\u001b[0m         \u001b[0;32mfor\u001b[0m \u001b[0mexchange\u001b[0m \u001b[0;32min\u001b[0m \u001b[0mdf_api\u001b[0m\u001b[0;34m[\u001b[0m\u001b[0;34m'exchange'\u001b[0m\u001b[0;34m]\u001b[0m\u001b[0;34m.\u001b[0m\u001b[0munique\u001b[0m\u001b[0;34m(\u001b[0m\u001b[0;34m)\u001b[0m\u001b[0;34m:\u001b[0m\u001b[0;34m\u001b[0m\u001b[0;34m\u001b[0m\u001b[0m\n\u001b[1;32m    308\u001b[0m             \u001b[0mdf_exchange\u001b[0m \u001b[0;34m=\u001b[0m \u001b[0mdf_api\u001b[0m\u001b[0;34m[\u001b[0m\u001b[0mdf_api\u001b[0m\u001b[0;34m[\u001b[0m\u001b[0;34m'exchange'\u001b[0m\u001b[0;34m]\u001b[0m\u001b[0;34m==\u001b[0m\u001b[0mexchange\u001b[0m\u001b[0;34m]\u001b[0m\u001b[0;34m\u001b[0m\u001b[0;34m\u001b[0m\u001b[0m\n\u001b[0;32m--> 309\u001b[0;31m             \u001b[0;32massert\u001b[0m \u001b[0mdf_exchange\u001b[0m\u001b[0;34m[\u001b[0m\u001b[0;34m'trading_pair'\u001b[0m\u001b[0;34m]\u001b[0m\u001b[0;34m.\u001b[0m\u001b[0munique\u001b[0m\u001b[0;34m(\u001b[0m\u001b[0;34m)\u001b[0m \u001b[0;34m==\u001b[0m \u001b[0mlen\u001b[0m\u001b[0;34m(\u001b[0m\u001b[0mapi_info\u001b[0m\u001b[0;34m[\u001b[0m\u001b[0mapi\u001b[0m\u001b[0;34m]\u001b[0m\u001b[0;34m[\u001b[0m\u001b[0;34m'exchanges'\u001b[0m\u001b[0;34m]\u001b[0m\u001b[0;34m[\u001b[0m\u001b[0mexchange\u001b[0m\u001b[0;34m]\u001b[0m\u001b[0;34m[\u001b[0m\u001b[0;34m'trading_pairs'\u001b[0m\u001b[0;34m]\u001b[0m\u001b[0;34m)\u001b[0m\u001b[0;34m\u001b[0m\u001b[0;34m\u001b[0m\u001b[0m\n\u001b[0m\u001b[1;32m    310\u001b[0m \u001b[0;34m\u001b[0m\u001b[0m\n\u001b[1;32m    311\u001b[0m \u001b[0;34m\u001b[0m\u001b[0m\n",
      "\u001b[0;31mValueError\u001b[0m: The truth value of an array with more than one element is ambiguous. Use a.any() or a.all()"
     ]
    }
   ],
   "source": [
    "import pandas as pd\n",
    "df = sql.get_some_candles(n=1000000)\n",
    "df['timestamp'] = pd.to_datetime(df['timestamp'], unit='s', infer_datetime_format=True)\n",
    "historical.check_table(df)\n",
    "df.head()"
   ]
  },
  {
   "cell_type": "code",
   "execution_count": 15,
   "metadata": {},
   "outputs": [
    {
     "data": {
      "text/plain": [
       "(3, dict_keys(['cryptowatch', 'coincap', 'hitbtc', 'bitfinex']))"
      ]
     },
     "execution_count": 15,
     "metadata": {},
     "output_type": "execute_result"
    }
   ],
   "source": [
    "import json\n",
    "api_info = None\n",
    "with open('data/api_info.json', 'r') as f:\n",
    "    api_info = json.load(f)\n",
    "assert len(api_info) > 1\n",
    "df['api'].nunique(), api_info.keys()"
   ]
  },
  {
   "cell_type": "code",
   "execution_count": 17,
   "metadata": {},
   "outputs": [
    {
     "data": {
      "text/plain": [
       "array(['bitfinex', 'hitbtc', 'coincap'], dtype=object)"
      ]
     },
     "execution_count": 17,
     "metadata": {},
     "output_type": "execute_result"
    }
   ],
   "source": [
    "df['api'].unique()"
   ]
  },
  {
   "cell_type": "code",
   "execution_count": null,
   "metadata": {},
   "outputs": [],
   "source": [
    "bitfinex = df[df['exchange'] == 'bitfinex']\n",
    "hitbtc = df[df['exchange'] == 'hitbtc']\n",
    "coincap = df[df['api'] == 'coincap']"
   ]
  },
  {
   "cell_type": "code",
   "execution_count": null,
   "metadata": {},
   "outputs": [],
   "source": [
    "df.api.unique()"
   ]
  },
  {
   "cell_type": "code",
   "execution_count": null,
   "metadata": {},
   "outputs": [],
   "source": [
    "df.describe()"
   ]
  },
  {
   "cell_type": "code",
   "execution_count": null,
   "metadata": {},
   "outputs": [],
   "source": [
    "bitfinex.describe()"
   ]
  },
  {
   "cell_type": "code",
   "execution_count": null,
   "metadata": {},
   "outputs": [],
   "source": [
    "hitbtc.describe()"
   ]
  },
  {
   "cell_type": "code",
   "execution_count": null,
   "metadata": {},
   "outputs": [],
   "source": [
    "coincap.describe()"
   ]
  },
  {
   "cell_type": "code",
   "execution_count": null,
   "metadata": {},
   "outputs": [],
   "source": [
    "len(bitfinex['timestamp'].unique())"
   ]
  },
  {
   "cell_type": "code",
   "execution_count": null,
   "metadata": {},
   "outputs": [],
   "source": [
    "import time"
   ]
  },
  {
   "cell_type": "code",
   "execution_count": null,
   "metadata": {},
   "outputs": [],
   "source": [
    "#df2 = df[(df['timestamp'] > '2019-05-16') & (df['timestamp'] < '2019-05-18')].set_index('timestamp').drop(['exchange', 'trading_pair', 'api'], axis=1)\n",
    "df2 = df.set_index('timestamp')"
   ]
  },
  {
   "cell_type": "code",
   "execution_count": null,
   "metadata": {},
   "outputs": [],
   "source": [
    "df2.head()"
   ]
  },
  {
   "cell_type": "code",
   "execution_count": null,
   "metadata": {},
   "outputs": [],
   "source": [
    "df2.head()"
   ]
  },
  {
   "cell_type": "code",
   "execution_count": null,
   "metadata": {},
   "outputs": [],
   "source": [
    "df2.tail()"
   ]
  },
  {
   "cell_type": "code",
   "execution_count": null,
   "metadata": {},
   "outputs": [],
   "source": [
    "sql."
   ]
  },
  {
   "cell_type": "code",
   "execution_count": null,
   "metadata": {},
   "outputs": [],
   "source": [
    "df2.index"
   ]
  },
  {
   "cell_type": "code",
   "execution_count": null,
   "metadata": {},
   "outputs": [],
   "source": [
    "# I'm guessing the reason there are large skips sometimes is because \n",
    "# the timestamps get desynced. Need to fix that. \n",
    "import plotly.graph_objects as go \n",
    "import plotly\n",
    "plotly.offline.init_notebook_mode()\n",
    "from cryptolytic.data import historical, sql\n",
    "fig = go.Figure(data=[go.Candlestick(\n",
    "                        x=df2.index,\n",
    "                        open=df2['open'],\n",
    "                        close=df2['close'],\n",
    "                        high=df2['high'],\n",
    "                        low=df2['low'])])\n",
    "fig.show()\n",
    "plotly.offline.iplot(fig)"
   ]
  },
  {
   "cell_type": "code",
   "execution_count": null,
   "metadata": {},
   "outputs": [],
   "source": []
  },
  {
   "cell_type": "code",
   "execution_count": null,
   "metadata": {},
   "outputs": [],
   "source": [
    "from itertools import repeat\n",
    "\"(\"+\",\".join(repeat(\"%s\", 10))+\")\""
   ]
  },
  {
   "cell_type": "code",
   "execution_count": null,
   "metadata": {},
   "outputs": [],
   "source": [
    "df"
   ]
  },
  {
   "cell_type": "code",
   "execution_count": null,
   "metadata": {},
   "outputs": [],
   "source": [
    "df.nunique()"
   ]
  },
  {
   "cell_type": "code",
   "execution_count": null,
   "metadata": {},
   "outputs": [],
   "source": [
    "sql.get_table_columns('candlesticks')"
   ]
  },
  {
   "cell_type": "code",
   "execution_count": null,
   "metadata": {},
   "outputs": [],
   "source": [
    "# sql.create_candle_table()"
   ]
  },
  {
   "cell_type": "code",
   "execution_count": null,
   "metadata": {},
   "outputs": [],
   "source": [
    "# historical.live_update()"
   ]
  },
  {
   "cell_type": "code",
   "execution_count": 6,
   "metadata": {},
   "outputs": [],
   "source": [
    "sql.drop_candle_table()"
   ]
  },
  {
   "cell_type": "code",
   "execution_count": 7,
   "metadata": {},
   "outputs": [],
   "source": [
    "sql.create_candle_table()"
   ]
  },
  {
   "cell_type": "code",
   "execution_count": null,
   "metadata": {},
   "outputs": [],
   "source": []
  }
 ],
 "metadata": {
  "kernelspec": {
   "display_name": "Python 3",
   "language": "python",
   "name": "python3"
  },
  "language_info": {
   "codemirror_mode": {
    "name": "ipython",
    "version": 3
   },
   "file_extension": ".py",
   "mimetype": "text/x-python",
   "name": "python",
   "nbconvert_exporter": "python",
   "pygments_lexer": "ipython3",
   "version": "3.7.3"
  }
 },
 "nbformat": 4,
 "nbformat_minor": 4
}
