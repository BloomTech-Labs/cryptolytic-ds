{
 "cells": [
  {
   "cell_type": "code",
   "execution_count": 3,
   "metadata": {},
   "outputs": [
    {
     "name": "stdout",
     "output_type": "stream",
     "text": "The autoreload extension is already loaded. To reload it, use:\n  %reload_ext autoreload\n/home/me/Documents/Git/Lambda-School-Labs/cryptolytic-ds\n"
    },
    {
     "data": {
      "text/plain": "'/home/me/Documents/Git/Lambda-School-Labs/cryptolytic-ds'"
     },
     "execution_count": 3,
     "metadata": {},
     "output_type": "execute_result"
    }
   ],
   "source": [
    "%load_ext autoreload\n",
    "%autoreload 2\n",
    "#%cd ../..\n",
    "# temporary\n",
    "%cd cryptolytic-ds\n",
    "%pwd"
   ]
  },
  {
   "cell_type": "code",
   "execution_count": 10,
   "metadata": {},
   "outputs": [],
   "source": [
    "from cryptolytic.data import historical, sql"
   ]
  },
  {
   "cell_type": "code",
   "execution_count": 13,
   "metadata": {},
   "outputs": [],
   "source": [
    "from cryptolytic import start\n",
    "start.init()"
   ]
  },
  {
   "cell_type": "code",
   "execution_count": 27,
   "metadata": {},
   "outputs": [
    {
     "data": {
      "text/html": "<div>\n<style scoped>\n    .dataframe tbody tr th:only-of-type {\n        vertical-align: middle;\n    }\n\n    .dataframe tbody tr th {\n        vertical-align: top;\n    }\n\n    .dataframe thead th {\n        text-align: right;\n    }\n</style>\n<table border=\"1\" class=\"dataframe\">\n  <thead>\n    <tr style=\"text-align: right;\">\n      <th></th>\n      <th>0</th>\n      <th>1</th>\n      <th>2</th>\n      <th>3</th>\n      <th>4</th>\n      <th>5</th>\n      <th>6</th>\n      <th>7</th>\n      <th>8</th>\n    </tr>\n  </thead>\n  <tbody>\n    <tr>\n      <th>0</th>\n      <td>coincap</td>\n      <td>binance</td>\n      <td>eth_btc</td>\n      <td>1546301100</td>\n      <td>0.0355340000000000</td>\n      <td>0.0355130000000000</td>\n      <td>0.0355580000000000</td>\n      <td>0.0355100000000000</td>\n      <td>388.9410000000000000</td>\n    </tr>\n    <tr>\n      <th>1</th>\n      <td>coincap</td>\n      <td>binance</td>\n      <td>eth_btc</td>\n      <td>1546301400</td>\n      <td>0.0355210000000000</td>\n      <td>0.0354880000000000</td>\n      <td>0.0355210000000000</td>\n      <td>0.0354770000000000</td>\n      <td>73.7260000000000000</td>\n    </tr>\n    <tr>\n      <th>2</th>\n      <td>coincap</td>\n      <td>binance</td>\n      <td>eth_btc</td>\n      <td>1546301700</td>\n      <td>0.0354980000000000</td>\n      <td>0.0354950000000000</td>\n      <td>0.0355040000000000</td>\n      <td>0.0354710000000000</td>\n      <td>55.9490000000000000</td>\n    </tr>\n    <tr>\n      <th>3</th>\n      <td>coincap</td>\n      <td>binance</td>\n      <td>eth_btc</td>\n      <td>1546302000</td>\n      <td>0.0354950000000000</td>\n      <td>0.0354950000000000</td>\n      <td>0.0355430000000000</td>\n      <td>0.0354720000000000</td>\n      <td>54.7770000000000000</td>\n    </tr>\n    <tr>\n      <th>4</th>\n      <td>coincap</td>\n      <td>binance</td>\n      <td>eth_btc</td>\n      <td>1546302300</td>\n      <td>0.0355060000000000</td>\n      <td>0.0354960000000000</td>\n      <td>0.0355390000000000</td>\n      <td>0.0354710000000000</td>\n      <td>63.1620000000000000</td>\n    </tr>\n  </tbody>\n</table>\n</div>",
      "text/plain": "         0        1        2           3                   4  \\\n0  coincap  binance  eth_btc  1546301100  0.0355340000000000   \n1  coincap  binance  eth_btc  1546301400  0.0355210000000000   \n2  coincap  binance  eth_btc  1546301700  0.0354980000000000   \n3  coincap  binance  eth_btc  1546302000  0.0354950000000000   \n4  coincap  binance  eth_btc  1546302300  0.0355060000000000   \n\n                    5                   6                   7  \\\n0  0.0355130000000000  0.0355580000000000  0.0355100000000000   \n1  0.0354880000000000  0.0355210000000000  0.0354770000000000   \n2  0.0354950000000000  0.0355040000000000  0.0354710000000000   \n3  0.0354950000000000  0.0355430000000000  0.0354720000000000   \n4  0.0354960000000000  0.0355390000000000  0.0354710000000000   \n\n                      8  \n0  388.9410000000000000  \n1   73.7260000000000000  \n2   55.9490000000000000  \n3   54.7770000000000000  \n4   63.1620000000000000  "
     },
     "execution_count": 27,
     "metadata": {},
     "output_type": "execute_result"
    }
   ],
   "source": [
    "import pandas as pd\n",
    "df = pd.DataFrame(sql.get_some_candles(n=1000), columns=sql.)\n",
    "df.head()"
   ]
  },
  {
   "cell_type": "code",
   "execution_count": 29,
   "metadata": {},
   "outputs": [
    {
     "ename": "AttributeError",
     "evalue": "module 'cryptolytic.data.sql' has no attribute 'get_table_column_names'",
     "output_type": "error",
     "traceback": [
      "\u001b[0;31m---------------------------------------------------------------------------\u001b[0m",
      "\u001b[0;31mAttributeError\u001b[0m                            Traceback (most recent call last)",
      "\u001b[0;32m<ipython-input-29-61b51d500ca5>\u001b[0m in \u001b[0;36m<module>\u001b[0;34m\u001b[0m\n\u001b[0;32m----> 1\u001b[0;31m \u001b[0msql\u001b[0m\u001b[0;34m.\u001b[0m\u001b[0mget_table_column_names\u001b[0m\u001b[0;34m(\u001b[0m\u001b[0;34m)\u001b[0m\u001b[0;34m\u001b[0m\u001b[0;34m\u001b[0m\u001b[0m\n\u001b[0m",
      "\u001b[0;31mAttributeError\u001b[0m: module 'cryptolytic.data.sql' has no attribute 'get_table_column_names'"
     ]
    }
   ],
   "source": [
    "sql.get_table_column()"
   ]
  },
  {
   "cell_type": "code",
   "execution_count": 14,
   "metadata": {},
   "outputs": [],
   "source": [
    "# sql.create_candle_table()"
   ]
  },
  {
   "cell_type": "code",
   "execution_count": 15,
   "metadata": {},
   "outputs": [
    {
     "name": "stdout",
     "output_type": "stream",
     "text": [
      "[('public', 'candlesticks', 'postgres', None, False, False, False, False)]\n"
     ]
    }
   ],
   "source": [
    "sql.check_tables()"
   ]
  },
  {
   "cell_type": "code",
   "execution_count": 16,
   "metadata": {},
   "outputs": [
    {
     "data": {
      "text/plain": [
       "[('api', 'text', None),\n",
       " ('exchange', 'text', None),\n",
       " ('trading_pair', 'text', None),\n",
       " ('timestamp', 'bigint', None),\n",
       " ('open', 'numeric', None),\n",
       " ('close', 'numeric', None),\n",
       " ('high', 'numeric', None),\n",
       " ('low', 'numeric', None),\n",
       " ('volume', 'numeric', None)]"
      ]
     },
     "execution_count": 16,
     "metadata": {},
     "output_type": "execute_result"
    }
   ],
   "source": [
    "sql.get_table_schema('candlesticks')"
   ]
  },
  {
   "cell_type": "code",
   "execution_count": 23,
   "metadata": {},
   "outputs": [
    {
     "name": "stdout",
     "output_type": "stream",
     "text": "http://api.coincap.io/v2/candles?exchange=binance&interval=m1&baseId=ethereum&quoteId=bitcoin&start=1552441200000&end=1552471200000\n2019-03-14 14:20:00\nhttp://api.coincap.io/v2/candles?exchange=binance&interval=m1&baseId=ethereum&quoteId=bitcoin&start=1552591200000&end=1552621200000\n2019-03-16 08:00:00\nhttp://api.coincap.io/v2/candles?exchange=binance&interval=m1&baseId=ethereum&quoteId=bitcoin&start=1552741200000&end=1552771200000\n2019-03-18 01:40:00\nhttp://api.coincap.io/v2/candles?exchange=binance&interval=m1&baseId=ethereum&quoteId=bitcoin&start=1552891200000&end=1552921200000\n2019-03-19 19:20:00\nhttp://api.coincap.io/v2/candles?exchange=binance&interval=m1&baseId=ethereum&quoteId=bitcoin&start=1553041200000&end=1553071200000\n2019-03-21 13:00:00\nhttp://api.coincap.io/v2/candles?exchange=binance&interval=m1&baseId=ethereum&quoteId=bitcoin&start=1553191200000&end=1553221200000\n2019-03-23 06:40:00\nhttp://api.coincap.io/v2/candles?exchange=binance&interval=m1&baseId=ethereum&quoteId=bitcoin&start=1553341200000&end=1553371200000\n2019-03-25 00:20:00\nhttp://api.coincap.io/v2/candles?exchange=binance&interval=m1&baseId=ethereum&quoteId=bitcoin&start=1553491200000&end=1553521200000\n2019-03-26 18:00:00\nhttp://api.coincap.io/v2/candles?exchange=binance&interval=m1&baseId=ethereum&quoteId=bitcoin&start=1553641200000&end=1553671200000\n2019-03-28 11:40:00\nhttp://api.coincap.io/v2/candles?exchange=binance&interval=m1&baseId=ethereum&quoteId=bitcoin&start=1553791200000&end=1553821200000\n2019-03-30 05:20:00\nhttp://api.coincap.io/v2/candles?exchange=binance&interval=m1&baseId=ethereum&quoteId=bitcoin&start=1553941200000&end=1553971200000\n2019-03-31 23:00:00\nhttp://api.coincap.io/v2/candles?exchange=binance&interval=m1&baseId=ethereum&quoteId=bitcoin&start=1554091200000&end=1554121200000\n2019-04-02 16:40:00\nhttp://api.coincap.io/v2/candles?exchange=binance&interval=m1&baseId=ethereum&quoteId=bitcoin&start=1554241200000&end=1554271200000\n2019-04-04 10:20:00\nhttp://api.coincap.io/v2/candles?exchange=binance&interval=m1&baseId=ethereum&quoteId=bitcoin&start=1554391200000&end=1554421200000\n2019-04-06 04:00:00\nhttp://api.coincap.io/v2/candles?exchange=binance&interval=m1&baseId=ethereum&quoteId=bitcoin&start=1554541200000&end=1554571200000\n2019-04-07 21:15:00\nhttp://api.coincap.io/v2/candles?exchange=binance&interval=m1&baseId=ethereum&quoteId=bitcoin&start=1554689700000&end=1554719700000\n2019-04-09 14:55:00\nhttp://api.coincap.io/v2/candles?exchange=binance&interval=m1&baseId=ethereum&quoteId=bitcoin&start=1554839700000&end=1554869700000\n2019-04-11 08:35:00\nhttp://api.coincap.io/v2/candles?exchange=binance&interval=m1&baseId=ethereum&quoteId=bitcoin&start=1554989700000&end=1555019700000\n2019-04-13 02:15:00\nhttp://api.coincap.io/v2/candles?exchange=binance&interval=m1&baseId=ethereum&quoteId=bitcoin&start=1555139700000&end=1555169700000\n2019-04-14 19:55:00\nhttp://api.coincap.io/v2/candles?exchange=binance&interval=m1&baseId=ethereum&quoteId=bitcoin&start=1555289700000&end=1555319700000\n2019-04-16 13:35:00\nhttp://api.coincap.io/v2/candles?exchange=binance&interval=m1&baseId=ethereum&quoteId=bitcoin&start=1555439700000&end=1555469700000\n2019-04-18 07:15:00\nhttp://api.coincap.io/v2/candles?exchange=binance&interval=m1&baseId=ethereum&quoteId=bitcoin&start=1555589700000&end=1555619700000\n2019-04-20 00:55:00\nhttp://api.coincap.io/v2/candles?exchange=binance&interval=m1&baseId=ethereum&quoteId=bitcoin&start=1555739700000&end=1555769700000\n2019-04-21 18:35:00\nhttp://api.coincap.io/v2/candles?exchange=binance&interval=m1&baseId=ethereum&quoteId=bitcoin&start=1555889700000&end=1555919700000\n2019-04-23 12:15:00\nhttp://api.coincap.io/v2/candles?exchange=binance&interval=m1&baseId=ethereum&quoteId=bitcoin&start=1556039700000&end=1556069700000\n2019-04-25 05:55:00\nhttp://api.coincap.io/v2/candles?exchange=binance&interval=m1&baseId=ethereum&quoteId=bitcoin&start=1556189700000&end=1556219700000\n2019-04-26 23:35:00\nhttp://api.coincap.io/v2/candles?exchange=binance&interval=m1&baseId=ethereum&quoteId=bitcoin&start=1556339700000&end=1556369700000\n2019-04-28 17:15:00\nhttp://api.coincap.io/v2/candles?exchange=binance&interval=m1&baseId=ethereum&quoteId=bitcoin&start=1556489700000&end=1556519700000\n2019-04-30 10:55:00\nhttp://api.coincap.io/v2/candles?exchange=binance&interval=m1&baseId=ethereum&quoteId=bitcoin&start=1556639700000&end=1556669700000\n2019-05-02 04:35:00\nhttp://api.coincap.io/v2/candles?exchange=binance&interval=m1&baseId=ethereum&quoteId=bitcoin&start=1556789700000&end=1556819700000\n2019-05-03 22:15:00\nhttp://api.coincap.io/v2/candles?exchange=binance&interval=m1&baseId=ethereum&quoteId=bitcoin&start=1556939700000&end=1556969700000\n2019-05-05 15:55:00\nhttp://api.coincap.io/v2/candles?exchange=binance&interval=m1&baseId=ethereum&quoteId=bitcoin&start=1557089700000&end=1557119700000\n2019-05-07 09:35:00\nhttp://api.coincap.io/v2/candles?exchange=binance&interval=m1&baseId=ethereum&quoteId=bitcoin&start=1557239700000&end=1557269700000\n2019-05-09 03:15:00\nhttp://api.coincap.io/v2/candles?exchange=binance&interval=m1&baseId=ethereum&quoteId=bitcoin&start=1557389700000&end=1557419700000\n2019-05-10 20:55:00\nhttp://api.coincap.io/v2/candles?exchange=binance&interval=m1&baseId=ethereum&quoteId=bitcoin&start=1557539700000&end=1557569700000\n2019-05-12 14:35:00\nhttp://api.coincap.io/v2/candles?exchange=binance&interval=m1&baseId=ethereum&quoteId=bitcoin&start=1557689700000&end=1557719700000\n2019-05-14 08:15:00\nhttp://api.coincap.io/v2/candles?exchange=binance&interval=m1&baseId=ethereum&quoteId=bitcoin&start=1557839700000&end=1557869700000\n2019-05-16 01:55:00\nhttp://api.coincap.io/v2/candles?exchange=binance&interval=m1&baseId=ethereum&quoteId=bitcoin&start=1557989700000&end=1558019700000\n2019-05-17 19:30:00\nhttp://api.coincap.io/v2/candles?exchange=binance&interval=m1&baseId=ethereum&quoteId=bitcoin&start=1558139400000&end=1558169400000\n2019-05-19 13:10:00\nhttp://api.coincap.io/v2/candles?exchange=binance&interval=m1&baseId=ethereum&quoteId=bitcoin&start=1558289400000&end=1558319400000\n2019-05-21 06:50:00\nhttp://api.coincap.io/v2/candles?exchange=binance&interval=m1&baseId=ethereum&quoteId=bitcoin&start=1558439400000&end=1558469400000\n2019-05-23 00:30:00\nhttp://api.coincap.io/v2/candles?exchange=binance&interval=m1&baseId=ethereum&quoteId=bitcoin&start=1558589400000&end=1558619400000\n2019-05-24 18:10:00\nhttp://api.coincap.io/v2/candles?exchange=binance&interval=m1&baseId=ethereum&quoteId=bitcoin&start=1558739400000&end=1558769400000\n2019-05-26 11:50:00\nhttp://api.coincap.io/v2/candles?exchange=binance&interval=m1&baseId=ethereum&quoteId=bitcoin&start=1558889400000&end=1558919400000\n2019-05-28 05:30:00\nhttp://api.coincap.io/v2/candles?exchange=binance&interval=m1&baseId=ethereum&quoteId=bitcoin&start=1559039400000&end=1559069400000\n2019-05-29 23:10:00\nhttp://api.coincap.io/v2/candles?exchange=binance&interval=m1&baseId=ethereum&quoteId=bitcoin&start=1559189400000&end=1559219400000\n2019-05-31 16:50:00\nhttp://api.coincap.io/v2/candles?exchange=binance&interval=m1&baseId=ethereum&quoteId=bitcoin&start=1559339400000&end=1559369400000\n2019-06-02 10:30:00\nhttp://api.coincap.io/v2/candles?exchange=binance&interval=m1&baseId=ethereum&quoteId=bitcoin&start=1559489400000&end=1559519400000\n2019-06-04 04:10:00\nhttp://api.coincap.io/v2/candles?exchange=binance&interval=m1&baseId=ethereum&quoteId=bitcoin&start=1559639400000&end=1559669400000\n2019-06-05 21:50:00\nhttp://api.coincap.io/v2/candles?exchange=binance&interval=m1&baseId=ethereum&quoteId=bitcoin&start=1559789400000&end=1559819400000\n2019-06-07 15:30:00\nhttp://api.coincap.io/v2/candles?exchange=binance&interval=m1&baseId=ethereum&quoteId=bitcoin&start=1559939400000&end=1559969400000\n2019-06-08 23:55:00\nhttp://api.coincap.io/v2/candles?exchange=binance&interval=m1&baseId=ethereum&quoteId=bitcoin&start=1560056100000&end=1560086100000\n2019-06-10 17:35:00\nhttp://api.coincap.io/v2/candles?exchange=binance&interval=m1&baseId=ethereum&quoteId=bitcoin&start=1560206100000&end=1560236100000\n2019-06-12 11:15:00\nhttp://api.coincap.io/v2/candles?exchange=binance&interval=m1&baseId=ethereum&quoteId=bitcoin&start=1560356100000&end=1560386100000\n2019-06-14 04:55:00\nhttp://api.coincap.io/v2/candles?exchange=binance&interval=m1&baseId=ethereum&quoteId=bitcoin&start=1560506100000&end=1560536100000\n2019-06-15 22:35:00\nhttp://api.coincap.io/v2/candles?exchange=binance&interval=m1&baseId=ethereum&quoteId=bitcoin&start=1560656100000&end=1560686100000\n2019-06-17 16:15:00\nhttp://api.coincap.io/v2/candles?exchange=binance&interval=m1&baseId=ethereum&quoteId=bitcoin&start=1560806100000&end=1560836100000\n2019-06-19 09:55:00\nhttp://api.coincap.io/v2/candles?exchange=binance&interval=m1&baseId=ethereum&quoteId=bitcoin&start=1560956100000&end=1560986100000\n2019-06-21 03:35:00\nhttp://api.coincap.io/v2/candles?exchange=binance&interval=m1&baseId=ethereum&quoteId=bitcoin&start=1561106100000&end=1561136100000\n2019-06-22 21:15:00\nhttp://api.coincap.io/v2/candles?exchange=binance&interval=m1&baseId=ethereum&quoteId=bitcoin&start=1561256100000&end=1561286100000\n2019-06-24 14:55:00\nhttp://api.coincap.io/v2/candles?exchange=binance&interval=m1&baseId=ethereum&quoteId=bitcoin&start=1561406100000&end=1561436100000\n2019-06-26 08:35:00\nhttp://api.coincap.io/v2/candles?exchange=binance&interval=m1&baseId=ethereum&quoteId=bitcoin&start=1561556100000&end=1561586100000\n2019-06-28 01:00:00\nhttp://api.coincap.io/v2/candles?exchange=binance&interval=m1&baseId=ethereum&quoteId=bitcoin&start=1561701600000&end=1561731600000\n2019-06-29 18:40:00\nhttp://api.coincap.io/v2/candles?exchange=binance&interval=m1&baseId=ethereum&quoteId=bitcoin&start=1561851600000&end=1561881600000\n2019-07-01 12:20:00\nhttp://api.coincap.io/v2/candles?exchange=binance&interval=m1&baseId=ethereum&quoteId=bitcoin&start=1562001600000&end=1562031600000\n2019-07-03 06:00:00\nhttp://api.coincap.io/v2/candles?exchange=binance&interval=m1&baseId=ethereum&quoteId=bitcoin&start=1562151600000&end=1562181600000\n2019-07-04 23:40:00\nhttp://api.coincap.io/v2/candles?exchange=binance&interval=m1&baseId=ethereum&quoteId=bitcoin&start=1562301600000&end=1562331600000\n2019-07-06 17:20:00\nhttp://api.coincap.io/v2/candles?exchange=binance&interval=m1&baseId=ethereum&quoteId=bitcoin&start=1562451600000&end=1562481600000\n2019-07-08 11:00:00\nhttp://api.coincap.io/v2/candles?exchange=binance&interval=m1&baseId=ethereum&quoteId=bitcoin&start=1562601600000&end=1562631600000\n2019-07-10 04:40:00\nhttp://api.coincap.io/v2/candles?exchange=binance&interval=m1&baseId=ethereum&quoteId=bitcoin&start=1562751600000&end=1562781600000\n2019-07-11 22:20:00\nhttp://api.coincap.io/v2/candles?exchange=binance&interval=m1&baseId=ethereum&quoteId=bitcoin&start=1562901600000&end=1562931600000\n2019-07-13 16:00:00\nhttp://api.coincap.io/v2/candles?exchange=binance&interval=m1&baseId=ethereum&quoteId=bitcoin&start=1563051600000&end=1563081600000\n2019-07-15 09:40:00\nhttp://api.coincap.io/v2/candles?exchange=binance&interval=m1&baseId=ethereum&quoteId=bitcoin&start=1563201600000&end=1563231600000\n2019-07-17 03:20:00\nhttp://api.coincap.io/v2/candles?exchange=binance&interval=m1&baseId=ethereum&quoteId=bitcoin&start=1563351600000&end=1563381600000\n2019-07-18 21:00:00\nhttp://api.coincap.io/v2/candles?exchange=binance&interval=m1&baseId=ethereum&quoteId=bitcoin&start=1563501600000&end=1563531600000\n2019-07-20 14:40:00\nhttp://api.coincap.io/v2/candles?exchange=binance&interval=m1&baseId=ethereum&quoteId=bitcoin&start=1563651600000&end=1563681600000\n2019-07-22 08:20:00\nhttp://api.coincap.io/v2/candles?exchange=binance&interval=m1&baseId=ethereum&quoteId=bitcoin&start=1563801600000&end=1563831600000\n2019-07-24 02:00:00\nhttp://api.coincap.io/v2/candles?exchange=binance&interval=m1&baseId=ethereum&quoteId=bitcoin&start=1563951600000&end=1563981600000\n2019-07-25 19:40:00\nhttp://api.coincap.io/v2/candles?exchange=binance&interval=m1&baseId=ethereum&quoteId=bitcoin&start=1564101600000&end=1564131600000\n2019-07-27 13:20:00\nhttp://api.coincap.io/v2/candles?exchange=binance&interval=m1&baseId=ethereum&quoteId=bitcoin&start=1564251600000&end=1564281600000\n2019-07-29 07:00:00\nhttp://api.coincap.io/v2/candles?exchange=binance&interval=m1&baseId=ethereum&quoteId=bitcoin&start=1564401600000&end=1564431600000\n2019-07-31 00:40:00\nhttp://api.coincap.io/v2/candles?exchange=binance&interval=m1&baseId=ethereum&quoteId=bitcoin&start=1564551600000&end=1564581600000\n2019-08-01 18:20:00\nhttp://api.coincap.io/v2/candles?exchange=binance&interval=m1&baseId=ethereum&quoteId=bitcoin&start=1564701600000&end=1564731600000\n2019-08-03 12:00:00\nhttp://api.coincap.io/v2/candles?exchange=binance&interval=m1&baseId=ethereum&quoteId=bitcoin&start=1564851600000&end=1564881600000\n2019-08-05 05:40:00\nhttp://api.coincap.io/v2/candles?exchange=binance&interval=m1&baseId=ethereum&quoteId=bitcoin&start=1565001600000&end=1565031600000\n2019-08-06 23:20:00\nhttp://api.coincap.io/v2/candles?exchange=binance&interval=m1&baseId=ethereum&quoteId=bitcoin&start=1565151600000&end=1565181600000\n2019-08-08 17:00:00\nhttp://api.coincap.io/v2/candles?exchange=binance&interval=m1&baseId=ethereum&quoteId=bitcoin&start=1565301600000&end=1565331600000\n2019-08-09 20:45:00\nhttp://api.coincap.io/v2/candles?exchange=binance&interval=m1&baseId=ethereum&quoteId=bitcoin&start=1565401500000&end=1565431500000\n"
    },
    {
     "ename": "AssertionError",
     "evalue": "",
     "output_type": "error",
     "traceback": [
      "\u001b[0;31m---------------------------------------------------------------------------\u001b[0m",
      "\u001b[0;31mAssertionError\u001b[0m                            Traceback (most recent call last)",
      "\u001b[0;32m<ipython-input-23-8470d14c8e83>\u001b[0m in \u001b[0;36m<module>\u001b[0;34m\u001b[0m\n\u001b[0;32m----> 1\u001b[0;31m \u001b[0mhistorical\u001b[0m\u001b[0;34m.\u001b[0m\u001b[0mlive_update\u001b[0m\u001b[0;34m(\u001b[0m\u001b[0;34m)\u001b[0m\u001b[0;34m\u001b[0m\u001b[0;34m\u001b[0m\u001b[0m\n\u001b[0m",
      "\u001b[0;32m~/Documents/Git/Lambda-School-Labs/cryptolytic-ds/cryptolytic/data/historical.py\u001b[0m in \u001b[0;36mlive_update\u001b[0;34m()\u001b[0m\n\u001b[1;32m    263\u001b[0m                                         \u001b[0mtrading_pair\u001b[0m\u001b[0;34m=\u001b[0m\u001b[0mtrading_pair\u001b[0m\u001b[0;34m,\u001b[0m\u001b[0;34m\u001b[0m\u001b[0;34m\u001b[0m\u001b[0m\n\u001b[1;32m    264\u001b[0m                                         \u001b[0mperiod\u001b[0m\u001b[0;34m=\u001b[0m\u001b[0;36m300\u001b[0m\u001b[0;34m,\u001b[0m\u001b[0;34m\u001b[0m\u001b[0;34m\u001b[0m\u001b[0m\n\u001b[0;32m--> 265\u001b[0;31m                                         interval=[start, end]):\n\u001b[0m\u001b[1;32m    266\u001b[0m \u001b[0;34m\u001b[0m\u001b[0m\n\u001b[1;32m    267\u001b[0m                     \u001b[0;31m# Log the timestamp\u001b[0m\u001b[0;34m\u001b[0m\u001b[0;34m\u001b[0m\u001b[0;34m\u001b[0m\u001b[0m\n",
      "\u001b[0;32m~/Documents/Git/Lambda-School-Labs/cryptolytic-ds/cryptolytic/data/historical.py\u001b[0m in \u001b[0;36mget_from_api\u001b[0;34m(api, exchange, trading_pair, period, interval, apikey)\u001b[0m\n\u001b[1;32m    220\u001b[0m         \u001b[0mcandlestick_info\u001b[0m \u001b[0;34m=\u001b[0m \u001b[0mconform_json_response\u001b[0m\u001b[0;34m(\u001b[0m\u001b[0mapi\u001b[0m\u001b[0;34m,\u001b[0m \u001b[0mjson_response\u001b[0m\u001b[0;34m)\u001b[0m\u001b[0;34m\u001b[0m\u001b[0;34m\u001b[0m\u001b[0m\n\u001b[1;32m    221\u001b[0m \u001b[0;34m\u001b[0m\u001b[0m\n\u001b[0;32m--> 222\u001b[0;31m         \u001b[0;32massert\u001b[0m \u001b[0mlen\u001b[0m\u001b[0;34m(\u001b[0m\u001b[0mcandlestick_info\u001b[0m\u001b[0;34m)\u001b[0m \u001b[0;34m>\u001b[0m \u001b[0;36m0\u001b[0m\u001b[0;34m\u001b[0m\u001b[0;34m\u001b[0m\u001b[0m\n\u001b[0m\u001b[1;32m    223\u001b[0m         \u001b[0;31m# Add to candles list.\u001b[0m\u001b[0;34m\u001b[0m\u001b[0;34m\u001b[0m\u001b[0;34m\u001b[0m\u001b[0m\n\u001b[1;32m    224\u001b[0m         \u001b[0;32mfor\u001b[0m \u001b[0mi\u001b[0m\u001b[0;34m,\u001b[0m \u001b[0mcandle\u001b[0m \u001b[0;32min\u001b[0m \u001b[0menumerate\u001b[0m\u001b[0;34m(\u001b[0m\u001b[0mcandlestick_info\u001b[0m\u001b[0;34m)\u001b[0m\u001b[0;34m:\u001b[0m\u001b[0;34m\u001b[0m\u001b[0;34m\u001b[0m\u001b[0m\n",
      "\u001b[0;31mAssertionError\u001b[0m: "
     ]
    }
   ],
   "source": [
    "historical.live_update()"
   ]
  },
  {
   "cell_type": "code",
   "execution_count": null,
   "metadata": {},
   "outputs": [],
   "source": [
    "dir(sql)\n",
    "\n",
    "def execute_mogrify_method(cursor, data):\n",
    "    \"\"\"\n",
    "    Builds a string from our data-set using the mogrify method which is then called once using the execute method\n",
    "    \"\"\"\n",
    "    args_str = ','.join(cursor.mogrify(\"(%s, %s)\", row) for row in data)\n",
    "    cursor.execute(\"INSERT INTO {table} VALUES\".format(table=TABLE_NAME) + args_str)"
   ]
  },
  {
   "cell_type": "code",
   "execution_count": null,
   "metadata": {},
   "outputs": [],
   "source": [
    "# sql.create_candle_table()"
   ]
  },
  {
   "cell_type": "code",
   "execution_count": null,
   "metadata": {},
   "outputs": [],
   "source": []
  }
 ],
 "metadata": {
  "kernelspec": {
   "display_name": "Python 3",
   "language": "python",
   "name": "python3"
  },
  "language_info": {
   "codemirror_mode": {
    "name": "ipython",
    "version": 3
   },
   "file_extension": ".py",
   "mimetype": "text/x-python",
   "name": "python",
   "nbconvert_exporter": "python",
   "pygments_lexer": "ipython3",
   "version": "3.7.3"
  }
 },
 "nbformat": 4,
 "nbformat_minor": 4
}