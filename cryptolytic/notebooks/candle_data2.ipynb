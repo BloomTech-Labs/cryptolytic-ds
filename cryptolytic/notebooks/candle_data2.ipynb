{
 "cells": [
  {
   "cell_type": "code",
   "execution_count": 1,
   "metadata": {},
   "outputs": [
    {
     "name": "stdout",
     "output_type": "stream",
     "text": [
      "/home/me/Documents/Git/Lambda-School-Labs/cryptolytic-ds\n"
     ]
    },
    {
     "data": {
      "text/plain": [
       "'/home/me/Documents/Git/Lambda-School-Labs/cryptolytic-ds'"
      ]
     },
     "execution_count": 1,
     "metadata": {},
     "output_type": "execute_result"
    }
   ],
   "source": [
    "%load_ext autoreload\n",
    "%autoreload 2\n",
    "%cd ../..\n",
    "# temporary\n",
    "#%cd cryptolytic-ds\n",
    "%pwd"
   ]
  },
  {
   "cell_type": "code",
   "execution_count": 2,
   "metadata": {},
   "outputs": [],
   "source": [
    "from cryptolytic.data import historical, sql\n",
    "from cryptolytic import start\n",
    "start.init()"
   ]
  },
  {
   "cell_type": "code",
   "execution_count": 3,
   "metadata": {},
   "outputs": [
    {
     "data": {
      "text/plain": [
       "['__builtins__',\n",
       " '__cached__',\n",
       " '__doc__',\n",
       " '__file__',\n",
       " '__loader__',\n",
       " '__name__',\n",
       " '__package__',\n",
       " '__spec__',\n",
       " 'add_candle_data_to_table',\n",
       " 'candlestick_to_sql',\n",
       " 'check_candle_table',\n",
       " 'check_tables',\n",
       " 'create_candle_table',\n",
       " 'drop_candle_table',\n",
       " 'get_credentials',\n",
       " 'get_latest_date',\n",
       " 'get_some_candles',\n",
       " 'get_table_columns',\n",
       " 'get_table_schema',\n",
       " 'historical',\n",
       " 'json',\n",
       " 'os',\n",
       " 'pd',\n",
       " 'ps',\n",
       " 'repeat',\n",
       " 'sql_error',\n",
       " 'time']"
      ]
     },
     "execution_count": 3,
     "metadata": {},
     "output_type": "execute_result"
    }
   ],
   "source": [
    "dir(sql)"
   ]
  },
  {
   "cell_type": "code",
   "execution_count": 4,
   "metadata": {},
   "outputs": [
    {
     "data": {
      "text/plain": [
       "1546780800"
      ]
     },
     "execution_count": 4,
     "metadata": {},
     "output_type": "execute_result"
    }
   ],
   "source": [
    "sql.get_latest_date('bitfinex', 'btc_usd')"
   ]
  },
  {
   "cell_type": "code",
   "execution_count": null,
   "metadata": {},
   "outputs": [],
   "source": []
  },
  {
   "cell_type": "code",
   "execution_count": null,
   "metadata": {
    "scrolled": false
   },
   "outputs": [
    {
     "name": "stdout",
     "output_type": "stream",
     "text": [
      "bitfinex bitfinex btc_usd\n",
      "No latest date\n",
      "bitfinex\n",
      "btc_usd\n",
      "https://api-pub.bitfinex.com/v2/candles/trade:5m:tBTCUSD/hist?limit=100&sort=-1\n",
      "2019-01-01 02:20:00\n",
      "bitfinex bitfinex eth_btc\n",
      "No latest date\n",
      "bitfinex\n",
      "eth_btc\n",
      "https://api-pub.bitfinex.com/v2/candles/trade:5m:tETHBTC/hist?limit=100&sort=-1\n",
      "2019-01-01 02:20:00\n",
      "hitbtc hitbtc btc_usd\n",
      "No latest date\n",
      "hitbtc\n",
      "btc_usd\n",
      "https://api.hitbtc.com/api/2/public/candles/BTCUSD?period=M5&from=1546300800&limit=100\n",
      "2019-01-01 02:20:00\n",
      "hitbtc hitbtc eth_btc\n",
      "No latest date\n",
      "hitbtc\n",
      "eth_btc\n",
      "https://api.hitbtc.com/api/2/public/candles/ETHBTC?period=M5&from=1546300800&limit=100\n",
      "2019-01-01 02:20:00\n",
      "coincap binance btc_usdt\n",
      "No latest date\n",
      "coincap\n",
      "btc_usdt\n",
      "http://api.coincap.io/v2/candles?exchange=binance&interval=m5&baseId=bitcoin&quoteId=tether&start=1546300800000&end=1546330800000\n",
      "2019-01-01 02:20:00\n",
      "coincap binance eth_btc\n",
      "No latest date\n",
      "coincap\n",
      "eth_btc\n",
      "http://api.coincap.io/v2/candles?exchange=binance&interval=m5&baseId=ethereum&quoteId=bitcoin&start=1546300800000&end=1546330800000\n",
      "2019-01-01 02:20:00\n",
      "bitfinex bitfinex btc_usd\n",
      "bitfinex\n",
      "btc_usd\n",
      "https://api-pub.bitfinex.com/v2/candles/trade:5m:tBTCUSD/hist?limit=100&sort=-1\n",
      "2019-01-01 10:40:00\n",
      "bitfinex bitfinex eth_btc\n",
      "bitfinex\n",
      "eth_btc\n",
      "https://api-pub.bitfinex.com/v2/candles/trade:5m:tETHBTC/hist?limit=100&sort=-1\n",
      "2019-01-01 10:40:00\n",
      "hitbtc hitbtc btc_usd\n",
      "hitbtc\n",
      "btc_usd\n",
      "https://api.hitbtc.com/api/2/public/candles/BTCUSD?period=M5&from=1546330800&limit=100\n",
      "2019-01-01 10:40:00\n",
      "hitbtc hitbtc eth_btc\n"
     ]
    }
   ],
   "source": [
    "historical.live_update()"
   ]
  },
  {
   "cell_type": "code",
   "execution_count": null,
   "metadata": {},
   "outputs": [],
   "source": [
    "historical."
   ]
  },
  {
   "cell_type": "code",
   "execution_count": null,
   "metadata": {},
   "outputs": [],
   "source": [
    "import pandas as pd\n",
    "df = sql.get_some_candles(n=1000000)\n",
    "df['timestamp'] = pd.to_datetime(df['timestamp'], unit='s', infer_datetime_format=True)\n",
    "df.head()"
   ]
  },
  {
   "cell_type": "code",
   "execution_count": null,
   "metadata": {},
   "outputs": [],
   "source": [
    "bitfinex = df[df['exchange'] == 'bitfinex']\n",
    "hitbtc = df[df['exchange'] == 'hitbtc']\n",
    "coincap = df[df['api'] == 'coincap']"
   ]
  },
  {
   "cell_type": "code",
   "execution_count": null,
   "metadata": {},
   "outputs": [],
   "source": [
    "df.api.unique()"
   ]
  },
  {
   "cell_type": "code",
   "execution_count": null,
   "metadata": {},
   "outputs": [],
   "source": [
    "df.describe()"
   ]
  },
  {
   "cell_type": "code",
   "execution_count": null,
   "metadata": {},
   "outputs": [],
   "source": [
    "bitfinex.describe()"
   ]
  },
  {
   "cell_type": "code",
   "execution_count": null,
   "metadata": {},
   "outputs": [],
   "source": [
    "hitbtc.describe()"
   ]
  },
  {
   "cell_type": "code",
   "execution_count": null,
   "metadata": {},
   "outputs": [],
   "source": [
    "coincap.describe()"
   ]
  },
  {
   "cell_type": "code",
   "execution_count": null,
   "metadata": {},
   "outputs": [],
   "source": [
    "len(bitfinex['timestamp'].unique())"
   ]
  },
  {
   "cell_type": "code",
   "execution_count": null,
   "metadata": {},
   "outputs": [],
   "source": [
    "import time"
   ]
  },
  {
   "cell_type": "code",
   "execution_count": null,
   "metadata": {},
   "outputs": [],
   "source": [
    "#df2 = df[(df['timestamp'] > '2019-05-16') & (df['timestamp'] < '2019-05-18')].set_index('timestamp').drop(['exchange', 'trading_pair', 'api'], axis=1)\n",
    "df2 = df.set_index('timestamp')"
   ]
  },
  {
   "cell_type": "code",
   "execution_count": null,
   "metadata": {},
   "outputs": [],
   "source": [
    "df2.head()"
   ]
  },
  {
   "cell_type": "code",
   "execution_count": null,
   "metadata": {},
   "outputs": [],
   "source": [
    "df2.head()"
   ]
  },
  {
   "cell_type": "code",
   "execution_count": null,
   "metadata": {},
   "outputs": [],
   "source": [
    "df2.tail()"
   ]
  },
  {
   "cell_type": "code",
   "execution_count": null,
   "metadata": {},
   "outputs": [],
   "source": [
    "sql."
   ]
  },
  {
   "cell_type": "code",
   "execution_count": null,
   "metadata": {},
   "outputs": [],
   "source": [
    "df2.index"
   ]
  },
  {
   "cell_type": "code",
   "execution_count": null,
   "metadata": {},
   "outputs": [],
   "source": [
    "# I'm guessing the reason there are large skips sometimes is because \n",
    "# the timestamps get desynced. Need to fix that. \n",
    "import plotly.graph_objects as go \n",
    "import plotly\n",
    "plotly.offline.init_notebook_mode()\n",
    "from cryptolytic.data import historical, sql\n",
    "fig = go.Figure(data=[go.Candlestick(\n",
    "                        x=df2.index,\n",
    "                        open=df2['open'],\n",
    "                        close=df2['close'],\n",
    "                        high=df2['high'],\n",
    "                        low=df2['low'])])\n",
    "fig.show()\n",
    "plotly.offline.iplot(fig)"
   ]
  },
  {
   "cell_type": "code",
   "execution_count": null,
   "metadata": {},
   "outputs": [],
   "source": []
  },
  {
   "cell_type": "code",
   "execution_count": null,
   "metadata": {},
   "outputs": [],
   "source": [
    "from itertools import repeat\n",
    "\"(\"+\",\".join(repeat(\"%s\", 10))+\")\""
   ]
  },
  {
   "cell_type": "code",
   "execution_count": null,
   "metadata": {},
   "outputs": [],
   "source": [
    "df"
   ]
  },
  {
   "cell_type": "code",
   "execution_count": null,
   "metadata": {},
   "outputs": [],
   "source": [
    "df.nunique()"
   ]
  },
  {
   "cell_type": "code",
   "execution_count": null,
   "metadata": {},
   "outputs": [],
   "source": [
    "sql.get_table_columns('candlesticks')"
   ]
  },
  {
   "cell_type": "code",
   "execution_count": null,
   "metadata": {},
   "outputs": [],
   "source": [
    "# sql.create_candle_table()"
   ]
  },
  {
   "cell_type": "code",
   "execution_count": null,
   "metadata": {},
   "outputs": [],
   "source": [
    "# historical.live_update()"
   ]
  },
  {
   "cell_type": "code",
   "execution_count": 6,
   "metadata": {},
   "outputs": [],
   "source": [
    "sql.drop_candle_table()"
   ]
  },
  {
   "cell_type": "code",
   "execution_count": 7,
   "metadata": {},
   "outputs": [],
   "source": [
    "sql.create_candle_table()"
   ]
  },
  {
   "cell_type": "code",
   "execution_count": null,
   "metadata": {},
   "outputs": [],
   "source": []
  }
 ],
 "metadata": {
  "kernelspec": {
   "display_name": "Python 3",
   "language": "python",
   "name": "python3"
  },
  "language_info": {
   "codemirror_mode": {
    "name": "ipython",
    "version": 3
   },
   "file_extension": ".py",
   "mimetype": "text/x-python",
   "name": "python",
   "nbconvert_exporter": "python",
   "pygments_lexer": "ipython3",
   "version": "3.7.3"
  }
 },
 "nbformat": 4,
 "nbformat_minor": 4
}
